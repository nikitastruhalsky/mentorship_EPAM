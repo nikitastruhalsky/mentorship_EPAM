{
 "cells": [
  {
   "cell_type": "markdown",
   "id": "cd5ea736",
   "metadata": {},
   "source": [
    "# Experiments with linear models for each family with different strategies for lags"
   ]
  },
  {
   "cell_type": "code",
   "execution_count": null,
   "id": "81ff8702",
   "metadata": {},
   "outputs": [],
   "source": [
    "import os\n",
    "os.chdir(os.environ['PROJECT_ROOT'])"
   ]
  },
  {
   "cell_type": "code",
   "execution_count": null,
   "id": "ad894fd7",
   "metadata": {},
   "outputs": [],
   "source": [
    "import warnings\n",
    "import numpy as np\n",
    "import pandas as pd\n",
    "import matplotlib.pyplot as plt\n",
    "import matplotlib.dates as mdates\n",
    "import seaborn as sns\n",
    "import sklearn\n",
    "import pdpipe as pdp\n",
    "import statsmodels.api as sm\n",
    "from pandas.core.common import SettingWithCopyWarning\n",
    "from sklearn.base import BaseEstimator, RegressorMixin, MetaEstimatorMixin, TransformerMixin, clone\n",
    "from datetime import timedelta\n",
    "from statistics import median, mean, stdev\n",
    "from pdpipe import df\n",
    "from pathlib import Path\n",
    "from sklearn.linear_model import LinearRegression, Ridge, Lasso\n",
    "from sklearn.preprocessing import OneHotEncoder, MinMaxScaler\n",
    "from sklearn.pipeline import make_pipeline\n",
    "from sklearn.model_selection import cross_validate, cross_val_score, TimeSeriesSplit, GridSearchCV\n",
    "from sklearn.compose import ColumnTransformer\n",
    "from sklearn.multioutput import MultiOutputRegressor, RegressorChain\n",
    "from sklearn.metrics import mean_squared_log_error, mean_squared_error, mean_absolute_error, r2_score, mean_absolute_percentage_error\n",
    "from mentorship.ml.models.reg import PositiveRegressor\n",
    "from mentorship.ml.models.common import SplitPipeline\n",
    "from mentorship.ml.models.kaggle.storesales.linear import PipelineLinearV1\n",
    "from mentorship.ml.models.kaggle.storesales.ridge import PipelineRidgeV1\n",
    "from mentorship.ml.models.kaggle.storesales.lasso import PipelineLassoV1\n",
    "from mentorship.ml.models.kaggle.storesales.elasticnet import PipelineElasticNetV1\n",
    "from mentorship.features.kaggle.storesales.etl import ETLTransformer\n",
    "from mentorship.ml.cv.split import DateTimeSeriesSplit\n",
    "from mentorship.ml.cv.util import print_cv_test_scores\n",
    "\n",
    "\n",
    "%matplotlib inline\n",
    "warnings.simplefilter(action='ignore', category=FutureWarning)\n",
    "warnings.simplefilter(action=\"ignore\", category=SettingWithCopyWarning)"
   ]
  },
  {
   "cell_type": "code",
   "execution_count": null,
   "id": "e13895e1",
   "metadata": {},
   "outputs": [],
   "source": [
    "CV_METRICS = [\n",
    "    'neg_mean_squared_log_error',\n",
    "    'neg_root_mean_squared_error',\n",
    "    'neg_mean_absolute_error',\n",
    "    # 'neg_mean_absolute_percentage_error',\n",
    "    'r2'\n",
    "]"
   ]
  },
  {
   "cell_type": "code",
   "execution_count": null,
   "id": "7829063f",
   "metadata": {},
   "outputs": [],
   "source": [
    "DATA_ROOT = Path('data', 'kaggle', 'store-sales-time-series-forecasting')"
   ]
  },
  {
   "cell_type": "code",
   "execution_count": null,
   "id": "ad36a838",
   "metadata": {},
   "outputs": [],
   "source": [
    "train = pd.read_csv(DATA_ROOT / 'train.csv')\n",
    "train.head()"
   ]
  },
  {
   "cell_type": "markdown",
   "id": "420c6eb3",
   "metadata": {},
   "source": [
    "# 1. Linear Regression with 'store_nbr', 'dcoilwtico' and 'lag' feature (1 day) (recursive strategy)"
   ]
  },
  {
   "cell_type": "code",
   "execution_count": null,
   "id": "e2727747",
   "metadata": {},
   "outputs": [],
   "source": [
    "X = train.copy().drop(columns='onpromotion')\n",
    "train_transformer = ETLTransformer(date_column='date', id_column='id')\n",
    "X = train_transformer.transform(X)[0]"
   ]
  },
  {
   "cell_type": "code",
   "execution_count": null,
   "id": "84d70d1c",
   "metadata": {},
   "outputs": [],
   "source": [
    "X['lag_1'] = X.groupby(['store_nbr', 'family'])['sales'].shift()\n",
    "y = X['sales'].copy()\n",
    "X = X.drop(columns='sales')\n",
    "inds = X.loc[pd.isna(X['dcoilwtico']), :].index\n",
    "X = X[X['dcoilwtico'].notna()]\n",
    "X = X.reset_index(drop=True)\n",
    "y = y.drop(labels=inds)\n",
    "y = y.reset_index(drop=True)"
   ]
  },
  {
   "cell_type": "code",
   "execution_count": null,
   "id": "62ef9f10",
   "metadata": {},
   "outputs": [],
   "source": [
    "X = pd.get_dummies(X, columns=['store_nbr'], drop_first=True)\n",
    "lag_1 = X['lag_1'].copy()\n",
    "X = X.drop(columns=['lag_1'])\n",
    "X['lag_1'] = lag_1\n",
    "X.head()"
   ]
  },
  {
   "cell_type": "code",
   "execution_count": null,
   "id": "5c609c9a",
   "metadata": {},
   "outputs": [],
   "source": [
    "tscv = TimeSeriesSplit(gap=0, max_train_size=365 * 33 * 54, n_splits=4, test_size=16 * 33 * 54)"
   ]
  },
  {
   "cell_type": "code",
   "execution_count": null,
   "id": "344ee17d",
   "metadata": {},
   "outputs": [],
   "source": [
    "scores = {'RMSLE': [], 'RMSE': [], 'MAE': [], 'R2': []}\n",
    "\n",
    "for train_indices, test_indices in tscv.split(X, y):\n",
    "    X_train = X.iloc[train_indices]\n",
    "    y_train = y.iloc[train_indices]\n",
    "    X_test = X.iloc[test_indices]\n",
    "    y_test = y.iloc[test_indices]\n",
    "\n",
    "    X_test.loc[:, 'pred'] = 0\n",
    "    for current_family in X['family'].unique():\n",
    "        current_family_indices_train = X_train[X_train['family'] == current_family].index\n",
    "        X_train_current_family = X_train[X_train['family'] == current_family].drop(columns=['family'])\n",
    "        y_train_current_family = y_train.loc[current_family_indices_train]\n",
    "        scaler = MinMaxScaler()\n",
    "        X_train_current_family[['dcoilwtico']] = scaler.fit_transform(X_train_current_family[['dcoilwtico']])\n",
    "        model = PositiveRegressor(LinearRegression())\n",
    "        model.fit(X_train_current_family.drop(columns=['date']), y_train_current_family)\n",
    "        \n",
    "        \n",
    "        current_family_indices_test = X_test[X_test['family'] == current_family].index\n",
    "        X_test_current_family = X_test[X_test['family'] == current_family].drop(columns=['family'])\n",
    "        X_test_current_family[['dcoilwtico']] = scaler.transform(X_test_current_family[['dcoilwtico']])\n",
    "\n",
    "        previous_day = X_test_current_family['date'].unique()[0]\n",
    "        for current_day in X_test_current_family['date'].unique()[1:]:\n",
    "            X_test_for_current_day = X_test_current_family[X_test_current_family['date'] == previous_day].drop(columns=['date', 'pred'])\n",
    "            predictions = model.predict(X_test_for_current_day)\n",
    "            predictions[predictions < 0] = 0\n",
    "    \n",
    "            #######\n",
    "            X_test_current_family.loc[X_test_current_family['date'] == current_day, 'lag_1'] = predictions\n",
    "            #######\n",
    "            \n",
    "            previous_day = current_day\n",
    "            \n",
    "        \n",
    "        y_pred_current_family = model.predict(X_test_current_family.drop(columns=['date', 'pred']))\n",
    "        y_pred_current_family[y_pred_current_family < 0] = 0\n",
    "        X_test.loc[current_family_indices_test, 'pred'] = y_pred_current_family\n",
    "        \n",
    "    y_pred = X_test['pred'].copy()\n",
    "    X_test = X_test.drop(columns=['pred'])\n",
    "    scores['RMSLE'].append(np.sqrt(mean_squared_log_error(y_test, y_pred)))\n",
    "    scores['RMSE'].append(mean_squared_error(y_test, y_pred, squared=False))\n",
    "    scores['MAE'].append(mean_absolute_error(y_test, y_pred))\n",
    "    scores['R2'].append(r2_score(y_test, y_pred))\n",
    "\n",
    "for metric_name, metric_values in scores.items():\n",
    "    print(f'{metric_name}: {mean(metric_values):.3f} ± {stdev(metric_values):.3f}')"
   ]
  },
  {
   "cell_type": "code",
   "execution_count": null,
   "id": "18c6c9d1",
   "metadata": {},
   "outputs": [],
   "source": [
    "keys = np.arange(1, 17)\n",
    "cv_scores = {key: [] for key in keys}\n",
    "\n",
    "for train_indices, test_indices in tscv.split(X, y):\n",
    "    X_train = X.iloc[train_indices]\n",
    "    y_train = y.iloc[train_indices]\n",
    "    X_test = X.iloc[test_indices]\n",
    "    y_test = y.iloc[test_indices]\n",
    "\n",
    "    for i, current_day in enumerate(X_test['date'].unique()):\n",
    "        print('Day: ', i + 1)\n",
    "        current_day_indices_test = X_test[X_test['date'] == current_day].index\n",
    "        X_test_current_day = X_test[X_test['date'] == current_day]\n",
    "        y_test_current_day = y_test.loc[current_day_indices_test]\n",
    "        \n",
    "        X_test_current_day.loc[:, 'pred'] = 0\n",
    "        for current_family in X['family'].unique():\n",
    "            current_family_indices_train = X_train[X_train['family'] == current_family].index\n",
    "            X_train_current_family = X_train[X_train['family'] == current_family].drop(columns=['family'])\n",
    "            y_train_current_family = y_train.loc[current_family_indices_train]\n",
    "            scaler = MinMaxScaler()\n",
    "            X_train_current_family[['dcoilwtico']] = scaler.fit_transform(X_train_current_family[['dcoilwtico']])\n",
    "            \n",
    "            model = PositiveRegressor(LinearRegression())\n",
    "            model.fit(X_train_current_family.drop(columns=['date']), y_train_current_family)\n",
    "        \n",
    "            current_family_indices_test = X_test_current_day[X_test_current_day['family'] == current_family].index\n",
    "            X_test_current_family = X_test_current_day[X_test_current_day['family'] == current_family].drop(columns=['family'])\n",
    "            X_test_current_family[['dcoilwtico']] = scaler.transform(X_test_current_family[['dcoilwtico']])\n",
    "\n",
    "            previous_day = X_test_current_family['date'].unique()[0]\n",
    "            for current_day in X_test_current_family['date'].unique()[1:]:\n",
    "                X_test_for_current_day = X_test_current_family[X_test_current_family['date'] == previous_day].drop(columns=['pred', 'date'])\n",
    "                predictions = model.predict(X_test_for_current_day)\n",
    "                predictions[predictions < 0] = 0\n",
    "    \n",
    "                #######\n",
    "                X_test_current_family.loc[X_test_current_family['date'] == current_day, 'lag_1'] = predictions\n",
    "                #######\n",
    "            \n",
    "                previous_day = current_day\n",
    "            \n",
    "        \n",
    "            y_pred_current_family = model.predict(X_test_current_family.drop(columns=['date', 'pred']))\n",
    "            y_pred_current_family[y_pred_current_family < 0] = 0\n",
    "            X_test_current_day.loc[current_family_indices_test, 'pred'] = y_pred_current_family\n",
    "        \n",
    "        y_pred = X_test_current_day['pred'].copy()\n",
    "        X_test_current_day = X_test_current_day.drop(columns=['pred'])\n",
    "        cv_scores[i + 1].append(np.sqrt(mean_squared_log_error(y_test_current_day, y_pred)))\n",
    "\n",
    "for metric_name, metric_values in scores.items():\n",
    "    print(f'{metric_name}: {mean(metric_values):.3f} ± {stdev(metric_values):.3f}')"
   ]
  },
  {
   "cell_type": "code",
   "execution_count": null,
   "id": "2061fd1b",
   "metadata": {},
   "outputs": [],
   "source": [
    "plt.figure(figsize=(10, 10))\n",
    "X=list(cv_scores.keys())\n",
    "y=[mean(cv_scores[key]) for key in X]\n",
    "plt.plot(X, y)"
   ]
  },
  {
   "cell_type": "code",
   "execution_count": null,
   "id": "0a319bdb",
   "metadata": {},
   "outputs": [],
   "source": [
    "first_day_of_last_year = pd.to_datetime(X['date'].unique()[-1]) - timedelta(days=365)\n",
    "indexer = X[X['date'] >= str(first_day_of_last_year).split(' ')[0]].index\n",
    "X_train = X[X['date'] >= str(first_day_of_last_year).split(' ')[0]]\n",
    "y_train = y.loc[indexer]"
   ]
  },
  {
   "cell_type": "code",
   "execution_count": null,
   "id": "f6e365a2",
   "metadata": {},
   "outputs": [],
   "source": [
    "test_data = pd.read_csv(DATA_ROOT / 'test.csv').drop(columns=['onpromotion'])\n",
    "test_transformer = ETLTransformer(date_column='date', id_column='id')\n",
    "test_data = test_transformer.transform(test_data)[0]\n",
    "test_data = pd.get_dummies(test_data, columns=['store_nbr'], drop_first=True)\n",
    "test_data['lag_1'] = 0\n",
    "test_data.loc[test_data[test_data['date'] == test_data['date'].unique()[0]].index, 'lag_1'] = y_train.loc[X_train['date'] == X_train['date'].unique()[-1]].tolist()"
   ]
  },
  {
   "cell_type": "code",
   "execution_count": null,
   "id": "728087e3",
   "metadata": {},
   "outputs": [],
   "source": [
    "submission = pd.read_csv(DATA_ROOT / 'sample_submission.csv')"
   ]
  },
  {
   "cell_type": "code",
   "execution_count": null,
   "id": "859c7e0f",
   "metadata": {},
   "outputs": [],
   "source": [
    "for current_family in X['family'].unique():\n",
    "    current_family_indices_train = X_train[X_train['family'] == current_family].index\n",
    "    X_train_current_family = X_train[X_train['family'] == current_family].drop(columns=['family'])\n",
    "    y_train_current_family = y_train.loc[current_family_indices_train]\n",
    "    scaler = MinMaxScaler()\n",
    "    X_train_current_family[['dcoilwtico']] = scaler.fit_transform(X_train_current_family[['dcoilwtico']])\n",
    "    \n",
    "    model = PositiveRegressor(LinearRegression())\n",
    "    model.fit(X_train_current_family.drop(columns=['date']), y_train_current_family)\n",
    "    \n",
    "    X_test_current_family = test_data[test_data['family'] == current_family].drop(columns=['family'])\n",
    "    \n",
    "    X_test_current_family[['dcoilwtico']] = scaler.transform(X_test_current_family[['dcoilwtico']])    \n",
    "    \n",
    "    previous_day = X_test_current_family['date'].unique()[0]\n",
    "    for current_day in X_test_current_family['date'].unique()[1:]:\n",
    "        X_test_for_current_day = X_test_current_family[X_test_current_family['date'] == previous_day].drop('date', axis=1)\n",
    "        predictions = model.predict(X_test_for_current_day)\n",
    "        predictions[predictions < 0] = 0\n",
    "        X_test_current_family.loc[X_test_current_family[X_test_current_family['date'] == current_day].index, 'lag_1'] = predictions\n",
    "        previous_day = current_day\n",
    "            \n",
    "    X_test_current_family = X_test_current_family.drop(columns=['date'])\n",
    "        \n",
    "    y_pred_current_family = model.predict(X_test_current_family)\n",
    "    y_pred_current_family[y_pred_current_family < 0] = 0\n",
    "        \n",
    "    test_indices = test_data[test_data['family'] == current_family].index\n",
    "    submission.loc[test_indices, 'sales'] = y_pred_current_family"
   ]
  },
  {
   "cell_type": "code",
   "execution_count": null,
   "id": "86cc4b67",
   "metadata": {},
   "outputs": [],
   "source": [
    "submission.to_csv('./data/kaggle/store-sales-time-series-forecasting/linreg_dcoilwtico_and_lag_one.csv', index = False)"
   ]
  },
  {
   "cell_type": "code",
   "execution_count": null,
   "id": "36f41104",
   "metadata": {},
   "outputs": [],
   "source": []
  },
  {
   "cell_type": "code",
   "execution_count": null,
   "id": "6d30964c",
   "metadata": {},
   "outputs": [],
   "source": []
  },
  {
   "cell_type": "code",
   "execution_count": null,
   "id": "dca8ac8c",
   "metadata": {},
   "outputs": [],
   "source": [
    "X = train.copy()\n",
    "\n",
    "first_day_of_last_year = pd.to_datetime(X['date'].unique()[-1]) - timedelta(days=365)\n",
    "indexer = X[X['date'] >= str(first_day_of_last_year).split(' ')[0]].index\n",
    "X_train = X[X['date'] >= str(first_day_of_last_year).split(' ')[0]]\n",
    "\n",
    "X_train = X_train.groupby(['family', 'date'])['sales'].mean()\n",
    "\n",
    "for i, current_family in enumerate(X['family'].unique()):\n",
    "    current_family_oil = X_train.loc[current_family].reset_index()['sales']\n",
    "    sm.graphics.tsa.plot_pacf(current_family_oil, lags=16)\n",
    "    plt.title(current_family)\n",
    "    plt.show()"
   ]
  },
  {
   "cell_type": "markdown",
   "id": "f3d8a947",
   "metadata": {},
   "source": [
    "# 2. Linear Regression with 'store_nbr', 'dcoilwtico' and 'lag' feature (1, 2, 6, 7 and 14 days) (recursive strategy)"
   ]
  },
  {
   "cell_type": "code",
   "execution_count": null,
   "id": "6eb3c48c",
   "metadata": {},
   "outputs": [],
   "source": [
    "X = train.copy().drop(columns='onpromotion')\n",
    "train_transformer = ETLTransformer(date_column='date', id_column='id')\n",
    "X = train_transformer.transform(X)[0]"
   ]
  },
  {
   "cell_type": "code",
   "execution_count": null,
   "id": "a443f6fd",
   "metadata": {},
   "outputs": [],
   "source": [
    "X['lag_1'] = X.groupby(['store_nbr', 'family'])['sales'].shift(1)\n",
    "X['lag_2'] = X.groupby(['store_nbr', 'family'])['sales'].shift(2)\n",
    "X['lag_6'] = X.groupby(['store_nbr', 'family'])['sales'].shift(6)\n",
    "X['lag_7'] = X.groupby(['store_nbr', 'family'])['sales'].shift(7)\n",
    "X['lag_14'] = X.groupby(['store_nbr', 'family'])['sales'].shift(14)\n",
    "X = X[X['dcoilwtico'].notna()]\n",
    "X = X.reset_index(drop=True)"
   ]
  },
  {
   "cell_type": "code",
   "execution_count": null,
   "id": "e12e7500",
   "metadata": {},
   "outputs": [],
   "source": [
    "X = pd.get_dummies(X, columns=['store_nbr'], drop_first=True)\n",
    "\n",
    "# to place 'lag' features in the end of the DataFrame\n",
    "lag_1 = X['lag_1'].copy()\n",
    "lag_2 = X['lag_2'].copy()\n",
    "lag_6 = X['lag_6'].copy()\n",
    "lag_7 = X['lag_7'].copy()\n",
    "lag_14 = X['lag_14'].copy()\n",
    "X = X.drop(columns=['lag_1', 'lag_2', 'lag_6', 'lag_7', 'lag_14'])\n",
    "X['lag_1'] = lag_1\n",
    "X['lag_2'] = lag_2\n",
    "X['lag_6'] = lag_6\n",
    "X['lag_7'] = lag_7\n",
    "X['lag_14'] = lag_14\n",
    "X.head()"
   ]
  },
  {
   "cell_type": "code",
   "execution_count": null,
   "id": "f671353f",
   "metadata": {},
   "outputs": [],
   "source": [
    "y = X['sales'].copy()\n",
    "X = X.drop(columns=['sales'])"
   ]
  },
  {
   "cell_type": "code",
   "execution_count": null,
   "id": "d845b9be",
   "metadata": {},
   "outputs": [],
   "source": [
    "tscv = TimeSeriesSplit(gap=0, max_train_size=365 * 33 * 54, n_splits=4, test_size=16 * 33 * 54)"
   ]
  },
  {
   "cell_type": "code",
   "execution_count": null,
   "id": "f4bf4ba8",
   "metadata": {},
   "outputs": [],
   "source": [
    "scores = {'RMSLE': [], 'RMSE': [], 'MAE': [], 'R2': []}\n",
    "\n",
    "for train_indices, test_indices in tscv.split(X, y):\n",
    "    X_train = X.iloc[train_indices]\n",
    "    y_train = y.iloc[train_indices]\n",
    "    X_test = X.iloc[test_indices]\n",
    "    y_test = y.iloc[test_indices]\n",
    "    \n",
    "    X_test.loc[:, 'pred'] = 0\n",
    "    for current_family in X['family'].unique():\n",
    "        current_family_indices_train = X_train[X_train['family'] == current_family].index\n",
    "        X_train_current_family = X_train[X_train['family'] == current_family].drop(columns=['family'])\n",
    "        y_train_current_family = y_train.loc[current_family_indices_train]\n",
    "        scaler = MinMaxScaler()\n",
    "        X_train_current_family[['dcoilwtico']] = scaler.fit_transform(X_train_current_family[['dcoilwtico']])\n",
    "        \n",
    "        model = PositiveRegressor(LinearRegression())\n",
    "        model.fit(X_train_current_family.drop(columns=['date']), y_train_current_family)\n",
    "        \n",
    "        current_family_indices_test = X_test[X_test['family'] == current_family].index\n",
    "        X_test_current_family = X_test[X_test['family'] == current_family].drop(columns=['family'])\n",
    "        y_test_current_family = y_test.loc[current_family_indices_test]\n",
    "        X_test_current_family[['dcoilwtico']] = scaler.transform(X_test_current_family[['dcoilwtico']])\n",
    "                  \n",
    "\n",
    "        for i, current_day in enumerate(X_test_current_family['date'].unique()[:2]):\n",
    "            current_day_plus_one = X_test_current_family['date'].unique()[i + 1]\n",
    "            current_day_plus_two = X_test_current_family['date'].unique()[i + 2]\n",
    "            current_day_plus_six = X_test_current_family['date'].unique()[i + 6]\n",
    "            current_day_plus_seven = X_test_current_family['date'].unique()[i + 7]\n",
    "            current_day_plus_fourteen = X_test_current_family['date'].unique()[i + 14]\n",
    "            X_test_for_current_day = X_test_current_family[X_test_current_family['date'] == current_day].drop(columns=['date', 'pred'])\n",
    "            predictions = model.predict(X_test_for_current_day)\n",
    "            predictions[predictions < 0] = 0\n",
    "            X_test_current_family.loc[X_test_current_family[X_test_current_family['date'] == current_day_plus_one].index, 'lag_1'] = predictions\n",
    "            X_test_current_family.loc[X_test_current_family[X_test_current_family['date'] == current_day_plus_two].index, 'lag_2'] = predictions\n",
    "            X_test_current_family.loc[X_test_current_family[X_test_current_family['date'] == current_day_plus_six].index, 'lag_6'] = predictions\n",
    "            X_test_current_family.loc[X_test_current_family[X_test_current_family['date'] == current_day_plus_seven].index, 'lag_7'] = predictions\n",
    "            X_test_current_family.loc[X_test_current_family[X_test_current_family['date'] == current_day_plus_fourteen].index, 'lag_14'] = predictions\n",
    "        \n",
    "    \n",
    "        for i, current_day in enumerate(X_test_current_family['date'].unique()[2:9]):\n",
    "            current_day_plus_one = X_test_current_family['date'].unique()[i + 1]\n",
    "            current_day_plus_two = X_test_current_family['date'].unique()[i + 2]\n",
    "            current_day_plus_six = X_test_current_family['date'].unique()[i + 6]\n",
    "            current_day_plus_seven = X_test_current_family['date'].unique()[i + 7]\n",
    "            X_test_for_current_day = X_test_current_family[X_test_current_family['date'] == current_day].drop(columns=['date', 'pred'])\n",
    "            predictions = model.predict(X_test_for_current_day)\n",
    "            predictions[predictions < 0] = 0\n",
    "            X_test_current_family.loc[X_test_current_family[X_test_current_family['date'] == current_day_plus_one].index, 'lag_1'] = predictions\n",
    "            X_test_current_family.loc[X_test_current_family[X_test_current_family['date'] == current_day_plus_two].index, 'lag_2'] = predictions\n",
    "            X_test_current_family.loc[X_test_current_family[X_test_current_family['date'] == current_day_plus_six].index, 'lag_6'] = predictions\n",
    "            X_test_current_family.loc[X_test_current_family[X_test_current_family['date'] == current_day_plus_seven].index, 'lag_7'] = predictions\n",
    "\n",
    "            \n",
    "        for i, current_day in enumerate(X_test_current_family['date'].unique()[9:10]):\n",
    "            current_day_plus_one = X_test_current_family['date'].unique()[i + 1]\n",
    "            current_day_plus_two = X_test_current_family['date'].unique()[i + 2]\n",
    "            current_day_plus_six = X_test_current_family['date'].unique()[i + 6]\n",
    "            X_test_for_current_day = X_test_current_family[X_test_current_family['date'] == current_day].drop(columns=['date', 'pred'])\n",
    "            predictions = model.predict(X_test_for_current_day)\n",
    "            predictions[predictions < 0] = 0\n",
    "            X_test_current_family.loc[X_test_current_family[X_test_current_family['date'] == current_day_plus_one].index, 'lag_1'] = predictions\n",
    "            X_test_current_family.loc[X_test_current_family[X_test_current_family['date'] == current_day_plus_two].index, 'lag_2'] = predictions\n",
    "            X_test_current_family.loc[X_test_current_family[X_test_current_family['date'] == current_day_plus_six].index, 'lag_6'] = predictions\n",
    "\n",
    "            \n",
    "        for i, current_day in enumerate(X_test_current_family['date'].unique()[10:14]):\n",
    "            current_day_plus_one = X_test_current_family['date'].unique()[i + 1]\n",
    "            current_day_plus_two = X_test_current_family['date'].unique()[i + 2]\n",
    "            X_test_for_current_day = X_test_current_family[X_test_current_family['date'] == current_day].drop(columns=['date', 'pred'])\n",
    "            predictions = model.predict(X_test_for_current_day)\n",
    "            predictions[predictions < 0] = 0\n",
    "            X_test_current_family.loc[X_test_current_family[X_test_current_family['date'] == current_day_plus_one].index, 'lag_1'] = predictions\n",
    "            X_test_current_family.loc[X_test_current_family[X_test_current_family['date'] == current_day_plus_two].index, 'lag_2'] = predictions\n",
    "\n",
    "        \n",
    "        for i, current_day in enumerate(X_test_current_family['date'].unique()[14:15]):\n",
    "            current_day_plus_one = X_test_current_family['date'].unique()[i + 1]\n",
    "            X_test_for_current_day = X_test_current_family[X_test_current_family['date'] == current_day].drop(columns=['date', 'pred'])\n",
    "            predictions = model.predict(X_test_for_current_day)\n",
    "            predictions[predictions < 0] = 0\n",
    "            X_test_current_family.loc[X_test_current_family[X_test_current_family['date'] == current_day_plus_one].index, 'lag_1'] = predictions\n",
    "\n",
    "            \n",
    "        y_pred_current_family = model.predict(X_test_current_family.drop(columns=['date', 'pred']))\n",
    "        y_pred_current_family[y_pred_current_family < 0] = 0\n",
    "        X_test.loc[current_family_indices_test, 'pred'] = y_pred_current_family\n",
    "        \n",
    "    y_pred = X_test['pred'].copy()\n",
    "    X_test = X_test.drop(columns=['pred'])\n",
    "    \n",
    "    scores['RMSLE'].append(np.sqrt(mean_squared_log_error(y_test, y_pred)))\n",
    "    scores['RMSE'].append(mean_squared_error(y_test, y_pred, squared=False))\n",
    "    scores['MAE'].append(mean_absolute_error(y_test, y_pred))\n",
    "    scores['R2'].append(r2_score(y_test, y_pred))\n",
    "\n",
    "for metric_name, metric_values in scores.items():\n",
    "    print(f'{metric_name}: {mean(metric_values):.3f} ± {stdev(metric_values):.3f}')"
   ]
  },
  {
   "cell_type": "code",
   "execution_count": null,
   "id": "162731e7",
   "metadata": {},
   "outputs": [],
   "source": [
    "first_day_of_last_year = pd.to_datetime(X['date'].unique()[-1]) - timedelta(days=365)\n",
    "indexer = X[X['date'] >= str(first_day_of_last_year).split(' ')[0]].index\n",
    "X_train = X[X['date'] >= str(first_day_of_last_year).split(' ')[0]]\n",
    "y_train = y.loc[indexer]"
   ]
  },
  {
   "cell_type": "code",
   "execution_count": null,
   "id": "962dddaf",
   "metadata": {},
   "outputs": [],
   "source": [
    "test_data = pd.read_csv(DATA_ROOT / 'test.csv').drop(columns=['onpromotion'])\n",
    "test_transformer = ETLTransformer(date_column='date', id_column='id')\n",
    "test_data = test_transformer.transform(test_data)[0]\n",
    "test_data = pd.get_dummies(test_data, columns=['store_nbr'], drop_first=True)\n",
    "test_data.loc[:, 'lag_1'] = 0\n",
    "test_data.loc[:, 'lag_2'] = 0\n",
    "test_data.loc[:, 'lag_6'] = 0\n",
    "test_data.loc[:, 'lag_7'] = 0\n",
    "test_data.loc[:, 'lag_14'] = 0\n",
    "for i in range(1):\n",
    "    test_data.loc[test_data[test_data['date'] == test_data['date'].unique()[i]].index, 'lag_1'] = y_train.loc[X_train['date'] == X_train['date'].unique()[-(1 - i)]].tolist()\n",
    "\n",
    "for i in range(2):\n",
    "    test_data.loc[test_data[test_data['date'] == test_data['date'].unique()[i]].index, 'lag_2'] = y_train.loc[X_train['date'] == X_train['date'].unique()[-(2 - i)]].tolist()\n",
    "    \n",
    "for i in range(6):\n",
    "    test_data.loc[test_data[test_data['date'] == test_data['date'].unique()[i]].index, 'lag_6'] = y_train.loc[X_train['date'] == X_train['date'].unique()[-(6 - i)]].tolist()\n",
    "    \n",
    "for i in range(7):\n",
    "    test_data.loc[test_data[test_data['date'] == test_data['date'].unique()[i]].index, 'lag_7'] = y_train.loc[X_train['date'] == X_train['date'].unique()[-(7 - i)]].tolist()\n",
    "    \n",
    "for i in range(14):\n",
    "    test_data.loc[test_data[test_data['date'] == test_data['date'].unique()[i]].index, 'lag_14'] = y_train.loc[X_train['date'] == X_train['date'].unique()[-(14 - i)]].tolist()"
   ]
  },
  {
   "cell_type": "code",
   "execution_count": null,
   "id": "b66a55d1",
   "metadata": {},
   "outputs": [],
   "source": [
    "submission = pd.read_csv(DATA_ROOT / 'sample_submission.csv')"
   ]
  },
  {
   "cell_type": "code",
   "execution_count": null,
   "id": "45a77007",
   "metadata": {},
   "outputs": [],
   "source": [
    "for current_family in X['family'].unique():\n",
    "    current_family_indices_train = X_train[X_train['family'] == current_family].index\n",
    "    X_train_current_family = X_train[X_train['family'] == current_family].drop(columns=['family'])\n",
    "    y_train_current_family = y_train.loc[current_family_indices_train]\n",
    "    scaler = MinMaxScaler()\n",
    "    X_train_current_family[['dcoilwtico']] = scaler.fit_transform(X_train_current_family[['dcoilwtico']])\n",
    "    \n",
    "    model = PositiveRegressor(LinearRegression())\n",
    "    model.fit(X_train_current_family.drop(columns=['date']), y_train_current_family)\n",
    "    \n",
    "    X_test_current_family = test_data[test_data['family'] == current_family].drop(columns=['family'])\n",
    "    X_test_current_family[['dcoilwtico']] = scaler.transform(X_test_current_family[['dcoilwtico']])    \n",
    "    \n",
    "    for i, current_day in enumerate(X_test_current_family['date'].unique()[:2]):\n",
    "        current_day_plus_one = X_test_current_family['date'].unique()[i + 1]\n",
    "        current_day_plus_two = X_test_current_family['date'].unique()[i + 2]\n",
    "        current_day_plus_six = X_test_current_family['date'].unique()[i + 6]\n",
    "        current_day_plus_seven = X_test_current_family['date'].unique()[i + 7]\n",
    "        current_day_plus_fourteen = X_test_current_family['date'].unique()[i + 14]\n",
    "        X_test_for_current_day = X_test_current_family[X_test_current_family['date'] == current_day].drop(columns=['date'])\n",
    "        predictions = model.predict(X_test_for_current_day)\n",
    "        predictions[predictions < 0] = 0\n",
    "        X_test_current_family.loc[X_test_current_family[X_test_current_family['date'] == current_day_plus_one].index, 'lag_1'] = predictions\n",
    "        X_test_current_family.loc[X_test_current_family[X_test_current_family['date'] == current_day_plus_two].index, 'lag_2'] = predictions\n",
    "        X_test_current_family.loc[X_test_current_family[X_test_current_family['date'] == current_day_plus_six].index, 'lag_6'] = predictions\n",
    "        X_test_current_family.loc[X_test_current_family[X_test_current_family['date'] == current_day_plus_seven].index, 'lag_7'] = predictions\n",
    "        X_test_current_family.loc[X_test_current_family[X_test_current_family['date'] == current_day_plus_fourteen].index, 'lag_14'] = predictions\n",
    "\n",
    "    \n",
    "    for i, current_day in enumerate(X_test_current_family['date'].unique()[2:9]):\n",
    "        current_day_plus_one = X_test_current_family['date'].unique()[i + 1]\n",
    "        current_day_plus_two = X_test_current_family['date'].unique()[i + 2]\n",
    "        current_day_plus_six = X_test_current_family['date'].unique()[i + 6]\n",
    "        current_day_plus_seven = X_test_current_family['date'].unique()[i + 7]\n",
    "        X_test_for_current_day = X_test_current_family[X_test_current_family['date'] == current_day].drop(columns=['date'])\n",
    "        predictions = model.predict(X_test_for_current_day)\n",
    "        predictions[predictions < 0] = 0\n",
    "        X_test_current_family.loc[X_test_current_family[X_test_current_family['date'] == current_day_plus_one].index, 'lag_1'] = predictions\n",
    "        X_test_current_family.loc[X_test_current_family[X_test_current_family['date'] == current_day_plus_two].index, 'lag_2'] = predictions\n",
    "        X_test_current_family.loc[X_test_current_family[X_test_current_family['date'] == current_day_plus_six].index, 'lag_6'] = predictions\n",
    "        X_test_current_family.loc[X_test_current_family[X_test_current_family['date'] == current_day_plus_seven].index, 'lag_7'] = predictions\n",
    "\n",
    "            \n",
    "    for i, current_day in enumerate(X_test_current_family['date'].unique()[9:10]):\n",
    "        current_day_plus_one = X_test_current_family['date'].unique()[i + 1]\n",
    "        current_day_plus_two = X_test_current_family['date'].unique()[i + 2]\n",
    "        current_day_plus_six = X_test_current_family['date'].unique()[i + 6]\n",
    "        X_test_for_current_day = X_test_current_family[X_test_current_family['date'] == current_day].drop(columns=['date'])\n",
    "        predictions = model.predict(X_test_for_current_day)\n",
    "        predictions[predictions < 0] = 0\n",
    "        X_test_current_family.loc[X_test_current_family[X_test_current_family['date'] == current_day_plus_one].index, 'lag_1'] = predictions\n",
    "        X_test_current_family.loc[X_test_current_family[X_test_current_family['date'] == current_day_plus_two].index, 'lag_2'] = predictions\n",
    "        X_test_current_family.loc[X_test_current_family[X_test_current_family['date'] == current_day_plus_six].index, 'lag_6'] = predictions\n",
    "\n",
    "            \n",
    "    for i, current_day in enumerate(X_test_current_family['date'].unique()[10:14]):\n",
    "        current_day_plus_one = X_test_current_family['date'].unique()[i + 1]\n",
    "        current_day_plus_two = X_test_current_family['date'].unique()[i + 2]\n",
    "        X_test_for_current_day = X_test_current_family[X_test_current_family['date'] == current_day].drop(columns=['date'])\n",
    "        predictions = model.predict(X_test_for_current_day)\n",
    "        predictions[predictions < 0] = 0\n",
    "        X_test_current_family.loc[X_test_current_family[X_test_current_family['date'] == current_day_plus_one].index, 'lag_1'] = predictions\n",
    "        X_test_current_family.loc[X_test_current_family[X_test_current_family['date'] == current_day_plus_two].index, 'lag_2'] = predictions\n",
    "\n",
    "        \n",
    "    for i, current_day in enumerate(X_test_current_family['date'].unique()[14:15]):\n",
    "        current_day_plus_one = X_test_current_family['date'].unique()[i + 1]\n",
    "        X_test_for_current_day = X_test_current_family[X_test_current_family['date'] == current_day].drop(columns=['date'])\n",
    "        predictions = model.predict(X_test_for_current_day)\n",
    "        predictions[predictions < 0] = 0\n",
    "        X_test_current_family.loc[X_test_current_family[X_test_current_family['date'] == current_day_plus_one].index, 'lag_1'] = predictions\n",
    "            \n",
    "            \n",
    "        \n",
    "    y_pred_current_family = model.predict(X_test_current_family.drop(columns=['date']))\n",
    "    y_pred_current_family[y_pred_current_family < 0] = 0\n",
    "    \n",
    "    test_indices = test_data[test_data['family'] == current_family].index\n",
    "    submission.loc[test_indices, 'sales'] = y_pred_current_family"
   ]
  },
  {
   "cell_type": "code",
   "execution_count": null,
   "id": "98cb42f5",
   "metadata": {},
   "outputs": [],
   "source": [
    "submission.to_csv('./data/kaggle/store-sales-time-series-forecasting/linreg_dcoilwtico_and_best_lags.csv', index = False)"
   ]
  },
  {
   "cell_type": "code",
   "execution_count": null,
   "id": "b3225eb4",
   "metadata": {},
   "outputs": [],
   "source": []
  },
  {
   "cell_type": "code",
   "execution_count": null,
   "id": "d5bba0bf",
   "metadata": {},
   "outputs": [],
   "source": [
    "#cc = pd.read_csv(DATA_ROOT / 'linreg_dcoilwtico_and_best_lags.csv')\n",
    "#(cc['sales'] - submission['sales']).unique()"
   ]
  },
  {
   "cell_type": "markdown",
   "id": "b2c529df",
   "metadata": {},
   "source": [
    "# 3. Linear Regression with 'store_nbr', 'dcoilwtico' and 'lag' feature (1 - 16 days) (recursive strategy)"
   ]
  },
  {
   "cell_type": "code",
   "execution_count": null,
   "id": "56b74ec5",
   "metadata": {},
   "outputs": [],
   "source": [
    "X = train.copy().drop(columns='onpromotion')\n",
    "train_transformer = ETLTransformer(date_column='date', id_column='id')\n",
    "X = train_transformer.transform(X)[0]"
   ]
  },
  {
   "cell_type": "code",
   "execution_count": null,
   "id": "d64b68eb",
   "metadata": {},
   "outputs": [],
   "source": [
    "for i in range(16):\n",
    "    X['lag_{}'.format(i + 1)] = X.groupby(['store_nbr', 'family'])['sales'].shift(i + 1)\n",
    "\n",
    "X = X[X['dcoilwtico'].notna()]\n",
    "X = X.reset_index(drop=True)"
   ]
  },
  {
   "cell_type": "code",
   "execution_count": null,
   "id": "18420acb",
   "metadata": {},
   "outputs": [],
   "source": [
    "X = pd.get_dummies(X, columns=['store_nbr'], drop_first=True)\n",
    "lags = []\n",
    "for i in range(16):\n",
    "    lags.append(X['lag_{}'.format(i + 1)].copy()) \n",
    "\n",
    "    \n",
    "    \n",
    "# to place 'lag' features in the end of the DataFrame    \n",
    "X = X.drop(columns=['lag_1', 'lag_2', 'lag_3', 'lag_4', 'lag_5', 'lag_6', 'lag_7', 'lag_8',\n",
    "                    'lag_9', 'lag_10', 'lag_11', 'lag_12', 'lag_13', 'lag_14', 'lag_15', 'lag_16'])\n",
    "\n",
    "for i in range(16):\n",
    "    X['lag_{}'.format(i + 1)] = lags[i]\n",
    "    \n",
    "X.head()"
   ]
  },
  {
   "cell_type": "code",
   "execution_count": null,
   "id": "ce745725",
   "metadata": {},
   "outputs": [],
   "source": [
    "y = X['sales'].copy()\n",
    "X = X.drop(columns=['sales'])"
   ]
  },
  {
   "cell_type": "code",
   "execution_count": null,
   "id": "f2f2ea7c",
   "metadata": {},
   "outputs": [],
   "source": [
    "tscv = TimeSeriesSplit(gap=0, max_train_size=365 * 33 * 54, n_splits=4, test_size=16 * 33 * 54)"
   ]
  },
  {
   "cell_type": "code",
   "execution_count": null,
   "id": "66a8f8f7",
   "metadata": {},
   "outputs": [],
   "source": [
    "scores = {'RMSLE': [], 'RMSE': [], 'MAE': [], 'R2': []}\n",
    "\n",
    "for train_indices, test_indices in tscv.split(X, y):\n",
    "    X_train = X.iloc[train_indices]\n",
    "    y_train = y.iloc[train_indices]\n",
    "    X_test = X.iloc[test_indices]\n",
    "    y_test = y.iloc[test_indices]\n",
    "    \n",
    "    X_test.loc[:, 'pred'] = 0\n",
    "    for current_family in X['family'].unique():\n",
    "        current_family_indices_train = X_train[X_train['family'] == current_family].index\n",
    "        X_train_current_family = X_train[X_train['family'] == current_family].drop(columns=['family'])\n",
    "        y_train_current_family = y_train.loc[current_family_indices_train]\n",
    "        scaler = MinMaxScaler()\n",
    "        X_train_current_family[['dcoilwtico']] = scaler.fit_transform(X_train_current_family[['dcoilwtico']])\n",
    "        \n",
    "        model = PositiveRegressor(LinearRegression())\n",
    "        model.fit(X_train_current_family.drop(columns=['date']), y_train_current_family)\n",
    "        \n",
    "        current_family_indices_test = X_test[X_test['family'] == current_family].index\n",
    "        X_test_current_family = X_test[X_test['family'] == current_family].drop(columns=['family'])\n",
    "        y_test_current_family = y_test.loc[current_family_indices_test]\n",
    "        X_test_current_family[['dcoilwtico']] = scaler.transform(X_test_current_family[['dcoilwtico']])\n",
    "                  \n",
    "\n",
    "        for i, current_day in enumerate(X_test_current_family['date'].unique()):\n",
    "            X_test_for_current_day = X_test_current_family[X_test_current_family['date'] == current_day].drop(columns=['date', 'pred'])\n",
    "            predictions = model.predict(X_test_for_current_day)\n",
    "            predictions[predictions < 0] = 0\n",
    "            \n",
    "            for j in range(1, 16 - i):\n",
    "                next_day = X_test_current_family['date'].unique()[i + j]\n",
    "                X_test_current_family.loc[X_test_current_family[X_test_current_family['date'] == next_day].index, 'lag_{}'.format(j)] = predictions\n",
    "        \n",
    "        \n",
    "        y_pred_current_family = model.predict(X_test_current_family.drop(columns=['date', 'pred']))\n",
    "        y_pred_current_family[y_pred_current_family < 0] = 0\n",
    "        X_test.loc[current_family_indices_test, 'pred'] = y_pred_current_family\n",
    "        \n",
    "    y_pred = X_test['pred'].copy()\n",
    "    X_test = X_test.drop(columns=['pred'])\n",
    "    \n",
    "    scores['RMSLE'].append(np.sqrt(mean_squared_log_error(y_test, y_pred)))\n",
    "    scores['RMSE'].append(mean_squared_error(y_test, y_pred, squared=False))\n",
    "    scores['MAE'].append(mean_absolute_error(y_test, y_pred))\n",
    "    scores['R2'].append(r2_score(y_test, y_pred))\n",
    "\n",
    "for metric_name, metric_values in scores.items():\n",
    "    print(f'{metric_name}: {mean(metric_values):.3f} ± {stdev(metric_values):.3f}')"
   ]
  },
  {
   "cell_type": "code",
   "execution_count": null,
   "id": "e58a72d8",
   "metadata": {},
   "outputs": [],
   "source": [
    "first_day_of_last_year = pd.to_datetime(X['date'].unique()[-1]) - timedelta(days=365)\n",
    "indexer = X[X['date'] >= str(first_day_of_last_year).split(' ')[0]].index\n",
    "X_train = X[X['date'] >= str(first_day_of_last_year).split(' ')[0]]\n",
    "y_train = y.loc[indexer]"
   ]
  },
  {
   "cell_type": "code",
   "execution_count": null,
   "id": "6d1058ea",
   "metadata": {},
   "outputs": [],
   "source": [
    "test_data = pd.read_csv(DATA_ROOT / 'test.csv').drop(columns=['onpromotion'])\n",
    "test_transformer = ETLTransformer(date_column='date', id_column='id')\n",
    "test_data = test_transformer.transform(test_data)[0]\n",
    "test_data = pd.get_dummies(test_data, columns=['store_nbr'], drop_first=True)\n",
    "for i in range(16):\n",
    "    test_data.loc[:, 'lag_{}'.format(i + 1)] = 0\n",
    "    for j in range(i + 1):\n",
    "        test_data.loc[test_data[test_data['date'] == test_data['date'].unique()[j]].index, 'lag_{}'.format(i + 1)] = y_train.loc[X_train['date'] == X_train['date'].unique()[-(i + 1 - j)]].tolist()"
   ]
  },
  {
   "cell_type": "code",
   "execution_count": null,
   "id": "df5c4e12",
   "metadata": {},
   "outputs": [],
   "source": [
    "submission = pd.read_csv(DATA_ROOT / 'sample_submission.csv')"
   ]
  },
  {
   "cell_type": "code",
   "execution_count": null,
   "id": "494a78db",
   "metadata": {},
   "outputs": [],
   "source": [
    "for current_family in X['family'].unique():\n",
    "    current_family_indices_train = X_train[X_train['family'] == current_family].index\n",
    "    X_train_current_family = X_train[X_train['family'] == current_family].drop(columns=['family'])\n",
    "    y_train_current_family = y_train.loc[current_family_indices_train]\n",
    "    scaler = MinMaxScaler()\n",
    "    X_train_current_family[['dcoilwtico']] = scaler.fit_transform(X_train_current_family[['dcoilwtico']])\n",
    "    \n",
    "    model = PositiveRegressor(LinearRegression())\n",
    "    model.fit(X_train_current_family.drop(columns=['date']), y_train_current_family)\n",
    "    \n",
    "    X_test_current_family = test_data[test_data['family'] == current_family].drop(columns=['family'])\n",
    "    X_test_current_family[['dcoilwtico']] = scaler.transform(X_test_current_family[['dcoilwtico']])    \n",
    "    \n",
    "    for i, current_day in enumerate(X_test_current_family['date'].unique()):\n",
    "        X_test_for_current_day = X_test_current_family[X_test_current_family['date'] == current_day].drop(columns=['date'])\n",
    "        predictions = model.predict(X_test_for_current_day)\n",
    "        predictions[predictions < 0] = 0\n",
    "            \n",
    "        for j in range(1, 16 - i):\n",
    "            next_day = X_test_current_family['date'].unique()[i + j]\n",
    "            X_test_current_family.loc[X_test_current_family[X_test_current_family['date'] == next_day].index, 'lag_{}'.format(j)] = predictions\n",
    "            \n",
    "            \n",
    "        \n",
    "    y_pred_current_family = model.predict(X_test_current_family.drop(columns=['date']))\n",
    "    y_pred_current_family[y_pred_current_family < 0] = 0\n",
    "        \n",
    "    test_indices = test_data[test_data['family'] == current_family].index\n",
    "    submission.loc[test_indices, 'sales'] = y_pred_current_family"
   ]
  },
  {
   "cell_type": "code",
   "execution_count": null,
   "id": "9ee6c47d",
   "metadata": {},
   "outputs": [],
   "source": [
    "submission.to_csv('./data/kaggle/store-sales-time-series-forecasting/linreg_dcoilwtico_and_lags.csv', index = False)"
   ]
  },
  {
   "cell_type": "code",
   "execution_count": null,
   "id": "bb772018",
   "metadata": {},
   "outputs": [],
   "source": []
  },
  {
   "cell_type": "code",
   "execution_count": null,
   "id": "b317f8d8",
   "metadata": {},
   "outputs": [],
   "source": []
  },
  {
   "cell_type": "markdown",
   "id": "6dd649a3",
   "metadata": {},
   "source": [
    "# 4. Linear Regression with 'store_nbr', 'dcoilwtico' and 'lag' feature (1 - 16, 30 days) (recursive strategy)"
   ]
  },
  {
   "cell_type": "code",
   "execution_count": null,
   "id": "00e88695",
   "metadata": {},
   "outputs": [],
   "source": [
    "X = train.copy().drop(columns='onpromotion')\n",
    "train_transformer = ETLTransformer(date_column='date', id_column='id')\n",
    "X = train_transformer.transform(X)[0]"
   ]
  },
  {
   "cell_type": "code",
   "execution_count": null,
   "id": "26983e08",
   "metadata": {},
   "outputs": [],
   "source": [
    "for i in range(16):\n",
    "    X['lag_{}'.format(i + 1)] = X.groupby(['store_nbr', 'family'])['sales'].shift(i + 1)\n",
    "\n",
    "X['lag_30'] = X.groupby(['store_nbr', 'family'])['sales'].shift(30)\n",
    "    \n",
    "X = X[X['dcoilwtico'].notna()]\n",
    "X = X.reset_index(drop=True)"
   ]
  },
  {
   "cell_type": "code",
   "execution_count": null,
   "id": "9315573a",
   "metadata": {},
   "outputs": [],
   "source": [
    "X = pd.get_dummies(X, columns=['store_nbr'], drop_first=True)\n",
    "lags = []\n",
    "for i in range(16):\n",
    "    lags.append(X['lag_{}'.format(i + 1)].copy()) \n",
    "\n",
    "lags.append(X['lag_30'].copy())\n",
    "    \n",
    "    \n",
    "# to place 'lag' features in the end of the DataFrame    \n",
    "X = X.drop(columns=['lag_1', 'lag_2', 'lag_3', 'lag_4', 'lag_5', 'lag_6', 'lag_7', 'lag_8', 'lag_9', \n",
    "                    'lag_10', 'lag_11', 'lag_12', 'lag_13', 'lag_14', 'lag_15', 'lag_16', 'lag_30'])\n",
    "\n",
    "for i in range(16):\n",
    "    X['lag_{}'.format(i + 1)] = lags[i]\n",
    "    \n",
    "X['lag_30'] = lags[-1]\n",
    "    \n",
    "X.head()"
   ]
  },
  {
   "cell_type": "code",
   "execution_count": null,
   "id": "6186af5e",
   "metadata": {},
   "outputs": [],
   "source": [
    "y = X['sales'].copy()\n",
    "X = X.drop(columns=['sales'])"
   ]
  },
  {
   "cell_type": "code",
   "execution_count": null,
   "id": "eabab099",
   "metadata": {},
   "outputs": [],
   "source": [
    "tscv = TimeSeriesSplit(gap=0, max_train_size=365 * 33 * 54, n_splits=4, test_size=16 * 33 * 54)"
   ]
  },
  {
   "cell_type": "code",
   "execution_count": null,
   "id": "d16b1ce5",
   "metadata": {},
   "outputs": [],
   "source": [
    "scores = {'RMSLE': [], 'RMSE': [], 'MAE': [], 'R2': []}\n",
    "\n",
    "for train_indices, test_indices in tscv.split(X, y):\n",
    "    X_train = X.iloc[train_indices]\n",
    "    y_train = y.iloc[train_indices]\n",
    "    X_test = X.iloc[test_indices]\n",
    "    y_test = y.iloc[test_indices]\n",
    "    \n",
    "    X_test.loc[:, 'pred'] = 0\n",
    "    for current_family in X['family'].unique():\n",
    "        current_family_indices_train = X_train[X_train['family'] == current_family].index\n",
    "        X_train_current_family = X_train[X_train['family'] == current_family].drop(columns=['family'])\n",
    "        y_train_current_family = y_train.loc[current_family_indices_train]\n",
    "        scaler = MinMaxScaler()\n",
    "        X_train_current_family[['dcoilwtico']] = scaler.fit_transform(X_train_current_family[['dcoilwtico']])\n",
    "        \n",
    "        model = PositiveRegressor(LinearRegression())\n",
    "        model.fit(X_train_current_family.drop(columns=['date']), y_train_current_family)\n",
    "        \n",
    "        current_family_indices_test = X_test[X_test['family'] == current_family].index\n",
    "        X_test_current_family = X_test[X_test['family'] == current_family].drop(columns=['family'])\n",
    "        y_test_current_family = y_test.loc[current_family_indices_test]\n",
    "        X_test_current_family[['dcoilwtico']] = scaler.transform(X_test_current_family[['dcoilwtico']])\n",
    "                  \n",
    "\n",
    "        for i, current_day in enumerate(X_test_current_family['date'].unique()):\n",
    "            X_test_for_current_day = X_test_current_family[X_test_current_family['date'] == current_day].drop(columns=['date', 'pred'])\n",
    "            predictions = model.predict(X_test_for_current_day)\n",
    "            predictions[predictions < 0] = 0\n",
    "            \n",
    "            for j in range(1, 16 - i):\n",
    "                next_day = X_test_current_family['date'].unique()[i + j]\n",
    "                X_test_current_family.loc[X_test_current_family[X_test_current_family['date'] == next_day].index, 'lag_{}'.format(j)] = predictions\n",
    "        \n",
    "        \n",
    "        y_pred_current_family = model.predict(X_test_current_family.drop(columns=['date', 'pred']))\n",
    "        y_pred_current_family[y_pred_current_family < 0] = 0\n",
    "        X_test.loc[current_family_indices_test, 'pred'] = y_pred_current_family\n",
    "        \n",
    "    y_pred = X_test['pred'].copy()\n",
    "    X_test = X_test.drop(columns=['pred'])\n",
    "    \n",
    "    scores['RMSLE'].append(np.sqrt(mean_squared_log_error(y_test, y_pred)))\n",
    "    scores['RMSE'].append(mean_squared_error(y_test, y_pred, squared=False))\n",
    "    scores['MAE'].append(mean_absolute_error(y_test, y_pred))\n",
    "    scores['R2'].append(r2_score(y_test, y_pred))\n",
    "\n",
    "for metric_name, metric_values in scores.items():\n",
    "    print(f'{metric_name}: {mean(metric_values):.3f} ± {stdev(metric_values):.3f}')"
   ]
  },
  {
   "cell_type": "code",
   "execution_count": null,
   "id": "99d4525b",
   "metadata": {},
   "outputs": [],
   "source": [
    "first_day_of_last_year = pd.to_datetime(X['date'].unique()[-1]) - timedelta(days=365)\n",
    "indexer = X[X['date'] >= str(first_day_of_last_year).split(' ')[0]].index\n",
    "X_train = X[X['date'] >= str(first_day_of_last_year).split(' ')[0]]\n",
    "y_train = y.loc[indexer]"
   ]
  },
  {
   "cell_type": "code",
   "execution_count": null,
   "id": "3a121a1f",
   "metadata": {},
   "outputs": [],
   "source": [
    "test_data = pd.read_csv(DATA_ROOT / 'test.csv').drop(columns=['onpromotion'])\n",
    "test_transformer = ETLTransformer(date_column='date', id_column='id')\n",
    "test_data = test_transformer.transform(test_data)[0]\n",
    "test_data = pd.get_dummies(test_data, columns=['store_nbr'], drop_first=True)\n",
    "for i in range(16):\n",
    "    test_data.loc[:, 'lag_{}'.format(i + 1)] = 0\n",
    "    for j in range(i + 1):\n",
    "        test_data.loc[test_data[test_data['date'] == test_data['date'].unique()[j]].index, 'lag_{}'.format(i + 1)] = y_train.loc[X_train['date'] == X_train['date'].unique()[-(i + 1 - j)]].tolist()\n",
    "        \n",
    "test_data.loc[:, 'lag_30'] = 0\n",
    "for i in range(30):\n",
    "    test_data.loc[test_data[test_data['date'] == test_data['date'].unique()[j]].index, 'lag_30'] = y_train.loc[X_train['date'] == X_train['date'].unique()[-(30 - j)]].tolist()"
   ]
  },
  {
   "cell_type": "code",
   "execution_count": null,
   "id": "ea499ff5",
   "metadata": {},
   "outputs": [],
   "source": [
    "submission = pd.read_csv(DATA_ROOT / 'sample_submission.csv')"
   ]
  },
  {
   "cell_type": "code",
   "execution_count": null,
   "id": "05e22395",
   "metadata": {},
   "outputs": [],
   "source": [
    "for current_family in X['family'].unique():\n",
    "    current_family_indices_train = X_train[X_train['family'] == current_family].index\n",
    "    X_train_current_family = X_train[X_train['family'] == current_family].drop(columns=['family'])\n",
    "    y_train_current_family = y_train.loc[current_family_indices_train]\n",
    "    scaler = MinMaxScaler()\n",
    "    X_train_current_family[['dcoilwtico']] = scaler.fit_transform(X_train_current_family[['dcoilwtico']])\n",
    "    \n",
    "    model = PositiveRegressor(LinearRegression())\n",
    "    model.fit(X_train_current_family.drop(columns=['date']), y_train_current_family)\n",
    "    \n",
    "    X_test_current_family = test_data[test_data['family'] == current_family].drop(columns=['family'])\n",
    "    X_test_current_family[['dcoilwtico']] = scaler.transform(X_test_current_family[['dcoilwtico']])    \n",
    "    \n",
    "    for i, current_day in enumerate(X_test_current_family['date'].unique()):\n",
    "        X_test_for_current_day = X_test_current_family[X_test_current_family['date'] == current_day].drop(columns=['date'])\n",
    "        predictions = model.predict(X_test_for_current_day)\n",
    "        predictions[predictions < 0] = 0\n",
    "            \n",
    "        for j in range(1, 16 - i):\n",
    "            next_day = X_test_current_family['date'].unique()[i + j]\n",
    "            X_test_current_family.loc[X_test_current_family[X_test_current_family['date'] == next_day].index, 'lag_{}'.format(j)] = predictions\n",
    "            \n",
    "            \n",
    "        \n",
    "    y_pred_current_family = model.predict(X_test_current_family.drop(columns=['date']))\n",
    "    y_pred_current_family[y_pred_current_family < 0] = 0\n",
    "        \n",
    "    test_indices = test_data[test_data['family'] == current_family].index\n",
    "    submission.loc[test_indices, 'sales'] = y_pred_current_family"
   ]
  },
  {
   "cell_type": "code",
   "execution_count": null,
   "id": "f688bca6",
   "metadata": {},
   "outputs": [],
   "source": [
    "submission.to_csv('./data/kaggle/store-sales-time-series-forecasting/linreg_dcoilwtico_and_lags_v30.csv', index = False)"
   ]
  },
  {
   "cell_type": "code",
   "execution_count": null,
   "id": "6da0185f",
   "metadata": {},
   "outputs": [],
   "source": []
  },
  {
   "cell_type": "code",
   "execution_count": null,
   "id": "cf7c253c",
   "metadata": {},
   "outputs": [],
   "source": []
  },
  {
   "cell_type": "markdown",
   "id": "304dabc7",
   "metadata": {},
   "source": [
    "# (not ready)                                                                                                                5. Linear Regression with 'store_nbr', 'dcoilwtico' and 'lag' feature (1 - 16 days shift) (direct strategy)"
   ]
  },
  {
   "cell_type": "code",
   "execution_count": null,
   "id": "b3024bc2",
   "metadata": {},
   "outputs": [],
   "source": [
    "X = train.copy().drop(columns='onpromotion')\n",
    "train_transformer = ETLTransformer(date_column='date', id_column='id')\n",
    "X = train_transformer.transform(X)[0]"
   ]
  },
  {
   "cell_type": "code",
   "execution_count": null,
   "id": "7ba70995",
   "metadata": {},
   "outputs": [],
   "source": [
    "for i in range(16):\n",
    "    X['lag_{}'.format(i + 1)] = X.groupby(['store_nbr', 'family'])['sales'].shift(i + 1)\n",
    "    X['-{}'.format(i + 1)] = X.groupby(['store_nbr', 'family'])['sales'].shift(-(i + 1))\n",
    "X = X[X['dcoilwtico'].notna()]\n",
    "X = X.dropna()\n",
    "X = X.reset_index(drop=True)"
   ]
  },
  {
   "cell_type": "code",
   "execution_count": null,
   "id": "4b893470",
   "metadata": {},
   "outputs": [],
   "source": [
    "X = pd.get_dummies(X, columns=['store_nbr'], drop_first=True)\n",
    "lags = []\n",
    "targets = []\n",
    "for i in range(16):\n",
    "    lags.append(X['lag_{}'.format(i + 1)].copy())\n",
    "    targets.append(X['{}'.format(-(i + 1))].copy())\n",
    "    \n",
    "# to place 'lag' features in the end of the DataFrame    \n",
    "X = X.drop(columns=['lag_1', 'lag_2', 'lag_3', 'lag_4', 'lag_5', 'lag_6', 'lag_7', 'lag_8',\n",
    "                    'lag_9', 'lag_10', 'lag_11', 'lag_12', 'lag_13', 'lag_14', 'lag_15', 'lag_16',\n",
    "                    '-1', '-2', '-3', '-4', '-5', '-6', '-7', '-8', '-9', '-10',\n",
    "                    '-11', '-12', '-13', '-14', '-15', '-16'])\n",
    "\n",
    "for i in range(16):\n",
    "    X['lag_{}'.format(i + 1)] = lags[i]\n",
    "    \n",
    "X.head()"
   ]
  },
  {
   "cell_type": "code",
   "execution_count": null,
   "id": "c2c7fcc6",
   "metadata": {},
   "outputs": [],
   "source": [
    "y = X['sales'].copy()\n",
    "X = X.drop(columns=['sales'])"
   ]
  },
  {
   "cell_type": "code",
   "execution_count": null,
   "id": "5b2a9d7c",
   "metadata": {},
   "outputs": [],
   "source": [
    "tscv = TimeSeriesSplit(gap=0, max_train_size=365 * 33 * 54, n_splits=4, test_size=16 * 33 * 54)"
   ]
  },
  {
   "cell_type": "code",
   "execution_count": null,
   "id": "ba8008a3",
   "metadata": {},
   "outputs": [],
   "source": [
    "scores = {'RMSLE': [], 'RMSE': [], 'MAE': [], 'R2': []}\n",
    "\n",
    "for train_indices, test_indices in tscv.split(X, y):\n",
    "    X_train = X.iloc[train_indices]\n",
    "    y_train = y.iloc[train_indices]\n",
    "    X_test = X.iloc[test_indices]\n",
    "    y_test = y.iloc[test_indices]\n",
    "    \n",
    "    X_test.loc[:, 'pred'] = 0\n",
    "    for current_family in X['family'].unique():\n",
    "        current_family_indices_train = X_train[X_train['family'] == current_family].index\n",
    "        X_train_current_family = X_train[X_train['family'] == current_family].drop(columns=['family'])\n",
    "        y_train_current_family = y_train.loc[current_family_indices_train]\n",
    "        scaler = MinMaxScaler()\n",
    "        X_train_current_family[['dcoilwtico']] = scaler.fit_transform(X_train_current_family[['dcoilwtico']])\n",
    "        \n",
    "        model = PositiveRegressor(LinearRegression())\n",
    "        model.fit(X_train_current_family.drop(columns=['date']), y_train_current_family)\n",
    "        \n",
    "        current_family_indices_test = X_test[X_test['family'] == current_family].index\n",
    "        X_test_current_family = X_test[X_test['family'] == current_family].drop(columns=['family'])\n",
    "        y_test_current_family = y_test.loc[current_family_indices_test]\n",
    "        X_test_current_family[['dcoilwtico']] = scaler.transform(X_test_current_family[['dcoilwtico']])"
   ]
  },
  {
   "cell_type": "code",
   "execution_count": null,
   "id": "3f1c9bd8",
   "metadata": {},
   "outputs": [],
   "source": []
  },
  {
   "cell_type": "code",
   "execution_count": null,
   "id": "a31bdff1",
   "metadata": {},
   "outputs": [],
   "source": []
  },
  {
   "cell_type": "code",
   "execution_count": null,
   "id": "136626fb",
   "metadata": {},
   "outputs": [],
   "source": []
  },
  {
   "cell_type": "code",
   "execution_count": null,
   "id": "32627493",
   "metadata": {},
   "outputs": [],
   "source": []
  },
  {
   "cell_type": "code",
   "execution_count": null,
   "id": "25876002",
   "metadata": {},
   "outputs": [],
   "source": []
  },
  {
   "cell_type": "code",
   "execution_count": null,
   "id": "3bd39498",
   "metadata": {},
   "outputs": [],
   "source": []
  },
  {
   "cell_type": "markdown",
   "id": "03b0e712",
   "metadata": {},
   "source": [
    "# 6. Linear Regression, features: 'store_nbr', 'dcoilwtico' with 'lags' (1 day shift) and 'lags' for target (1 - 16 days shift) (recursive strategy)"
   ]
  },
  {
   "cell_type": "code",
   "execution_count": null,
   "id": "029aa24f",
   "metadata": {},
   "outputs": [],
   "source": [
    "X = train.copy().drop(columns='onpromotion')\n",
    "train_transformer = ETLTransformer(date_column='date', id_column='id')\n",
    "X = train_transformer.transform(X)[0]"
   ]
  },
  {
   "cell_type": "code",
   "execution_count": null,
   "id": "6c41bb7c",
   "metadata": {},
   "outputs": [],
   "source": [
    "X = X[X['dcoilwtico'].notna()]\n",
    "X = X.reset_index(drop=True)\n",
    "X.head()"
   ]
  },
  {
   "cell_type": "code",
   "execution_count": null,
   "id": "d127a229",
   "metadata": {},
   "outputs": [],
   "source": [
    "first_day_of_last_year = pd.to_datetime(X['date'].unique()[-1]) - timedelta(days=365)\n",
    "indexer = X[X['date'] >= str(first_day_of_last_year).split(' ')[0]].index\n",
    "X_train = X[X['date'] >= str(first_day_of_last_year).split(' ')[0]]"
   ]
  },
  {
   "cell_type": "code",
   "execution_count": null,
   "id": "3ee33864",
   "metadata": {},
   "outputs": [],
   "source": [
    "oil_price = X_train.groupby('date')['dcoilwtico'].mean().reset_index()['dcoilwtico']\n",
    "sm.graphics.tsa.plot_pacf(oil_price, lags=16)\n",
    "plt.show()"
   ]
  },
  {
   "cell_type": "code",
   "execution_count": null,
   "id": "f207e5cd",
   "metadata": {},
   "outputs": [],
   "source": [
    "X['lag_1'] = X.groupby(['store_nbr', 'family'])['sales'].shift(1)\n",
    "X['lag_2'] = X.groupby(['store_nbr', 'family'])['sales'].shift(2)\n",
    "X['lag_6'] = X.groupby(['store_nbr', 'family'])['sales'].shift(6)\n",
    "X['lag_7'] = X.groupby(['store_nbr', 'family'])['sales'].shift(7)\n",
    "X['lag_14'] = X.groupby(['store_nbr', 'family'])['sales'].shift(14)"
   ]
  },
  {
   "cell_type": "code",
   "execution_count": null,
   "id": "293d0c16",
   "metadata": {},
   "outputs": [],
   "source": [
    "X = pd.get_dummies(X, columns=['store_nbr'], drop_first=True)\n",
    "\n",
    "# to place 'lag' features in the end of the DataFrame\n",
    "lag_1 = X['lag_1'].copy()\n",
    "lag_2 = X['lag_2'].copy()\n",
    "lag_6 = X['lag_6'].copy()\n",
    "lag_7 = X['lag_7'].copy()\n",
    "lag_14 = X['lag_14'].copy()\n",
    "X = X.drop(columns=['lag_1', 'lag_2', 'lag_6', 'lag_7', 'lag_14'])\n",
    "X['lag_1'] = lag_1\n",
    "X['lag_2'] = lag_2\n",
    "X['lag_6'] = lag_6\n",
    "X['lag_7'] = lag_7\n",
    "X['lag_14'] = lag_14\n",
    "X.head()"
   ]
  },
  {
   "cell_type": "code",
   "execution_count": null,
   "id": "c14c1621",
   "metadata": {},
   "outputs": [],
   "source": [
    "y = X['sales'].copy()\n",
    "X = X.drop(columns=['sales'])"
   ]
  },
  {
   "cell_type": "code",
   "execution_count": null,
   "id": "f04b99e2",
   "metadata": {},
   "outputs": [],
   "source": [
    "lag_1_oil = pd.DataFrame(data=X.groupby(['date'])['dcoilwtico'].mean())\n",
    "lag_1_oil['dcoilwtico'] = lag_1_oil['dcoilwtico'].shift(1)\n",
    "lag_1_oil = lag_1_oil.rename(columns={'dcoilwtico': 'lag_1_oil'})\n",
    "X = X.merge(lag_1_oil, on='date', how='left')\n",
    "X.head()"
   ]
  },
  {
   "cell_type": "code",
   "execution_count": null,
   "id": "b02867b6",
   "metadata": {},
   "outputs": [],
   "source": [
    "tscv = TimeSeriesSplit(gap=0, max_train_size=365 * 33 * 54, n_splits=4, test_size=16 * 33 * 54)"
   ]
  },
  {
   "cell_type": "code",
   "execution_count": null,
   "id": "c7f82383",
   "metadata": {
    "scrolled": true
   },
   "outputs": [],
   "source": [
    "scores = {'RMSLE': [], 'RMSE': [], 'MAE': [], 'R2': []}\n",
    "\n",
    "for train_indices, test_indices in tscv.split(X, y):\n",
    "    X_train = X.iloc[train_indices]\n",
    "    y_train = y.iloc[train_indices]\n",
    "    X_test = X.iloc[test_indices]\n",
    "    y_test = y.iloc[test_indices]\n",
    "    \n",
    "    X_test.loc[:, 'pred'] = 0\n",
    "    for current_family in X['family'].unique():\n",
    "        current_family_indices_train = X_train[X_train['family'] == current_family].index\n",
    "        X_train_current_family = X_train[X_train['family'] == current_family].drop(columns=['family'])\n",
    "        y_train_current_family = y_train.loc[current_family_indices_train]\n",
    "        scaler = MinMaxScaler()\n",
    "        X_train_current_family[['dcoilwtico']] = scaler.fit_transform(X_train_current_family[['dcoilwtico']])\n",
    "        X_train_current_family[['lag_1_oil']] = scaler.transform(X_train_current_family[['lag_1_oil']])\n",
    "        \n",
    "        model = PositiveRegressor(LinearRegression())\n",
    "        model.fit(X_train_current_family.drop(columns=['date']), y_train_current_family)\n",
    "        \n",
    "        current_family_indices_test = X_test[X_test['family'] == current_family].index\n",
    "        X_test_current_family = X_test[X_test['family'] == current_family].drop(columns=['family'])\n",
    "        y_test_current_family = y_test.loc[current_family_indices_test]\n",
    "        X_test_current_family[['dcoilwtico']] = scaler.transform(X_test_current_family[['dcoilwtico']])\n",
    "        X_test_current_family[['lag_1_oil']] = scaler.transform(X_test_current_family[['lag_1_oil']])\n",
    "\n",
    "        for i, current_day in enumerate(X_test_current_family['date'].unique()[:2]):\n",
    "            current_day_plus_one = X_test_current_family['date'].unique()[i + 1]\n",
    "            current_day_plus_two = X_test_current_family['date'].unique()[i + 2]\n",
    "            current_day_plus_six = X_test_current_family['date'].unique()[i + 6]\n",
    "            current_day_plus_seven = X_test_current_family['date'].unique()[i + 7]\n",
    "            current_day_plus_fourteen = X_test_current_family['date'].unique()[i + 14]\n",
    "            X_test_for_current_day = X_test_current_family[X_test_current_family['date'] == current_day].drop(columns=['date', 'pred'])\n",
    "            predictions = model.predict(X_test_for_current_day)\n",
    "            predictions[predictions < 0] = 0\n",
    "            X_test_current_family.loc[X_test_current_family[X_test_current_family['date'] == current_day_plus_one].index, 'lag_1'] = predictions\n",
    "            X_test_current_family.loc[X_test_current_family[X_test_current_family['date'] == current_day_plus_two].index, 'lag_2'] = predictions\n",
    "            X_test_current_family.loc[X_test_current_family[X_test_current_family['date'] == current_day_plus_six].index, 'lag_6'] = predictions\n",
    "            X_test_current_family.loc[X_test_current_family[X_test_current_family['date'] == current_day_plus_seven].index, 'lag_7'] = predictions\n",
    "            X_test_current_family.loc[X_test_current_family[X_test_current_family['date'] == current_day_plus_fourteen].index, 'lag_14'] = predictions\n",
    "        \n",
    "    \n",
    "        for i, current_day in enumerate(X_test_current_family['date'].unique()[2:9]):\n",
    "            current_day_plus_one = X_test_current_family['date'].unique()[i + 1]\n",
    "            current_day_plus_two = X_test_current_family['date'].unique()[i + 2]\n",
    "            current_day_plus_six = X_test_current_family['date'].unique()[i + 6]\n",
    "            current_day_plus_seven = X_test_current_family['date'].unique()[i + 7]\n",
    "            X_test_for_current_day = X_test_current_family[X_test_current_family['date'] == current_day].drop(columns=['date', 'pred'])\n",
    "            predictions = model.predict(X_test_for_current_day)\n",
    "            predictions[predictions < 0] = 0\n",
    "            X_test_current_family.loc[X_test_current_family[X_test_current_family['date'] == current_day_plus_one].index, 'lag_1'] = predictions\n",
    "            X_test_current_family.loc[X_test_current_family[X_test_current_family['date'] == current_day_plus_two].index, 'lag_2'] = predictions\n",
    "            X_test_current_family.loc[X_test_current_family[X_test_current_family['date'] == current_day_plus_six].index, 'lag_6'] = predictions\n",
    "            X_test_current_family.loc[X_test_current_family[X_test_current_family['date'] == current_day_plus_seven].index, 'lag_7'] = predictions\n",
    "\n",
    "            \n",
    "        for i, current_day in enumerate(X_test_current_family['date'].unique()[9:10]):\n",
    "            current_day_plus_one = X_test_current_family['date'].unique()[i + 1]\n",
    "            current_day_plus_two = X_test_current_family['date'].unique()[i + 2]\n",
    "            current_day_plus_six = X_test_current_family['date'].unique()[i + 6]\n",
    "            X_test_for_current_day = X_test_current_family[X_test_current_family['date'] == current_day].drop(columns=['date', 'pred'])\n",
    "            predictions = model.predict(X_test_for_current_day)\n",
    "            predictions[predictions < 0] = 0\n",
    "            X_test_current_family.loc[X_test_current_family[X_test_current_family['date'] == current_day_plus_one].index, 'lag_1'] = predictions\n",
    "            X_test_current_family.loc[X_test_current_family[X_test_current_family['date'] == current_day_plus_two].index, 'lag_2'] = predictions\n",
    "            X_test_current_family.loc[X_test_current_family[X_test_current_family['date'] == current_day_plus_six].index, 'lag_6'] = predictions\n",
    "\n",
    "            \n",
    "        for i, current_day in enumerate(X_test_current_family['date'].unique()[10:14]):\n",
    "            current_day_plus_one = X_test_current_family['date'].unique()[i + 1]\n",
    "            current_day_plus_two = X_test_current_family['date'].unique()[i + 2]\n",
    "            X_test_for_current_day = X_test_current_family[X_test_current_family['date'] == current_day].drop(columns=['date', 'pred'])\n",
    "            predictions = model.predict(X_test_for_current_day)\n",
    "            predictions[predictions < 0] = 0\n",
    "            X_test_current_family.loc[X_test_current_family[X_test_current_family['date'] == current_day_plus_one].index, 'lag_1'] = predictions\n",
    "            X_test_current_family.loc[X_test_current_family[X_test_current_family['date'] == current_day_plus_two].index, 'lag_2'] = predictions\n",
    "\n",
    "        \n",
    "        for i, current_day in enumerate(X_test_current_family['date'].unique()[14:15]):\n",
    "            current_day_plus_one = X_test_current_family['date'].unique()[i + 1]\n",
    "            X_test_for_current_day = X_test_current_family[X_test_current_family['date'] == current_day].drop(columns=['date', 'pred'])\n",
    "            predictions = model.predict(X_test_for_current_day)\n",
    "            predictions[predictions < 0] = 0\n",
    "            X_test_current_family.loc[X_test_current_family[X_test_current_family['date'] == current_day_plus_one].index, 'lag_1'] = predictions\n",
    "\n",
    "            \n",
    "        y_pred_current_family = model.predict(X_test_current_family.drop(columns=['date', 'pred']))\n",
    "        y_pred_current_family[y_pred_current_family < 0] = 0\n",
    "        X_test.loc[current_family_indices_test, 'pred'] = y_pred_current_family\n",
    "        \n",
    "    y_pred = X_test['pred'].copy()\n",
    "    X_test = X_test.drop(columns=['pred'])\n",
    "    \n",
    "    scores['RMSLE'].append(np.sqrt(mean_squared_log_error(y_test, y_pred)))\n",
    "    scores['RMSE'].append(mean_squared_error(y_test, y_pred, squared=False))\n",
    "    scores['MAE'].append(mean_absolute_error(y_test, y_pred))\n",
    "    scores['R2'].append(r2_score(y_test, y_pred))\n",
    "\n",
    "for metric_name, metric_values in scores.items():\n",
    "    print(f'{metric_name}: {mean(metric_values):.3f} ± {stdev(metric_values):.3f}')"
   ]
  },
  {
   "cell_type": "code",
   "execution_count": null,
   "id": "7f1f43aa",
   "metadata": {},
   "outputs": [],
   "source": []
  },
  {
   "cell_type": "code",
   "execution_count": null,
   "id": "00d6ab42",
   "metadata": {},
   "outputs": [],
   "source": []
  }
 ],
 "metadata": {
  "kernelspec": {
   "display_name": "Python 3",
   "language": "python",
   "name": "python3"
  },
  "language_info": {
   "codemirror_mode": {
    "name": "ipython",
    "version": 3
   },
   "file_extension": ".py",
   "mimetype": "text/x-python",
   "name": "python",
   "nbconvert_exporter": "python",
   "pygments_lexer": "ipython3",
   "version": "3.8.8"
  }
 },
 "nbformat": 4,
 "nbformat_minor": 5
}
