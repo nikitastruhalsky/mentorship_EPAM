{
 "cells": [
  {
   "cell_type": "markdown",
   "id": "cd5ea736",
   "metadata": {},
   "source": [
    "# Experiments with linear models for each family with different strategies for lags"
   ]
  },
  {
   "cell_type": "code",
   "execution_count": null,
   "id": "81ff8702",
   "metadata": {},
   "outputs": [],
   "source": [
    "import os\n",
    "os.chdir(os.environ['PROJECT_ROOT'])"
   ]
  },
  {
   "cell_type": "code",
   "execution_count": null,
   "id": "ad894fd7",
   "metadata": {},
   "outputs": [],
   "source": [
    "import warnings\n",
    "import numpy as np\n",
    "import pandas as pd\n",
    "import matplotlib.pyplot as plt\n",
    "import matplotlib.dates as mdates\n",
    "import seaborn as sns\n",
    "import sklearn\n",
    "import pdpipe as pdp\n",
    "import statsmodels.api as sm\n",
    "from pandas.core.common import SettingWithCopyWarning\n",
    "from sklearn.base import BaseEstimator, RegressorMixin, MetaEstimatorMixin, TransformerMixin, clone\n",
    "from datetime import timedelta\n",
    "from statistics import median, mean, stdev\n",
    "from pdpipe import df\n",
    "from pathlib import Path\n",
    "from sklearn.linear_model import LinearRegression, Ridge, Lasso\n",
    "from sklearn.preprocessing import OneHotEncoder, MinMaxScaler\n",
    "from sklearn.pipeline import make_pipeline\n",
    "from sklearn.feature_selection import SelectFromModel\n",
    "from sklearn.model_selection import cross_validate, cross_val_score, TimeSeriesSplit, GridSearchCV\n",
    "from sklearn.compose import ColumnTransformer\n",
    "from sklearn.multioutput import MultiOutputRegressor, RegressorChain\n",
    "from sklearn.metrics import mean_squared_log_error, mean_squared_error, mean_absolute_error, r2_score, mean_absolute_percentage_error\n",
    "from mentorship.ml.models.reg import PositiveRegressor\n",
    "from mentorship.ml.models.common import SplitPipeline\n",
    "from mentorship.ml.models.kaggle.storesales.linear import PipelineLinearV1\n",
    "from mentorship.ml.models.kaggle.storesales.ridge import PipelineRidgeV1\n",
    "from mentorship.ml.models.kaggle.storesales.lasso import PipelineLassoV1\n",
    "from mentorship.ml.models.kaggle.storesales.elasticnet import PipelineElasticNetV1\n",
    "from mentorship.features.kaggle.storesales.etl import ETLTransformer\n",
    "from mentorship.ml.cv.split import DateTimeSeriesSplit\n",
    "from mentorship.ml.cv.util import print_cv_test_scores\n",
    "\n",
    "\n",
    "%matplotlib inline\n",
    "warnings.simplefilter(action='ignore', category=FutureWarning)\n",
    "warnings.simplefilter(action=\"ignore\", category=SettingWithCopyWarning)"
   ]
  },
  {
   "cell_type": "code",
   "execution_count": null,
   "id": "e13895e1",
   "metadata": {},
   "outputs": [],
   "source": [
    "CV_METRICS = [\n",
    "    'neg_mean_squared_log_error',\n",
    "    'neg_root_mean_squared_error',\n",
    "    'neg_mean_absolute_error',\n",
    "    # 'neg_mean_absolute_percentage_error',\n",
    "    'r2'\n",
    "]"
   ]
  },
  {
   "cell_type": "code",
   "execution_count": null,
   "id": "7829063f",
   "metadata": {},
   "outputs": [],
   "source": [
    "DATA_ROOT = Path('data', 'kaggle', 'store-sales-time-series-forecasting')"
   ]
  },
  {
   "cell_type": "code",
   "execution_count": null,
   "id": "ad36a838",
   "metadata": {},
   "outputs": [],
   "source": [
    "train = pd.read_csv(DATA_ROOT / 'train.csv')\n",
    "train.head()"
   ]
  },
  {
   "cell_type": "markdown",
   "id": "420c6eb3",
   "metadata": {},
   "source": [
    "# 1. Linear Regression with 'store_nbr', 'dcoilwtico' and 'lag' feature (1 day) (recursive strategy)"
   ]
  },
  {
   "cell_type": "code",
   "execution_count": null,
   "id": "e2727747",
   "metadata": {},
   "outputs": [],
   "source": [
    "X = train.copy().drop(columns='onpromotion')\n",
    "train_transformer = ETLTransformer(date_column='date', id_column='id')\n",
    "X = train_transformer.transform(X)[0]"
   ]
  },
  {
   "cell_type": "code",
   "execution_count": null,
   "id": "84d70d1c",
   "metadata": {},
   "outputs": [],
   "source": [
    "X['lag_1'] = X.groupby(['store_nbr', 'family'])['sales'].shift()\n",
    "y = X['sales'].copy()\n",
    "X = X.drop(columns='sales')\n",
    "inds = X.loc[pd.isna(X['dcoilwtico']), :].index\n",
    "X = X[X['dcoilwtico'].notna()]\n",
    "X = X.reset_index(drop=True)\n",
    "y = y.drop(labels=inds)\n",
    "y = y.reset_index(drop=True)"
   ]
  },
  {
   "cell_type": "code",
   "execution_count": null,
   "id": "62ef9f10",
   "metadata": {},
   "outputs": [],
   "source": [
    "X = pd.get_dummies(X, columns=['store_nbr'], drop_first=True)\n",
    "lag_1 = X['lag_1'].copy()\n",
    "X = X.drop(columns=['lag_1'])\n",
    "X['lag_1'] = lag_1\n",
    "X.head()"
   ]
  },
  {
   "cell_type": "code",
   "execution_count": null,
   "id": "5c609c9a",
   "metadata": {},
   "outputs": [],
   "source": [
    "tscv = TimeSeriesSplit(gap=0, max_train_size=365 * 33 * 54, n_splits=4, test_size=16 * 33 * 54)"
   ]
  },
  {
   "cell_type": "code",
   "execution_count": null,
   "id": "344ee17d",
   "metadata": {},
   "outputs": [],
   "source": [
    "scores = {'RMSLE': [], 'RMSE': [], 'MAE': [], 'R2': []}\n",
    "\n",
    "for train_indices, test_indices in tscv.split(X, y):\n",
    "    X_train = X.iloc[train_indices]\n",
    "    y_train = y.iloc[train_indices]\n",
    "    X_test = X.iloc[test_indices]\n",
    "    y_test = y.iloc[test_indices]\n",
    "\n",
    "    X_test.loc[:, 'pred'] = 0\n",
    "    for current_family in X['family'].unique():\n",
    "        current_family_indices_train = X_train[X_train['family'] == current_family].index\n",
    "        X_train_current_family = X_train[X_train['family'] == current_family].drop(columns=['family'])\n",
    "        y_train_current_family = y_train.loc[current_family_indices_train]\n",
    "        scaler = MinMaxScaler()\n",
    "        X_train_current_family[['dcoilwtico']] = scaler.fit_transform(X_train_current_family[['dcoilwtico']])\n",
    "        model = PositiveRegressor(LinearRegression())\n",
    "        model.fit(X_train_current_family.drop(columns=['date']), y_train_current_family)\n",
    "        \n",
    "        \n",
    "        current_family_indices_test = X_test[X_test['family'] == current_family].index\n",
    "        X_test_current_family = X_test[X_test['family'] == current_family].drop(columns=['family'])\n",
    "        X_test_current_family[['dcoilwtico']] = scaler.transform(X_test_current_family[['dcoilwtico']])\n",
    "\n",
    "        previous_day = X_test_current_family['date'].unique()[0]\n",
    "        for current_day in X_test_current_family['date'].unique()[1:]:\n",
    "            X_test_for_current_day = X_test_current_family[X_test_current_family['date'] == previous_day].drop(columns=['date', 'pred'])\n",
    "            predictions = model.predict(X_test_for_current_day)\n",
    "    \n",
    "            X_test_current_family.loc[X_test_current_family['date'] == current_day, 'lag_1'] = predictions        \n",
    "            previous_day = current_day\n",
    "            \n",
    "            \n",
    "        y_pred_current_family = model.predict(X_test_current_family.drop(columns=['date', 'pred']))\n",
    "        X_test.loc[current_family_indices_test, 'pred'] = y_pred_current_family\n",
    "        \n",
    "    y_pred = X_test['pred'].copy()\n",
    "    X_test = X_test.drop(columns=['pred'])\n",
    "    scores['RMSLE'].append(np.sqrt(mean_squared_log_error(y_test, y_pred)))\n",
    "    scores['RMSE'].append(mean_squared_error(y_test, y_pred, squared=False))\n",
    "    scores['MAE'].append(mean_absolute_error(y_test, y_pred))\n",
    "    scores['R2'].append(r2_score(y_test, y_pred))\n",
    "\n",
    "for metric_name, metric_values in scores.items():\n",
    "    print(f'{metric_name}: {mean(metric_values):.3f} ± {stdev(metric_values):.3f}')"
   ]
  },
  {
   "cell_type": "code",
   "execution_count": null,
   "id": "83e49447",
   "metadata": {},
   "outputs": [],
   "source": [
    "keys = np.arange(1, 17)\n",
    "cv_scores = {key: [] for key in keys}\n",
    "\n",
    "for train_indices, test_indices in tscv.split(X, y):\n",
    "    X_train = X.iloc[train_indices]\n",
    "    y_train = y.iloc[train_indices]\n",
    "    X_test = X.iloc[test_indices]\n",
    "    y_test = y.iloc[test_indices]\n",
    "\n",
    "    for i, current_day in enumerate(X_test['date'].unique()):\n",
    "        current_day_indices_test = X_test[X_test['date'] == current_day].index\n",
    "        X_test_current_day = X_test[X_test['date'] == current_day]\n",
    "        y_test_current_day = y_test.loc[current_day_indices_test]\n",
    "        \n",
    "        X_test_current_day.loc[:, 'pred'] = 0\n",
    "        for current_family in X['family'].unique():\n",
    "            current_family_indices_train = X_train[X_train['family'] == current_family].index\n",
    "            X_train_current_family = X_train[X_train['family'] == current_family].drop(columns=['family'])\n",
    "            y_train_current_family = y_train.loc[current_family_indices_train]\n",
    "            scaler = MinMaxScaler()\n",
    "            X_train_current_family[['dcoilwtico']] = scaler.fit_transform(X_train_current_family[['dcoilwtico']])\n",
    "            \n",
    "            model = PositiveRegressor(LinearRegression())\n",
    "            model.fit(X_train_current_family.drop(columns=['date']), y_train_current_family)\n",
    "        \n",
    "            current_family_indices_test = X_test_current_day[X_test_current_day['family'] == current_family].index\n",
    "            X_test_current_family = X_test_current_day[X_test_current_day['family'] == current_family].drop(columns=['family'])\n",
    "            X_test_current_family[['dcoilwtico']] = scaler.transform(X_test_current_family[['dcoilwtico']])\n",
    "\n",
    "            previous_day = X_test_current_family['date'].unique()[0]\n",
    "            for current_day in X_test_current_family['date'].unique()[1:]:\n",
    "                X_test_for_current_day = X_test_current_family[X_test_current_family['date'] == previous_day].drop(columns=['pred', 'date'])\n",
    "                predictions = model.predict(X_test_for_current_day)\n",
    "                X_test_current_family.loc[X_test_current_family['date'] == current_day, 'lag_1'] = predictions\n",
    "                previous_day = current_day\n",
    "            \n",
    "        \n",
    "            y_pred_current_family = model.predict(X_test_current_family.drop(columns=['date', 'pred']))\n",
    "            X_test_current_day.loc[current_family_indices_test, 'pred'] = y_pred_current_family\n",
    "        \n",
    "        y_pred = X_test_current_day['pred'].copy()\n",
    "        X_test_current_day = X_test_current_day.drop(columns=['pred'])\n",
    "        cv_scores[i + 1].append(np.sqrt(mean_squared_log_error(y_test_current_day, y_pred)))\n",
    "\n",
    "for metric_name, metric_values in scores.items():\n",
    "    print(f'{metric_name}: {mean(metric_values):.3f} ± {stdev(metric_values):.3f}')"
   ]
  },
  {
   "cell_type": "code",
   "execution_count": null,
   "id": "2061fd1b",
   "metadata": {},
   "outputs": [],
   "source": [
    "plt.figure(figsize=(10, 10))\n",
    "X = list(cv_scores.keys())\n",
    "y = [mean(cv_scores[key]) for key in X]\n",
    "plt.plot(X, y)"
   ]
  },
  {
   "cell_type": "code",
   "execution_count": null,
   "id": "0a319bdb",
   "metadata": {},
   "outputs": [],
   "source": [
    "first_day_of_last_year = pd.to_datetime(X['date'].unique()[-1]) - timedelta(days=365)\n",
    "indexer = X[X['date'] >= str(first_day_of_last_year).split(' ')[0]].index\n",
    "X_train = X[X['date'] >= str(first_day_of_last_year).split(' ')[0]]\n",
    "y_train = y.loc[indexer]"
   ]
  },
  {
   "cell_type": "code",
   "execution_count": null,
   "id": "f6e365a2",
   "metadata": {},
   "outputs": [],
   "source": [
    "test_data = pd.read_csv(DATA_ROOT / 'test.csv').drop(columns=['onpromotion'])\n",
    "test_transformer = ETLTransformer(date_column='date', id_column='id')\n",
    "test_data = test_transformer.transform(test_data)[0]\n",
    "test_data = pd.get_dummies(test_data, columns=['store_nbr'], drop_first=True)\n",
    "test_data['lag_1'] = 0\n",
    "test_data.loc[test_data[test_data['date'] == test_data['date'].unique()[0]].index, 'lag_1'] = y_train.loc[X_train['date'] == X_train['date'].unique()[-1]].tolist()"
   ]
  },
  {
   "cell_type": "code",
   "execution_count": null,
   "id": "728087e3",
   "metadata": {},
   "outputs": [],
   "source": [
    "submission = pd.read_csv(DATA_ROOT / 'sample_submission.csv')"
   ]
  },
  {
   "cell_type": "code",
   "execution_count": null,
   "id": "859c7e0f",
   "metadata": {},
   "outputs": [],
   "source": [
    "for current_family in X['family'].unique():\n",
    "    current_family_indices_train = X_train[X_train['family'] == current_family].index\n",
    "    X_train_current_family = X_train[X_train['family'] == current_family].drop(columns=['family'])\n",
    "    y_train_current_family = y_train.loc[current_family_indices_train]\n",
    "    scaler = MinMaxScaler()\n",
    "    X_train_current_family[['dcoilwtico']] = scaler.fit_transform(X_train_current_family[['dcoilwtico']])\n",
    "    \n",
    "    model = PositiveRegressor(LinearRegression())\n",
    "    model.fit(X_train_current_family.drop(columns=['date']), y_train_current_family)\n",
    "    \n",
    "    X_test_current_family = test_data[test_data['family'] == current_family].drop(columns=['family'])\n",
    "    \n",
    "    X_test_current_family[['dcoilwtico']] = scaler.transform(X_test_current_family[['dcoilwtico']])    \n",
    "    \n",
    "    previous_day = X_test_current_family['date'].unique()[0]\n",
    "    for current_day in X_test_current_family['date'].unique()[1:]:\n",
    "        X_test_for_current_day = X_test_current_family[X_test_current_family['date'] == previous_day].drop('date', axis=1)\n",
    "        predictions = model.predict(X_test_for_current_day)\n",
    "        X_test_current_family.loc[X_test_current_family[X_test_current_family['date'] == current_day].index, 'lag_1'] = predictions\n",
    "        previous_day = current_day\n",
    "            \n",
    "    X_test_current_family = X_test_current_family.drop(columns=['date'])\n",
    "        \n",
    "    y_pred_current_family = model.predict(X_test_current_family)\n",
    "        \n",
    "    test_indices = test_data[test_data['family'] == current_family].index\n",
    "    submission.loc[test_indices, 'sales'] = y_pred_current_family"
   ]
  },
  {
   "cell_type": "code",
   "execution_count": null,
   "id": "86cc4b67",
   "metadata": {},
   "outputs": [],
   "source": [
    "submission.to_csv('./data/kaggle/store-sales-time-series-forecasting/linreg_dcoilwtico_and_lag_one.csv', index = False)"
   ]
  },
  {
   "cell_type": "code",
   "execution_count": null,
   "id": "36f41104",
   "metadata": {},
   "outputs": [],
   "source": []
  },
  {
   "cell_type": "code",
   "execution_count": null,
   "id": "6d30964c",
   "metadata": {},
   "outputs": [],
   "source": []
  },
  {
   "cell_type": "markdown",
   "id": "987e22f5",
   "metadata": {},
   "source": [
    "#### Partial autocorrelation plot for each family with 16 lags (to choose best of them)"
   ]
  },
  {
   "cell_type": "code",
   "execution_count": null,
   "id": "dca8ac8c",
   "metadata": {
    "scrolled": true
   },
   "outputs": [],
   "source": [
    "X = train.copy()\n",
    "\n",
    "first_day_of_last_year = pd.to_datetime(X['date'].unique()[-1]) - timedelta(days=365)\n",
    "indexer = X[X['date'] >= str(first_day_of_last_year).split(' ')[0]].index\n",
    "X_train = X[X['date'] >= str(first_day_of_last_year).split(' ')[0]]\n",
    "\n",
    "X_train = X_train.groupby(['family', 'date'])['sales'].mean()\n",
    "\n",
    "for i, current_family in enumerate(X['family'].unique()):\n",
    "    current_family_sales = X_train.loc[current_family].reset_index()['sales']\n",
    "    sm.graphics.tsa.plot_pacf(current_family_sales, lags=16)\n",
    "    plt.title(current_family)\n",
    "    plt.show()"
   ]
  },
  {
   "cell_type": "markdown",
   "id": "9d123d21",
   "metadata": {},
   "source": [
    "#### Correlation between 'dcoilwtico' and 'sales' for each family"
   ]
  },
  {
   "cell_type": "code",
   "execution_count": null,
   "id": "6ee156bf",
   "metadata": {
    "scrolled": true
   },
   "outputs": [],
   "source": [
    "X = train.copy().drop(columns='onpromotion')\n",
    "train_transformer = ETLTransformer(date_column='date', id_column='id')\n",
    "X = train_transformer.transform(X)[0]\n",
    "\n",
    "first_day_of_last_year = pd.to_datetime(X['date'].unique()[-1]) - timedelta(days=365)\n",
    "indexer = X[X['date'] >= str(first_day_of_last_year).split(' ')[0]].index\n",
    "X_train = X[X['date'] >= str(first_day_of_last_year).split(' ')[0]]\n",
    "\n",
    "for i, current_family in enumerate(X['family'].unique()):\n",
    "    current_family_sales = X_train.groupby(['family', 'date'])['sales'].mean().loc[current_family].reset_index()['sales']\n",
    "    current_family_oil = X_train.groupby(['family', 'date'])['dcoilwtico'].mean().loc[current_family].reset_index()['dcoilwtico']\n",
    "    df = pd.DataFrame(data={'oil': current_family_oil, 'sales': current_family_sales})\n",
    "    print(current_family)\n",
    "    print(df.corr())\n",
    "    print()\n",
    "    print()"
   ]
  },
  {
   "cell_type": "markdown",
   "id": "f3d8a947",
   "metadata": {},
   "source": [
    "# 2. Linear Regression with 'store_nbr', 'dcoilwtico' and 'lag' feature (1, 2, 4, 6, 7 and 14 days) (recursive strategy)"
   ]
  },
  {
   "cell_type": "code",
   "execution_count": null,
   "id": "6eb3c48c",
   "metadata": {},
   "outputs": [],
   "source": [
    "X = train.copy().drop(columns='onpromotion')\n",
    "train_transformer = ETLTransformer(date_column='date', id_column='id')\n",
    "X = train_transformer.transform(X)[0]"
   ]
  },
  {
   "cell_type": "code",
   "execution_count": null,
   "id": "92777c44",
   "metadata": {},
   "outputs": [],
   "source": [
    "days_to_shift = [1, 2, 4, 6, 7, 14]"
   ]
  },
  {
   "cell_type": "code",
   "execution_count": null,
   "id": "a443f6fd",
   "metadata": {},
   "outputs": [],
   "source": [
    "X = X[X['dcoilwtico'].notna()]\n",
    "X = X.reset_index(drop=True)\n",
    "\n",
    "lags = {lag:0 for lag in days_to_shift}\n",
    "for current_lag in lags.keys():\n",
    "    lags[current_lag] = X.groupby(['store_nbr', 'family'])['sales'].shift(current_lag)"
   ]
  },
  {
   "cell_type": "code",
   "execution_count": null,
   "id": "e12e7500",
   "metadata": {},
   "outputs": [],
   "source": [
    "X = pd.get_dummies(X, columns=['store_nbr'], drop_first=True)\n",
    "\n",
    "for current_lag in lags.keys():\n",
    "    X['lag_{}'.format(current_lag)] = lags[current_lag]\n",
    "\n",
    "X.head()"
   ]
  },
  {
   "cell_type": "code",
   "execution_count": null,
   "id": "f671353f",
   "metadata": {},
   "outputs": [],
   "source": [
    "y = X['sales'].copy()\n",
    "X = X.drop(columns=['sales'])"
   ]
  },
  {
   "cell_type": "code",
   "execution_count": null,
   "id": "d845b9be",
   "metadata": {},
   "outputs": [],
   "source": [
    "tscv = TimeSeriesSplit(gap=0, max_train_size=365 * 33 * 54, n_splits=4, test_size=16 * 33 * 54)"
   ]
  },
  {
   "cell_type": "code",
   "execution_count": null,
   "id": "15e70388",
   "metadata": {},
   "outputs": [],
   "source": [
    "ends = [(16 - x) for x in days_to_shift]\n",
    "ends.reverse()"
   ]
  },
  {
   "cell_type": "code",
   "execution_count": null,
   "id": "f4bf4ba8",
   "metadata": {
    "scrolled": true
   },
   "outputs": [],
   "source": [
    "scores = {'RMSLE': [], 'RMSE': [], 'MAE': [], 'R2': []}\n",
    "\n",
    "for train_indices, test_indices in tscv.split(X, y):\n",
    "    X_train = X.iloc[train_indices]\n",
    "    y_train = y.iloc[train_indices]\n",
    "    y_train = np.log(y_train + 1)\n",
    "    X_test = X.iloc[test_indices]\n",
    "    y_test = y.iloc[test_indices]\n",
    "    \n",
    "    X_test.loc[:, 'pred'] = 0\n",
    "    for current_family in X['family'].unique():\n",
    "        current_family_indices_train = X_train[X_train['family'] == current_family].index\n",
    "        X_train_current_family = X_train[X_train['family'] == current_family].drop(columns=['family'])\n",
    "        y_train_current_family = y_train.loc[current_family_indices_train]\n",
    "        scaler = MinMaxScaler()\n",
    "        X_train_current_family[['dcoilwtico']] = scaler.fit_transform(X_train_current_family[['dcoilwtico']])\n",
    "        \n",
    "        model = PositiveRegressor(LinearRegression())\n",
    "        model.fit(X_train_current_family.drop(columns=['date']), y_train_current_family)\n",
    "        \n",
    "        current_family_indices_test = X_test[X_test['family'] == current_family].index\n",
    "        X_test_current_family = X_test[X_test['family'] == current_family].drop(columns=['family'])\n",
    "        y_test_current_family = y_test.loc[current_family_indices_test]\n",
    "        X_test_current_family[['dcoilwtico']] = scaler.transform(X_test_current_family[['dcoilwtico']])\n",
    "                  \n",
    "        days_to_shift_copy = days_to_shift.copy()\n",
    "        start = 0\n",
    "        current_day_index = 0\n",
    "        for end in ends:\n",
    "            for current_day in X_test_current_family['date'].unique()[start:end]:\n",
    "                current_day_plus_x = {}\n",
    "                for current_lag in days_to_shift_copy:\n",
    "                    current_day_plus_x[current_lag] = X_test_current_family['date'].unique()[current_day_index + current_lag]\n",
    "                \n",
    "                X_test_for_current_day = X_test_current_family[X_test_current_family['date'] == current_day].drop(columns=['date', 'pred'])\n",
    "                predictions = model.predict(X_test_for_current_day)\n",
    "                \n",
    "                for current_lag in days_to_shift_copy:\n",
    "                    X_test_current_family.loc[X_test_current_family[X_test_current_family['date'] == current_day_plus_x[current_lag]].index, 'lag_{}'.format(current_lag)] = predictions\n",
    "                    \n",
    "                current_day_index += 1\n",
    "                \n",
    "            days_to_shift_copy = days_to_shift_copy[:-1]\n",
    "            start = end\n",
    "\n",
    "            \n",
    "        y_pred_current_family = model.predict(X_test_current_family.drop(columns=['date', 'pred']))\n",
    "        X_test.loc[current_family_indices_test, 'pred'] = y_pred_current_family\n",
    "        \n",
    "    y_pred = X_test['pred'].copy()\n",
    "    y_pred = np.exp(y_pred) - 1\n",
    "    X_test = X_test.drop(columns=['pred'])\n",
    "    \n",
    "    scores['RMSLE'].append(np.sqrt(mean_squared_log_error(y_test, y_pred)))\n",
    "    scores['RMSE'].append(mean_squared_error(y_test, y_pred, squared=False))\n",
    "    scores['MAE'].append(mean_absolute_error(y_test, y_pred))\n",
    "    scores['R2'].append(r2_score(y_test, y_pred))\n",
    "\n",
    "for metric_name, metric_values in scores.items():\n",
    "    print(f'{metric_name}: {mean(metric_values):.3f} ± {stdev(metric_values):.3f}')"
   ]
  },
  {
   "cell_type": "code",
   "execution_count": null,
   "id": "b798a742",
   "metadata": {},
   "outputs": [],
   "source": [
    "print(scores)"
   ]
  },
  {
   "cell_type": "code",
   "execution_count": null,
   "id": "162731e7",
   "metadata": {},
   "outputs": [],
   "source": [
    "first_day_of_last_year = pd.to_datetime(X['date'].unique()[-1]) - timedelta(days=365)\n",
    "indexer = X[X['date'] >= str(first_day_of_last_year).split(' ')[0]].index\n",
    "X_train = X[X['date'] >= str(first_day_of_last_year).split(' ')[0]]\n",
    "y_train = y.loc[indexer]"
   ]
  },
  {
   "cell_type": "code",
   "execution_count": null,
   "id": "962dddaf",
   "metadata": {},
   "outputs": [],
   "source": [
    "test_data = pd.read_csv(DATA_ROOT / 'test.csv').drop(columns=['onpromotion'])\n",
    "test_transformer = ETLTransformer(date_column='date', id_column='id')\n",
    "test_data = test_transformer.transform(test_data)[0]\n",
    "test_data = pd.get_dummies(test_data, columns=['store_nbr'], drop_first=True)\n",
    "for current_lag in days_to_shift:\n",
    "    test_data.loc[:, 'lag_{}'.format(current_lag)] = 0\n",
    "    \n",
    "    for i in range(current_lag):\n",
    "        test_data.loc[test_data[test_data['date'] == test_data['date'].unique()[i]].index, 'lag_{}'.format(current_lag)] = y_train.loc[X_train['date'] == X_train['date'].unique()[-(current_lag - i)]].tolist()"
   ]
  },
  {
   "cell_type": "code",
   "execution_count": null,
   "id": "b66a55d1",
   "metadata": {},
   "outputs": [],
   "source": [
    "submission = pd.read_csv(DATA_ROOT / 'sample_submission.csv')"
   ]
  },
  {
   "cell_type": "code",
   "execution_count": null,
   "id": "45a77007",
   "metadata": {},
   "outputs": [],
   "source": [
    "for current_family in X['family'].unique():\n",
    "    current_family_indices_train = X_train[X_train['family'] == current_family].index\n",
    "    X_train_current_family = X_train[X_train['family'] == current_family].drop(columns=['family'])\n",
    "    y_train_current_family = y_train.loc[current_family_indices_train]\n",
    "    y_train_current_family = np.log(y_train_current_family + 1)\n",
    "    scaler = MinMaxScaler()\n",
    "    X_train_current_family[['dcoilwtico']] = scaler.fit_transform(X_train_current_family[['dcoilwtico']])\n",
    "    \n",
    "    model = PositiveRegressor(LinearRegression())\n",
    "    model.fit(X_train_current_family.drop(columns=['date']), y_train_current_family)\n",
    "    \n",
    "    X_test_current_family = test_data[test_data['family'] == current_family].drop(columns=['family'])\n",
    "    X_test_current_family[['dcoilwtico']] = scaler.transform(X_test_current_family[['dcoilwtico']])    \n",
    "    \n",
    "    days_to_shift_copy = days_to_shift.copy()\n",
    "    start = 0\n",
    "    current_day_index = 0\n",
    "    for end in ends:\n",
    "        for current_day in X_test_current_family['date'].unique()[start:end]:\n",
    "            current_day_plus_x = {}\n",
    "            for current_lag in days_to_shift_copy:\n",
    "                current_day_plus_x[current_lag] = X_test_current_family['date'].unique()[current_day_index + current_lag]\n",
    "                \n",
    "            X_test_for_current_day = X_test_current_family[X_test_current_family['date'] == current_day].drop(columns=['date'])\n",
    "            predictions = model.predict(X_test_for_current_day)\n",
    "                \n",
    "            for current_lag in days_to_shift_copy:\n",
    "                X_test_current_family.loc[X_test_current_family[X_test_current_family['date'] == current_day_plus_x[current_lag]].index, 'lag_{}'.format(current_lag)] = predictions\n",
    "                    \n",
    "            current_day_index += 1\n",
    "                \n",
    "        days_to_shift_copy = days_to_shift_copy[:-1]\n",
    "        start = end\n",
    "            \n",
    "        \n",
    "    y_pred_current_family = model.predict(X_test_current_family.drop(columns=['date']))\n",
    "    y_pred_current_family = np.exp(y_pred_current_family) - 1\n",
    "    \n",
    "    test_indices = test_data[test_data['family'] == current_family].index\n",
    "    submission.loc[test_indices, 'sales'] = y_pred_current_family"
   ]
  },
  {
   "cell_type": "code",
   "execution_count": null,
   "id": "98cb42f5",
   "metadata": {},
   "outputs": [],
   "source": [
    "submission.to_csv('./data/kaggle/store-sales-time-series-forecasting/linreg_best_lags_only.csv', index = False)"
   ]
  },
  {
   "cell_type": "code",
   "execution_count": null,
   "id": "63bac813",
   "metadata": {},
   "outputs": [],
   "source": []
  },
  {
   "cell_type": "code",
   "execution_count": null,
   "id": "07ea48aa",
   "metadata": {},
   "outputs": [],
   "source": []
  },
  {
   "cell_type": "markdown",
   "id": "b2c529df",
   "metadata": {},
   "source": [
    "# 3. Linear Regression with 'store_nbr', 'dcoilwtico' and 'lag' feature (1 - 16 days) (recursive strategy)"
   ]
  },
  {
   "cell_type": "code",
   "execution_count": null,
   "id": "56b74ec5",
   "metadata": {},
   "outputs": [],
   "source": [
    "X = train.copy().drop(columns='onpromotion')\n",
    "train_transformer = ETLTransformer(date_column='date', id_column='id')\n",
    "X = train_transformer.transform(X)[0]"
   ]
  },
  {
   "cell_type": "code",
   "execution_count": null,
   "id": "8822a4d4",
   "metadata": {},
   "outputs": [],
   "source": [
    "days_to_shift = list(range(1, 17))"
   ]
  },
  {
   "cell_type": "code",
   "execution_count": null,
   "id": "d64b68eb",
   "metadata": {},
   "outputs": [],
   "source": [
    "X = X[X['dcoilwtico'].notna()]\n",
    "X = X.reset_index(drop=True)\n",
    "\n",
    "lags = {lag:0 for lag in days_to_shift}\n",
    "for current_lag in lags:\n",
    "    lags[current_lag] = X.groupby(['store_nbr', 'family'])['sales'].shift(current_lag)"
   ]
  },
  {
   "cell_type": "code",
   "execution_count": null,
   "id": "18420acb",
   "metadata": {},
   "outputs": [],
   "source": [
    "X = pd.get_dummies(X, columns=['store_nbr'], drop_first=True)\n",
    "\n",
    "for current_lag in lags.keys():\n",
    "    X['lag_{}'.format(current_lag)] = lags[current_lag]\n",
    "    \n",
    "X.head()"
   ]
  },
  {
   "cell_type": "code",
   "execution_count": null,
   "id": "ce745725",
   "metadata": {},
   "outputs": [],
   "source": [
    "y = X['sales'].copy()\n",
    "X = X.drop(columns=['sales'])"
   ]
  },
  {
   "cell_type": "code",
   "execution_count": null,
   "id": "f2f2ea7c",
   "metadata": {},
   "outputs": [],
   "source": [
    "tscv = TimeSeriesSplit(gap=0, max_train_size=365 * 33 * 54, n_splits=4, test_size=16 * 33 * 54)"
   ]
  },
  {
   "cell_type": "code",
   "execution_count": null,
   "id": "66a8f8f7",
   "metadata": {},
   "outputs": [],
   "source": [
    "scores = {'RMSLE': [], 'RMSE': [], 'MAE': [], 'R2': []}\n",
    "\n",
    "for train_indices, test_indices in tscv.split(X, y):\n",
    "    X_train = X.iloc[train_indices]\n",
    "    y_train = y.iloc[train_indices]\n",
    "    X_test = X.iloc[test_indices]\n",
    "    y_test = y.iloc[test_indices]\n",
    "    \n",
    "    X_test.loc[:, 'pred'] = 0\n",
    "    for current_family in X['family'].unique():\n",
    "        current_family_indices_train = X_train[X_train['family'] == current_family].index\n",
    "        X_train_current_family = X_train[X_train['family'] == current_family].drop(columns=['family'])\n",
    "        y_train_current_family = y_train.loc[current_family_indices_train]\n",
    "        scaler = MinMaxScaler()\n",
    "        X_train_current_family[['dcoilwtico']] = scaler.fit_transform(X_train_current_family[['dcoilwtico']])\n",
    "        \n",
    "        model = PositiveRegressor(LinearRegression())\n",
    "        model.fit(X_train_current_family.drop(columns=['date']), y_train_current_family)\n",
    "        \n",
    "        current_family_indices_test = X_test[X_test['family'] == current_family].index\n",
    "        X_test_current_family = X_test[X_test['family'] == current_family].drop(columns=['family'])\n",
    "        y_test_current_family = y_test.loc[current_family_indices_test]\n",
    "        X_test_current_family[['dcoilwtico']] = scaler.transform(X_test_current_family[['dcoilwtico']])\n",
    "                  \n",
    "\n",
    "        for i, current_day in enumerate(X_test_current_family['date'].unique()):\n",
    "            X_test_for_current_day = X_test_current_family[X_test_current_family['date'] == current_day].drop(columns=['date', 'pred'])\n",
    "            predictions = model.predict(X_test_for_current_day)\n",
    "            \n",
    "            for j in range(1, 16 - i):\n",
    "                next_day = X_test_current_family['date'].unique()[i + j]\n",
    "                X_test_current_family.loc[X_test_current_family[X_test_current_family['date'] == next_day].index, 'lag_{}'.format(j)] = predictions\n",
    "        \n",
    "        \n",
    "        y_pred_current_family = model.predict(X_test_current_family.drop(columns=['date', 'pred']))\n",
    "        y_pred_current_family[y_pred_current_family < 0] = 0\n",
    "        X_test.loc[current_family_indices_test, 'pred'] = y_pred_current_family\n",
    "        \n",
    "    y_pred = X_test['pred'].copy()\n",
    "    X_test = X_test.drop(columns=['pred'])\n",
    "    \n",
    "    scores['RMSLE'].append(np.sqrt(mean_squared_log_error(y_test, y_pred)))\n",
    "    scores['RMSE'].append(mean_squared_error(y_test, y_pred, squared=False))\n",
    "    scores['MAE'].append(mean_absolute_error(y_test, y_pred))\n",
    "    scores['R2'].append(r2_score(y_test, y_pred))\n",
    "\n",
    "for metric_name, metric_values in scores.items():\n",
    "    print(f'{metric_name}: {mean(metric_values):.3f} ± {stdev(metric_values):.3f}')"
   ]
  },
  {
   "cell_type": "code",
   "execution_count": null,
   "id": "e58a72d8",
   "metadata": {},
   "outputs": [],
   "source": [
    "first_day_of_last_year = pd.to_datetime(X['date'].unique()[-1]) - timedelta(days=365)\n",
    "indexer = X[X['date'] >= str(first_day_of_last_year).split(' ')[0]].index\n",
    "X_train = X[X['date'] >= str(first_day_of_last_year).split(' ')[0]]\n",
    "y_train = y.loc[indexer]"
   ]
  },
  {
   "cell_type": "code",
   "execution_count": null,
   "id": "6d1058ea",
   "metadata": {},
   "outputs": [],
   "source": [
    "test_data = pd.read_csv(DATA_ROOT / 'test.csv').drop(columns=['onpromotion'])\n",
    "test_transformer = ETLTransformer(date_column='date', id_column='id')\n",
    "test_data = test_transformer.transform(test_data)[0]\n",
    "test_data = pd.get_dummies(test_data, columns=['store_nbr'], drop_first=True)\n",
    "for current_lag in days_to_shift:\n",
    "    test_data.loc[:, 'lag_{}'.format(current_lag)] = 0\n",
    "    \n",
    "    for i in range(current_lag):\n",
    "        test_data.loc[test_data[test_data['date'] == test_data['date'].unique()[i]].index, 'lag_{}'.format(current_lag)] = y_train.loc[X_train['date'] == X_train['date'].unique()[-(current_lag - i)]].tolist()"
   ]
  },
  {
   "cell_type": "code",
   "execution_count": null,
   "id": "df5c4e12",
   "metadata": {},
   "outputs": [],
   "source": [
    "submission = pd.read_csv(DATA_ROOT / 'sample_submission.csv')"
   ]
  },
  {
   "cell_type": "code",
   "execution_count": null,
   "id": "494a78db",
   "metadata": {},
   "outputs": [],
   "source": [
    "for current_family in X['family'].unique():\n",
    "    current_family_indices_train = X_train[X_train['family'] == current_family].index\n",
    "    X_train_current_family = X_train[X_train['family'] == current_family].drop(columns=['family'])\n",
    "    y_train_current_family = y_train.loc[current_family_indices_train]\n",
    "    scaler = MinMaxScaler()\n",
    "    X_train_current_family[['dcoilwtico']] = scaler.fit_transform(X_train_current_family[['dcoilwtico']])\n",
    "    \n",
    "    model = PositiveRegressor(LinearRegression())\n",
    "    model.fit(X_train_current_family.drop(columns=['date']), y_train_current_family)\n",
    "    \n",
    "    X_test_current_family = test_data[test_data['family'] == current_family].drop(columns=['family'])\n",
    "    X_test_current_family[['dcoilwtico']] = scaler.transform(X_test_current_family[['dcoilwtico']])    \n",
    "    \n",
    "    for i, current_day in enumerate(X_test_current_family['date'].unique()):\n",
    "        X_test_for_current_day = X_test_current_family[X_test_current_family['date'] == current_day].drop(columns=['date'])\n",
    "        predictions = model.predict(X_test_for_current_day)\n",
    "        predictions[predictions < 0] = 0\n",
    "            \n",
    "        for j in range(1, 16 - i):\n",
    "            next_day = X_test_current_family['date'].unique()[i + j]\n",
    "            X_test_current_family.loc[X_test_current_family[X_test_current_family['date'] == next_day].index, 'lag_{}'.format(j)] = predictions\n",
    "            \n",
    "            \n",
    "        \n",
    "    y_pred_current_family = model.predict(X_test_current_family.drop(columns=['date']))\n",
    "    y_pred_current_family[y_pred_current_family < 0] = 0\n",
    "        \n",
    "    test_indices = test_data[test_data['family'] == current_family].index\n",
    "    submission.loc[test_indices, 'sales'] = y_pred_current_family"
   ]
  },
  {
   "cell_type": "code",
   "execution_count": null,
   "id": "9ee6c47d",
   "metadata": {},
   "outputs": [],
   "source": [
    "submission.to_csv('./data/kaggle/store-sales-time-series-forecasting/linreg_dcoilwtico_and_lags.csv', index = False)"
   ]
  },
  {
   "cell_type": "code",
   "execution_count": null,
   "id": "bb772018",
   "metadata": {},
   "outputs": [],
   "source": []
  },
  {
   "cell_type": "code",
   "execution_count": null,
   "id": "b317f8d8",
   "metadata": {},
   "outputs": [],
   "source": []
  },
  {
   "cell_type": "markdown",
   "id": "6dd649a3",
   "metadata": {},
   "source": [
    "# 4. Linear Regression with 'store_nbr', 'dcoilwtico' and 'lag' feature (1 - 16, 30 days) (recursive strategy)"
   ]
  },
  {
   "cell_type": "code",
   "execution_count": null,
   "id": "00e88695",
   "metadata": {},
   "outputs": [],
   "source": [
    "X = train.copy().drop(columns='onpromotion')\n",
    "train_transformer = ETLTransformer(date_column='date', id_column='id')\n",
    "X = train_transformer.transform(X)[0]"
   ]
  },
  {
   "cell_type": "code",
   "execution_count": null,
   "id": "6d690374",
   "metadata": {},
   "outputs": [],
   "source": [
    "days_to_shift = list(range(1, 17))"
   ]
  },
  {
   "cell_type": "code",
   "execution_count": null,
   "id": "26983e08",
   "metadata": {},
   "outputs": [],
   "source": [
    "X = X[X['dcoilwtico'].notna()]\n",
    "X = X.reset_index(drop=True)\n",
    "\n",
    "lags = {lag:0 for lag in days_to_shift}\n",
    "for current_lag in lags:\n",
    "    lags[current_lag] = X.groupby(['store_nbr', 'family'])['sales'].shift(current_lag)\n",
    "lags[30] = X.groupby(['store_nbr', 'family'])['sales'].shift(30)"
   ]
  },
  {
   "cell_type": "code",
   "execution_count": null,
   "id": "9315573a",
   "metadata": {},
   "outputs": [],
   "source": [
    "X = pd.get_dummies(X, columns=['store_nbr'], drop_first=True)\n",
    "\n",
    "for current_lag in lags.keys():\n",
    "    X['lag_{}'.format(current_lag)] = lags[current_lag]\n",
    "X['lag_30'] = lags[30]\n",
    "    \n",
    "X.head()"
   ]
  },
  {
   "cell_type": "code",
   "execution_count": null,
   "id": "6186af5e",
   "metadata": {},
   "outputs": [],
   "source": [
    "y = X['sales'].copy()\n",
    "X = X.drop(columns=['sales'])"
   ]
  },
  {
   "cell_type": "code",
   "execution_count": null,
   "id": "eabab099",
   "metadata": {},
   "outputs": [],
   "source": [
    "tscv = TimeSeriesSplit(gap=0, max_train_size=365 * 33 * 54, n_splits=4, test_size=16 * 33 * 54)"
   ]
  },
  {
   "cell_type": "code",
   "execution_count": null,
   "id": "d16b1ce5",
   "metadata": {},
   "outputs": [],
   "source": [
    "scores = {'RMSLE': [], 'RMSE': [], 'MAE': [], 'R2': []}\n",
    "\n",
    "for train_indices, test_indices in tscv.split(X, y):\n",
    "    X_train = X.iloc[train_indices]\n",
    "    y_train = y.iloc[train_indices]\n",
    "    X_test = X.iloc[test_indices]\n",
    "    y_test = y.iloc[test_indices]\n",
    "    \n",
    "    X_test.loc[:, 'pred'] = 0\n",
    "    for current_family in X['family'].unique():\n",
    "        current_family_indices_train = X_train[X_train['family'] == current_family].index\n",
    "        X_train_current_family = X_train[X_train['family'] == current_family].drop(columns=['family'])\n",
    "        y_train_current_family = y_train.loc[current_family_indices_train]\n",
    "        scaler = MinMaxScaler()\n",
    "        X_train_current_family[['dcoilwtico']] = scaler.fit_transform(X_train_current_family[['dcoilwtico']])\n",
    "        \n",
    "        model = PositiveRegressor(LinearRegression())\n",
    "        model.fit(X_train_current_family.drop(columns=['date']), y_train_current_family)\n",
    "        \n",
    "        current_family_indices_test = X_test[X_test['family'] == current_family].index\n",
    "        X_test_current_family = X_test[X_test['family'] == current_family].drop(columns=['family'])\n",
    "        y_test_current_family = y_test.loc[current_family_indices_test]\n",
    "        X_test_current_family[['dcoilwtico']] = scaler.transform(X_test_current_family[['dcoilwtico']])\n",
    "                  \n",
    "\n",
    "        for i, current_day in enumerate(X_test_current_family['date'].unique()):\n",
    "            X_test_for_current_day = X_test_current_family[X_test_current_family['date'] == current_day].drop(columns=['date', 'pred'])\n",
    "            predictions = model.predict(X_test_for_current_day)\n",
    "            \n",
    "            for j in range(1, 16 - i):\n",
    "                next_day = X_test_current_family['date'].unique()[i + j]\n",
    "                X_test_current_family.loc[X_test_current_family[X_test_current_family['date'] == next_day].index, 'lag_{}'.format(j)] = predictions\n",
    "        \n",
    "        \n",
    "        y_pred_current_family = model.predict(X_test_current_family.drop(columns=['date', 'pred']))\n",
    "        X_test.loc[current_family_indices_test, 'pred'] = y_pred_current_family\n",
    "        \n",
    "    y_pred = X_test['pred'].copy()\n",
    "    X_test = X_test.drop(columns=['pred'])\n",
    "    \n",
    "    scores['RMSLE'].append(np.sqrt(mean_squared_log_error(y_test, y_pred)))\n",
    "    scores['RMSE'].append(mean_squared_error(y_test, y_pred, squared=False))\n",
    "    scores['MAE'].append(mean_absolute_error(y_test, y_pred))\n",
    "    scores['R2'].append(r2_score(y_test, y_pred))\n",
    "\n",
    "for metric_name, metric_values in scores.items():\n",
    "    print(f'{metric_name}: {mean(metric_values):.3f} ± {stdev(metric_values):.3f}')"
   ]
  },
  {
   "cell_type": "code",
   "execution_count": null,
   "id": "99d4525b",
   "metadata": {},
   "outputs": [],
   "source": [
    "first_day_of_last_year = pd.to_datetime(X['date'].unique()[-1]) - timedelta(days=365)\n",
    "indexer = X[X['date'] >= str(first_day_of_last_year).split(' ')[0]].index\n",
    "X_train = X[X['date'] >= str(first_day_of_last_year).split(' ')[0]]\n",
    "y_train = y.loc[indexer]"
   ]
  },
  {
   "cell_type": "code",
   "execution_count": null,
   "id": "3a121a1f",
   "metadata": {},
   "outputs": [],
   "source": [
    "test_data = pd.read_csv(DATA_ROOT / 'test.csv').drop(columns=['onpromotion'])\n",
    "test_transformer = ETLTransformer(date_column='date', id_column='id')\n",
    "test_data = test_transformer.transform(test_data)[0]\n",
    "test_data = pd.get_dummies(test_data, columns=['store_nbr'], drop_first=True)\n",
    "for current_lag in days_to_shift:\n",
    "    test_data.loc[:, 'lag_{}'.format(current_lag)] = 0\n",
    "    \n",
    "    for i in range(current_lag):\n",
    "        test_data.loc[test_data[test_data['date'] == test_data['date'].unique()[i]].index, 'lag_{}'.format(current_lag)] = y_train.loc[X_train['date'] == X_train['date'].unique()[-(current_lag - i)]].tolist()\n",
    "\n",
    "test_data.loc[:, 'lag_30'] = 0\n",
    "for i in range(30):\n",
    "    test_data.loc[test_data[test_data['date'] == test_data['date'].unique()[j]].index, 'lag_30'] = y_train.loc[X_train['date'] == X_train['date'].unique()[-(30 - j)]].tolist()"
   ]
  },
  {
   "cell_type": "code",
   "execution_count": null,
   "id": "ea499ff5",
   "metadata": {},
   "outputs": [],
   "source": [
    "submission = pd.read_csv(DATA_ROOT / 'sample_submission.csv')"
   ]
  },
  {
   "cell_type": "code",
   "execution_count": null,
   "id": "05e22395",
   "metadata": {},
   "outputs": [],
   "source": [
    "for current_family in X['family'].unique():\n",
    "    current_family_indices_train = X_train[X_train['family'] == current_family].index\n",
    "    X_train_current_family = X_train[X_train['family'] == current_family].drop(columns=['family'])\n",
    "    y_train_current_family = y_train.loc[current_family_indices_train]\n",
    "    scaler = MinMaxScaler()\n",
    "    X_train_current_family[['dcoilwtico']] = scaler.fit_transform(X_train_current_family[['dcoilwtico']])\n",
    "    \n",
    "    model = PositiveRegressor(LinearRegression())\n",
    "    model.fit(X_train_current_family.drop(columns=['date']), y_train_current_family)\n",
    "    \n",
    "    X_test_current_family = test_data[test_data['family'] == current_family].drop(columns=['family'])\n",
    "    X_test_current_family[['dcoilwtico']] = scaler.transform(X_test_current_family[['dcoilwtico']])    \n",
    "    \n",
    "    for i, current_day in enumerate(X_test_current_family['date'].unique()):\n",
    "        X_test_for_current_day = X_test_current_family[X_test_current_family['date'] == current_day].drop(columns=['date'])\n",
    "        predictions = model.predict(X_test_for_current_day)\n",
    "            \n",
    "        for j in range(1, 16 - i):\n",
    "            next_day = X_test_current_family['date'].unique()[i + j]\n",
    "            X_test_current_family.loc[X_test_current_family[X_test_current_family['date'] == next_day].index, 'lag_{}'.format(j)] = predictions\n",
    "            \n",
    "            \n",
    "        \n",
    "    y_pred_current_family = model.predict(X_test_current_family.drop(columns=['date']))\n",
    "        \n",
    "    test_indices = test_data[test_data['family'] == current_family].index\n",
    "    submission.loc[test_indices, 'sales'] = y_pred_current_family"
   ]
  },
  {
   "cell_type": "code",
   "execution_count": null,
   "id": "f688bca6",
   "metadata": {},
   "outputs": [],
   "source": [
    "submission.to_csv('./data/kaggle/store-sales-time-series-forecasting/linreg_dcoilwtico_and_lags_v30.csv', index = False)"
   ]
  },
  {
   "cell_type": "code",
   "execution_count": null,
   "id": "6da0185f",
   "metadata": {},
   "outputs": [],
   "source": []
  },
  {
   "cell_type": "code",
   "execution_count": null,
   "id": "cf7c253c",
   "metadata": {},
   "outputs": [],
   "source": []
  },
  {
   "cell_type": "markdown",
   "id": "a72c6837",
   "metadata": {},
   "source": [
    "# 5. Linear Regression with 'store_nbr', 'dcoilwtico' and 'lag' feature (1, 2, 4, 6, 7 and 14 days) (direct strategy v1)"
   ]
  },
  {
   "cell_type": "code",
   "execution_count": null,
   "id": "25876002",
   "metadata": {},
   "outputs": [],
   "source": [
    "X = train.copy().drop(columns='onpromotion')\n",
    "train_transformer = ETLTransformer(date_column='date', id_column='id')\n",
    "X = train_transformer.transform(X)[0]"
   ]
  },
  {
   "cell_type": "code",
   "execution_count": null,
   "id": "3bd39498",
   "metadata": {},
   "outputs": [],
   "source": [
    "days_to_shift = [1, 2, 4, 6, 7, 14]"
   ]
  },
  {
   "cell_type": "code",
   "execution_count": null,
   "id": "124d2bc8",
   "metadata": {},
   "outputs": [],
   "source": [
    "X = X[X['dcoilwtico'].notna()]\n",
    "X = X.reset_index(drop=True)\n",
    "\n",
    "lags = {lag:0 for lag in days_to_shift}\n",
    "for current_lag in lags:\n",
    "    lags[current_lag] = X.groupby(['store_nbr', 'family'])['sales'].shift(current_lag)"
   ]
  },
  {
   "cell_type": "code",
   "execution_count": null,
   "id": "4042887e",
   "metadata": {
    "scrolled": true
   },
   "outputs": [],
   "source": [
    "for current_lag in lags.keys():\n",
    "    X['lag_{}'.format(current_lag)] = lags[current_lag]\n",
    "    \n",
    "targets = pd.DataFrame(index=range(X.shape[0]))\n",
    "for i in range(16):\n",
    "    targets.loc[:, '-{}'.format(i + 1)] = X.groupby(['store_nbr', 'family'])['sales'].shift(-(i + 1))\n",
    "\n",
    "X = pd.get_dummies(X, columns=['store_nbr'], drop_first=True)\n",
    "\n",
    "X.head()"
   ]
  },
  {
   "cell_type": "code",
   "execution_count": null,
   "id": "7ebe0c24",
   "metadata": {},
   "outputs": [],
   "source": [
    "y = X['sales'].copy()\n",
    "X = X.drop(columns=['sales'])"
   ]
  },
  {
   "cell_type": "code",
   "execution_count": null,
   "id": "17c97063",
   "metadata": {},
   "outputs": [],
   "source": [
    "tscv = TimeSeriesSplit(gap=0, max_train_size=365 * 33 * 54, n_splits=4, test_size=1 * 33 * 54)"
   ]
  },
  {
   "cell_type": "code",
   "execution_count": null,
   "id": "5c875107",
   "metadata": {},
   "outputs": [],
   "source": [
    "targets_nan_ind = targets[targets.isna().any(axis=1)].index\n",
    "targets = targets.dropna()\n",
    "X_without_last_days = X.copy().drop(labels = targets_nan_ind)\n",
    "y_without_last_days = y.copy().drop(labels = targets_nan_ind) "
   ]
  },
  {
   "cell_type": "code",
   "execution_count": null,
   "id": "839323b1",
   "metadata": {
    "scrolled": true
   },
   "outputs": [],
   "source": [
    "scores = {'RMSLE': [], 'RMSE': [], 'MAE': [], 'R2': []}\n",
    "\n",
    "for train_indices, test_indices in tscv.split(X_without_last_days, y_without_last_days):\n",
    "    X_train = X.iloc[train_indices]\n",
    "    y_train = targets.iloc[train_indices]\n",
    "    X_test = X.iloc[test_indices]\n",
    "    \n",
    "    first_day_pred = pd.to_datetime(X_test['date'].unique()[-1]) + timedelta(days=1)\n",
    "    last_day_pred = first_day_pred + timedelta(16)\n",
    "    first_day_pred = str(first_day_pred).split(' ')[0]\n",
    "    last_day_pred = str(last_day_pred).split(' ')[0]\n",
    "    \n",
    "    X_test_with_pred_ind = X[(X['date'] >= first_day_pred) & (X['date'] < last_day_pred)].index\n",
    "    X_test_with_pred = X[(X['date'] >= first_day_pred) & (X['date'] < last_day_pred)]\n",
    "    y_test = y.loc[X_test_with_pred_ind]\n",
    "        \n",
    "    X_test_with_pred.loc[:, 'pred'] = 0\n",
    "    for current_family in X['family'].unique():\n",
    "        current_family_indices_train = X_train[X_train['family'] == current_family].index\n",
    "        X_train_current_family = X_train[X_train['family'] == current_family].drop(columns=['family'])\n",
    "        y_train_current_family = y_train.loc[current_family_indices_train]\n",
    "        scaler = MinMaxScaler()\n",
    "        X_train_current_family[['dcoilwtico']] = scaler.fit_transform(X_train_current_family[['dcoilwtico']])\n",
    "        \n",
    "        model = MultiOutputRegressor(PositiveRegressor(LinearRegression()))\n",
    "        model.fit(X_train_current_family.drop(columns=['date']), y_train_current_family)\n",
    "        \n",
    "        current_family_indices_test = X_test_with_pred[X_test_with_pred['family'] == current_family].index\n",
    "        X_test_current_family = X_test[X_test['family'] == current_family].drop(columns=['family'])\n",
    "        y_test_current_family = y_test.loc[current_family_indices_test]\n",
    "        X_test_current_family[['dcoilwtico']] = scaler.transform(X_test_current_family[['dcoilwtico']])\n",
    "        \n",
    "        predictions = model.predict(X_test_current_family.drop(columns=['date']))\n",
    "        \n",
    "        for i in range(predictions.shape[1]):\n",
    "            X_test_with_pred.loc[X_test_with_pred[(X_test_with_pred['date'] == X_test_with_pred['date'].unique()[i]) & \\\n",
    "                                                  (X_test_with_pred['family'] == current_family)].index, 'pred'] = predictions[:, i].tolist()\n",
    "        \n",
    "    y_pred = X_test_with_pred['pred'].copy()\n",
    "    X_test_with_pred = X_test_with_pred.drop(columns=['pred'])\n",
    "    \n",
    "    scores['RMSLE'].append(np.sqrt(mean_squared_log_error(y_test, y_pred)))\n",
    "    scores['RMSE'].append(mean_squared_error(y_test, y_pred, squared=False))\n",
    "    scores['MAE'].append(mean_absolute_error(y_test, y_pred))\n",
    "    scores['R2'].append(r2_score(y_test, y_pred))\n",
    "\n",
    "for metric_name, metric_values in scores.items():\n",
    "    print(f'{metric_name}: {mean(metric_values):.3f} ± {stdev(metric_values):.3f}')"
   ]
  },
  {
   "cell_type": "code",
   "execution_count": null,
   "id": "818c9a1e",
   "metadata": {},
   "outputs": [],
   "source": [
    "for metric_name, metric_values in scores.items():\n",
    "    print(metric_name, metric_values)"
   ]
  },
  {
   "cell_type": "code",
   "execution_count": null,
   "id": "80202ffe",
   "metadata": {},
   "outputs": [],
   "source": []
  },
  {
   "cell_type": "code",
   "execution_count": null,
   "id": "dce22e40",
   "metadata": {},
   "outputs": [],
   "source": []
  },
  {
   "cell_type": "code",
   "execution_count": null,
   "id": "46b62bd3",
   "metadata": {},
   "outputs": [],
   "source": []
  },
  {
   "cell_type": "code",
   "execution_count": null,
   "id": "53956bb3",
   "metadata": {},
   "outputs": [],
   "source": [
    "X = train.copy()\n",
    "\n",
    "for i in range(16):\n",
    "    X.loc[:, '{} day'.format(i + 1)] = X.groupby(['store_nbr', 'family'])['sales'].shift(-(i + 1))\n",
    "\n",
    "X_copy = X.dropna()\n",
    "\n",
    "first_day_of_last_year = pd.to_datetime(X['date'].unique()[-1]) - timedelta(days=365)\n",
    "X_train = X_copy[X_copy['date'] >= str(first_day_of_last_year).split(' ')[0]]\n",
    "\n",
    "for i in range(16):\n",
    "    print('{} day'.format(i + 1))\n",
    "    X_train_current_lag = X_train.groupby(['family', 'date'])['{} day'.format(i + 1)].mean()\n",
    "    for current_family in X['family'].unique():\n",
    "        current_sales_current_family = X_train_current_lag.loc[current_family].reset_index()['{} day'.format(i + 1)]\n",
    "        sm.graphics.tsa.plot_pacf(current_sales_current_family, lags=16)\n",
    "        plt.title(current_family)\n",
    "        plt.show()\n",
    "    print()\n",
    "    print()"
   ]
  },
  {
   "cell_type": "markdown",
   "id": "e955979b",
   "metadata": {},
   "source": [
    "# 6. Linear Regression with 'store_nbr', 'dcoilwtico' and 'lag' features (direct strategy v2)"
   ]
  },
  {
   "cell_type": "code",
   "execution_count": null,
   "id": "9bac9776",
   "metadata": {},
   "outputs": [],
   "source": [
    "X = train.copy().drop(columns='onpromotion')\n",
    "train_transformer = ETLTransformer(date_column='date', id_column='id')\n",
    "X = train_transformer.transform(X)[0]"
   ]
  },
  {
   "cell_type": "code",
   "execution_count": null,
   "id": "23f62ab5",
   "metadata": {},
   "outputs": [],
   "source": [
    "days_to_shift = range(16)"
   ]
  },
  {
   "cell_type": "code",
   "execution_count": null,
   "id": "2a6e4bdf",
   "metadata": {},
   "outputs": [],
   "source": [
    "X = X[X['dcoilwtico'].notna()]\n",
    "X = X.reset_index(drop=True)\n",
    "\n",
    "lags = {lag:0 for lag in days_to_shift}\n",
    "for current_lag in lags:\n",
    "    lags[current_lag] = X.groupby(['store_nbr', 'family'])['sales'].shift(current_lag)"
   ]
  },
  {
   "cell_type": "code",
   "execution_count": null,
   "id": "87caa8eb",
   "metadata": {},
   "outputs": [],
   "source": [
    "for current_lag in lags.keys():\n",
    "    X['lag_{}'.format(current_lag)] = lags[current_lag]\n",
    "    \n",
    "targets = pd.DataFrame(index=range(X.shape[0]))\n",
    "\n",
    "for i in range(16):\n",
    "    targets.loc[:, '-{}'.format(i + 1)] = X.groupby(['store_nbr', 'family'])['sales'].shift(-(i + 1))\n",
    "\n",
    "X = pd.get_dummies(X, columns=['store_nbr'], drop_first=True)\n",
    "\n",
    "X.head()"
   ]
  },
  {
   "cell_type": "code",
   "execution_count": null,
   "id": "4c2e22ae",
   "metadata": {},
   "outputs": [],
   "source": [
    "y = X['sales'].copy()\n",
    "X = X.drop(columns=['sales'])"
   ]
  },
  {
   "cell_type": "code",
   "execution_count": null,
   "id": "463577dc",
   "metadata": {},
   "outputs": [],
   "source": [
    "tscv = TimeSeriesSplit(gap=0, max_train_size=365 * 33 * 54, n_splits=4, test_size=1 * 33 * 54)"
   ]
  },
  {
   "cell_type": "code",
   "execution_count": null,
   "id": "3e0a080c",
   "metadata": {},
   "outputs": [],
   "source": [
    "lags_for_test_each_horizon = {1: [0, 1, 3, 5, 6, 13], 2: [0, 2, 4, 5, 12], 3: [1, 3, 4, 11], 4: [0, 2, 3, 10],\n",
    "                              5: [1, 2, 9], 6: [0, 1, 8], 7: [0, 7], 8: [6], 9: [5], 10: [4], 11: [3], 12: [2],\n",
    "                              13: [1], 14: [0], 15: [], 16: []}"
   ]
  },
  {
   "cell_type": "code",
   "execution_count": null,
   "id": "df716bba",
   "metadata": {},
   "outputs": [],
   "source": [
    "targets_nan_ind = targets[targets.isna().any(axis=1)].index\n",
    "targets = targets.dropna()\n",
    "X_without_last_days = X.copy().drop(labels = targets_nan_ind)\n",
    "y_without_last_days = y.copy().drop(labels = targets_nan_ind) "
   ]
  },
  {
   "cell_type": "code",
   "execution_count": null,
   "id": "67bf6189",
   "metadata": {
    "scrolled": true
   },
   "outputs": [],
   "source": [
    "scores = {'RMSLE': [], 'RMSE': [], 'MAE': [], 'R2': []}\n",
    "\n",
    "for train_indices, test_indices in tscv.split(X_without_last_days, y_without_last_days):\n",
    "    X_train = X.iloc[train_indices]\n",
    "    y_train = targets.iloc[train_indices]\n",
    "    X_test = X.iloc[test_indices]\n",
    "    \n",
    "    first_day_pred = pd.to_datetime(X_test['date'].unique()[-1]) + timedelta(days=1)\n",
    "    last_day_pred = first_day_pred + timedelta(16)\n",
    "    first_day_pred = str(first_day_pred).split(' ')[0]\n",
    "    last_day_pred = str(last_day_pred).split(' ')[0]\n",
    "    \n",
    "    X_test_with_pred_ind = X[(X['date'] >= first_day_pred) & (X['date'] < last_day_pred)].index\n",
    "    X_test_with_pred = X[(X['date'] >= first_day_pred) & (X['date'] < last_day_pred)]\n",
    "    y_test = y.loc[X_test_with_pred_ind]\n",
    "        \n",
    "    X_test_with_pred.loc[:, 'pred'] = 0\n",
    "    for current_horizon in range(1, 17):\n",
    "        print(current_horizon)\n",
    "        lags_for_train_current_horizon = [(x + 1) for x in lags_for_test_each_horizon[current_horizon]]\n",
    "        X_train_current_horizon = X_train.drop(columns=['lag_{}'.format(x) for x in days_to_shift if x not in lags_for_train_current_horizon])\n",
    "        X_test_current_horizon = X_test.drop(columns=['lag_{}'.format(x) for x in days_to_shift if x not in lags_for_test_each_horizon[current_horizon]])\n",
    "        y_train_current_horizon = y_train['-{}'.format(current_horizon - 1)]\n",
    "        \n",
    "        for current_family in X['family'].unique():\n",
    "            current_family_indices_train = X_train_current_horizon[X_train_current_horizon['family'] == current_family].index\n",
    "            X_train_current_family = X_train_current_horizon[X_train_current_horizon['family'] == current_family].drop(columns=['family'])\n",
    "            y_train_current_family = y_train_current_horizon.loc[current_family_indices_train]\n",
    "            scaler = MinMaxScaler()\n",
    "            X_train_current_family[['dcoilwtico']] = scaler.fit_transform(X_train_current_family[['dcoilwtico']])\n",
    "        \n",
    "            model = PositiveRegressor(LinearRegression())\n",
    "            model.fit(X_train_current_family.drop(columns=['date']), y_train_current_family)\n",
    "        \n",
    "            current_family_indices_test = X_test_with_pred[X_test_with_pred['family'] == current_family].index\n",
    "            X_test_current_family = X_test_current_horizon[X_test_current_horizon['family'] == current_family].drop(columns=['family'])\n",
    "            y_test_current_family = y_test.loc[current_family_indices_test]\n",
    "            X_test_current_family[['dcoilwtico']] = scaler.transform(X_test_current_family[['dcoilwtico']])\n",
    "        \n",
    "            predictions = model.predict(X_test_current_family.drop(columns=['date']))\n",
    "        \n",
    "            X_test_with_pred.loc[X_test_with_pred[(X_test_with_pred['date'] == X_test_with_pred['date'].unique()[current_horizon - 1]) & \\\n",
    "                                                  (X_test_with_pred['family'] == current_family)].index, 'pred'] = predictions.tolist()\n",
    "        \n",
    "    y_pred = X_test_with_pred['pred'].copy()\n",
    "    X_test_with_pred = X_test_with_pred.drop(columns=['pred'])\n",
    "    \n",
    "    scores['RMSLE'].append(np.sqrt(mean_squared_log_error(y_test, y_pred)))\n",
    "    scores['RMSE'].append(mean_squared_error(y_test, y_pred, squared=False))\n",
    "    scores['MAE'].append(mean_absolute_error(y_test, y_pred))\n",
    "    scores['R2'].append(r2_score(y_test, y_pred))\n",
    "\n",
    "for metric_name, metric_values in scores.items():\n",
    "    print(f'{metric_name}: {mean(metric_values):.3f} ± {stdev(metric_values):.3f}')"
   ]
  },
  {
   "cell_type": "code",
   "execution_count": null,
   "id": "b71ceebb",
   "metadata": {},
   "outputs": [],
   "source": [
    "for metric_name, metric_values in scores.items():\n",
    "    print(metric_name, metric_values)"
   ]
  },
  {
   "cell_type": "code",
   "execution_count": null,
   "id": "4daa9600",
   "metadata": {},
   "outputs": [],
   "source": []
  },
  {
   "cell_type": "code",
   "execution_count": null,
   "id": "8236fa4e",
   "metadata": {},
   "outputs": [],
   "source": []
  },
  {
   "cell_type": "markdown",
   "id": "ad745d09",
   "metadata": {},
   "source": [
    "# 7. Linear Regression, features: 'store_nbr', 'dcoilwtico' with 'lags' (1 day shift) and 'lags' for target (1, 2, 4, 6, 7, 14 days shift) (direct-recursive strategy)"
   ]
  },
  {
   "cell_type": "code",
   "execution_count": null,
   "id": "9687f36c",
   "metadata": {},
   "outputs": [],
   "source": [
    "X = train.copy().drop(columns='onpromotion')\n",
    "train_transformer = ETLTransformer(date_column='date', id_column='id')\n",
    "X = train_transformer.transform(X)[0]"
   ]
  },
  {
   "cell_type": "code",
   "execution_count": null,
   "id": "d532ca88",
   "metadata": {},
   "outputs": [],
   "source": [
    "days_to_shift = [1, 2, 4, 6, 7, 14]"
   ]
  },
  {
   "cell_type": "code",
   "execution_count": null,
   "id": "d32fa07f",
   "metadata": {},
   "outputs": [],
   "source": [
    "X = X[X['dcoilwtico'].notna()]\n",
    "X = X.reset_index(drop=True)\n",
    "\n",
    "lags = {lag:0 for lag in days_to_shift}\n",
    "for current_lag in lags:\n",
    "    lags[current_lag] = X.groupby(['store_nbr', 'family'])['sales'].shift(current_lag)"
   ]
  },
  {
   "cell_type": "code",
   "execution_count": null,
   "id": "4fa55953",
   "metadata": {},
   "outputs": [],
   "source": [
    "for current_lag in lags.keys():\n",
    "    X['lag_{}'.format(current_lag)] = lags[current_lag]\n",
    "    \n",
    "targets = pd.DataFrame(index=range(X.shape[0]))\n",
    "\n",
    "for i in range(16):\n",
    "    targets.loc[:, '-{}'.format(i + 1)] = X.groupby(['store_nbr', 'family'])['sales'].shift(-(i + 1))\n",
    "\n",
    "X = pd.get_dummies(X, columns=['store_nbr'], drop_first=True)\n",
    "\n",
    "X.head()"
   ]
  },
  {
   "cell_type": "code",
   "execution_count": null,
   "id": "59c8d3f1",
   "metadata": {},
   "outputs": [],
   "source": [
    "y = X['sales'].copy()\n",
    "X = X.drop(columns=['sales'])"
   ]
  },
  {
   "cell_type": "code",
   "execution_count": null,
   "id": "11783998",
   "metadata": {},
   "outputs": [],
   "source": [
    "tscv = TimeSeriesSplit(gap=0, max_train_size=365 * 33 * 54, n_splits=4, test_size=1 * 33 * 54)"
   ]
  },
  {
   "cell_type": "code",
   "execution_count": null,
   "id": "638d08ba",
   "metadata": {},
   "outputs": [],
   "source": [
    "lags_for_test_each_horizon = {1: [0, 1, 3, 5, 6, 13], 2: [0, 2, 4, 5, 12], 3: [1, 3, 4, 11], 4: [0, 2, 3, 10],\n",
    "                              5: [1, 2, 9], 6: [0, 1, 8], 7: [0, 7], 8: [6], 9: [5], 10: [4], 11: [3], 12: [2],\n",
    "                              13: [1], 14: [0], 15: [], 16: []}"
   ]
  },
  {
   "cell_type": "code",
   "execution_count": null,
   "id": "9fe51a5f",
   "metadata": {},
   "outputs": [],
   "source": [
    "targets_nan_ind = targets[targets.isna().any(axis=1)].index\n",
    "targets = targets.dropna()\n",
    "X_without_last_days = X.copy().drop(labels = targets_nan_ind)\n",
    "y_without_last_days = y.copy().drop(labels = targets_nan_ind)"
   ]
  },
  {
   "cell_type": "code",
   "execution_count": null,
   "id": "5b3e585e",
   "metadata": {},
   "outputs": [],
   "source": [
    "scores = {'RMSLE': [], 'RMSE': [], 'MAE': [], 'R2': []}\n",
    "\n",
    "for train_indices, test_indices in tscv.split(X_without_last_days, y_without_last_days):\n",
    "    lags_for_horizons_during_direct = {horizon:{} for horizon in range(2, 17)}\n",
    "    X_train = X.iloc[train_indices]\n",
    "    y_train = targets.iloc[train_indices]\n",
    "    X_test = X.iloc[test_indices]\n",
    "    \n",
    "    first_day_pred = pd.to_datetime(X_test['date'].unique()[-1]) + timedelta(days=1)\n",
    "    last_day_pred = first_day_pred + timedelta(16)\n",
    "    first_day_pred = str(first_day_pred).split(' ')[0]\n",
    "    last_day_pred = str(last_day_pred).split(' ')[0]\n",
    "    \n",
    "    X_test_with_pred_ind = X[(X['date'] >= first_day_pred) & (X['date'] < last_day_pred)].index\n",
    "    X_test_with_pred = X[(X['date'] >= first_day_pred) & (X['date'] < last_day_pred)]\n",
    "    y_test = y.loc[X_test_with_pred_ind]\n",
    "        \n",
    "    X_test_with_pred.loc[:, 'pred'] = 0\n",
    "    for current_horizon in range(1, 17):\n",
    "        unknown_lags_for_current_horizon = [x for x in days_to_shift if x < current_horizon]\n",
    "        X_train_current_horizon = X_train.copy()\n",
    "        y_train_current_horizon = y_train['-{}'.format(current_horizon)]\n",
    "        X_test_current_horizon = X_test.copy()\n",
    "        for unknown_lag in ['lag_{}'.format(x) for x in unknown_lags_for_current_horizon]:\n",
    "            X_test_current_horizon[unknown_lag] = lags_for_horizons_during_direct[current_horizon][unknown_lag].copy()\n",
    "        \n",
    "        for current_family in X['family'].unique():\n",
    "            current_family_indices_train = X_train_current_horizon[X_train_current_horizon['family'] == current_family].index\n",
    "            X_train_current_family = X_train_current_horizon[X_train_current_horizon['family'] == current_family].drop(columns=['family'])\n",
    "            y_train_current_family = y_train_current_horizon.loc[current_family_indices_train]\n",
    "            scaler = MinMaxScaler()\n",
    "            X_train_current_family[['dcoilwtico']] = scaler.fit_transform(X_train_current_family[['dcoilwtico']])\n",
    "        \n",
    "            model = PositiveRegressor(LinearRegression())\n",
    "            model.fit(X_train_current_family.drop(columns=['date']), y_train_current_family)\n",
    "        \n",
    "            current_family_indices_test = X_test_with_pred[X_test_with_pred['family'] == current_family].index\n",
    "            X_test_current_family = X_test_current_horizon[X_test_current_horizon['family'] == current_family].drop(columns=['family'])\n",
    "            y_test_current_family = y_test.loc[current_family_indices_test]\n",
    "            X_test_current_family[['dcoilwtico']] = scaler.transform(X_test_current_family[['dcoilwtico']])\n",
    "        \n",
    "            predictions = model.predict(X_test_current_family.drop(columns=['date']))\n",
    "        \n",
    "            X_test_with_pred.loc[X_test_with_pred[(X_test_with_pred['date'] == X_test_with_pred['date'].unique()[current_horizon - 1]) & \\\n",
    "                                                  (X_test_with_pred['family'] == current_family)].index, 'pred'] = predictions.tolist()\n",
    "        \n",
    "        \n",
    "        current_horizon_predictions = X_test_with_pred[X_test_with_pred['date'] == X_test_with_pred['date'].unique()[current_horizon - 1]]['pred'].tolist()\n",
    "        \n",
    "        future_horizons = [(current_horizon + x) for x in days_to_shift if current_horizon + x <= 16]\n",
    "        for future_horizon in future_horizons:\n",
    "            lags_for_horizons_during_direct[future_horizon]['lag_{}'.format(future_horizon - current_horizon)] = current_horizon_predictions\n",
    "\n",
    "        \n",
    "    y_pred = X_test_with_pred['pred'].copy()\n",
    "    X_test_with_pred = X_test_with_pred.drop(columns=['pred'])\n",
    "    \n",
    "    scores['RMSLE'].append(np.sqrt(mean_squared_log_error(y_test, y_pred)))\n",
    "    scores['RMSE'].append(mean_squared_error(y_test, y_pred, squared=False))\n",
    "    scores['MAE'].append(mean_absolute_error(y_test, y_pred))\n",
    "    scores['R2'].append(r2_score(y_test, y_pred))\n",
    "\n",
    "for metric_name, metric_values in scores.items():\n",
    "    print(f'{metric_name}: {mean(metric_values):.3f} ± {stdev(metric_values):.3f}')"
   ]
  },
  {
   "cell_type": "code",
   "execution_count": null,
   "id": "8c48d765",
   "metadata": {},
   "outputs": [],
   "source": [
    "print(scores)"
   ]
  },
  {
   "cell_type": "code",
   "execution_count": null,
   "id": "40b057fd",
   "metadata": {},
   "outputs": [],
   "source": []
  },
  {
   "cell_type": "code",
   "execution_count": null,
   "id": "301c223e",
   "metadata": {},
   "outputs": [],
   "source": []
  },
  {
   "cell_type": "code",
   "execution_count": null,
   "id": "e939a5eb",
   "metadata": {},
   "outputs": [],
   "source": []
  },
  {
   "cell_type": "markdown",
   "id": "03b0e712",
   "metadata": {},
   "source": [
    "# 8. Linear Regression, features: 'store_nbr', 'dcoilwtico' with 'lags' (1 day shift) and 'lags' for target (1, 2, 4, 6, 7, 14 days shift) (recursive strategy)"
   ]
  },
  {
   "cell_type": "code",
   "execution_count": null,
   "id": "029aa24f",
   "metadata": {},
   "outputs": [],
   "source": [
    "X = train.copy().drop(columns='onpromotion')\n",
    "train_transformer = ETLTransformer(date_column='date', id_column='id')\n",
    "X = train_transformer.transform(X)[0]"
   ]
  },
  {
   "cell_type": "code",
   "execution_count": null,
   "id": "54b59399",
   "metadata": {},
   "outputs": [],
   "source": [
    "days_to_shift = [1, 2, 4, 6, 7, 14]"
   ]
  },
  {
   "cell_type": "code",
   "execution_count": null,
   "id": "6c41bb7c",
   "metadata": {},
   "outputs": [],
   "source": [
    "X = X[X['dcoilwtico'].notna()]\n",
    "X = X.reset_index(drop=True)\n",
    "\n",
    "lags = {lag:0 for lag in days_to_shift}\n",
    "for current_lag in lags:\n",
    "    lags[current_lag] = X.groupby(['store_nbr', 'family'])['sales'].shift(current_lag)"
   ]
  },
  {
   "cell_type": "code",
   "execution_count": null,
   "id": "541c6d09",
   "metadata": {},
   "outputs": [],
   "source": [
    "X = pd.get_dummies(X, columns=['store_nbr'], drop_first=True)\n",
    "\n",
    "for current_lag in lags.keys():\n",
    "    X['lag_{}'.format(current_lag)] = lags[current_lag]\n",
    "    \n",
    "X.head()"
   ]
  },
  {
   "cell_type": "code",
   "execution_count": null,
   "id": "ceeca77e",
   "metadata": {},
   "outputs": [],
   "source": [
    "y = X['sales'].copy()\n",
    "X = X.drop(columns=['sales'])"
   ]
  },
  {
   "cell_type": "code",
   "execution_count": null,
   "id": "d127a229",
   "metadata": {},
   "outputs": [],
   "source": [
    "first_day_of_last_year = pd.to_datetime(X['date'].unique()[-1]) - timedelta(days=365)\n",
    "indexer = X[X['date'] >= str(first_day_of_last_year).split(' ')[0]].index\n",
    "X_train = X[X['date'] >= str(first_day_of_last_year).split(' ')[0]]"
   ]
  },
  {
   "cell_type": "code",
   "execution_count": null,
   "id": "3ee33864",
   "metadata": {},
   "outputs": [],
   "source": [
    "oil_price = X_train.groupby('date')['dcoilwtico'].mean().reset_index()['dcoilwtico']\n",
    "sm.graphics.tsa.plot_pacf(oil_price, lags=16)\n",
    "plt.show()"
   ]
  },
  {
   "cell_type": "code",
   "execution_count": null,
   "id": "0e74b13a",
   "metadata": {},
   "outputs": [],
   "source": [
    "lag_1_oil = pd.DataFrame(data=X.groupby(['date'])['dcoilwtico'].mean())\n",
    "lag_1_oil['dcoilwtico'] = lag_1_oil['dcoilwtico'].shift()\n",
    "lag_1_oil = lag_1_oil.rename(columns={'dcoilwtico': 'lag_1_oil'})\n",
    "X = X.merge(lag_1_oil, on='date', how='left')\n",
    "X.head()"
   ]
  },
  {
   "cell_type": "code",
   "execution_count": null,
   "id": "1154fe54",
   "metadata": {},
   "outputs": [],
   "source": [
    "tscv = TimeSeriesSplit(gap=0, max_train_size=365 * 33 * 54, n_splits=4, test_size=16 * 33 * 54)"
   ]
  },
  {
   "cell_type": "code",
   "execution_count": null,
   "id": "8f7f5906",
   "metadata": {},
   "outputs": [],
   "source": [
    "ends = [(16 - x) for x in days_to_shift]\n",
    "ends.reverse()"
   ]
  },
  {
   "cell_type": "code",
   "execution_count": null,
   "id": "9bb59511",
   "metadata": {
    "scrolled": true
   },
   "outputs": [],
   "source": [
    "scores = {'RMSLE': [], 'RMSE': [], 'MAE': [], 'R2': []}\n",
    "\n",
    "for train_indices, test_indices in tscv.split(X, y):\n",
    "    X_train = X.iloc[train_indices]\n",
    "    y_train = y.iloc[train_indices]\n",
    "    X_test = X.iloc[test_indices]\n",
    "    y_test = y.iloc[test_indices]\n",
    "    \n",
    "    X_test.loc[:, 'pred'] = 0\n",
    "    for current_family in X['family'].unique():\n",
    "        current_family_indices_train = X_train[X_train['family'] == current_family].index\n",
    "        X_train_current_family = X_train[X_train['family'] == current_family].drop(columns=['family'])\n",
    "        y_train_current_family = y_train.loc[current_family_indices_train]\n",
    "        scaler = MinMaxScaler()\n",
    "        X_train_current_family[['dcoilwtico']] = scaler.fit_transform(X_train_current_family[['dcoilwtico']])\n",
    "        X_train_current_family[['lag_1_oil']] = scaler.transform(X_train_current_family[['lag_1_oil']])\n",
    "        \n",
    "        model = PositiveRegressor(LinearRegression())\n",
    "        model.fit(X_train_current_family.drop(columns=['date']), y_train_current_family)\n",
    "        \n",
    "        current_family_indices_test = X_test[X_test['family'] == current_family].index\n",
    "        X_test_current_family = X_test[X_test['family'] == current_family].drop(columns=['family'])\n",
    "        y_test_current_family = y_test.loc[current_family_indices_test]\n",
    "        X_test_current_family[['dcoilwtico']] = scaler.transform(X_test_current_family[['dcoilwtico']])\n",
    "        X_test_current_family[['lag_1_oil']] = scaler.transform(X_test_current_family[['lag_1_oil']])\n",
    "                  \n",
    "        days_to_shift_copy = days_to_shift.copy()\n",
    "        start = 0\n",
    "        current_day_index = 0\n",
    "        for end in ends:\n",
    "            for current_day in X_test_current_family['date'].unique()[start:end]:\n",
    "                current_day_plus_x = {}\n",
    "                for current_lag in days_to_shift_copy:\n",
    "                    current_day_plus_x[current_lag] = X_test_current_family['date'].unique()[current_day_index + current_lag]\n",
    "                \n",
    "                X_test_for_current_day = X_test_current_family[X_test_current_family['date'] == current_day].drop(columns=['date', 'pred'])\n",
    "                predictions = model.predict(X_test_for_current_day)\n",
    "                \n",
    "                for current_lag in days_to_shift_copy:\n",
    "                    X_test_current_family.loc[X_test_current_family[X_test_current_family['date'] == current_day_plus_x[current_lag]].index, 'lag_{}'.format(current_lag)] = predictions\n",
    "                    \n",
    "                current_day_index += 1\n",
    "                \n",
    "            days_to_shift_copy = days_to_shift_copy[:-1]\n",
    "            start = end\n",
    "\n",
    "            \n",
    "        y_pred_current_family = model.predict(X_test_current_family.drop(columns=['date', 'pred']))\n",
    "        X_test.loc[current_family_indices_test, 'pred'] = y_pred_current_family\n",
    "        \n",
    "    y_pred = X_test['pred'].copy()\n",
    "    X_test = X_test.drop(columns=['pred'])\n",
    "    \n",
    "    scores['RMSLE'].append(np.sqrt(mean_squared_log_error(y_test, y_pred)))\n",
    "    scores['RMSE'].append(mean_squared_error(y_test, y_pred, squared=False))\n",
    "    scores['MAE'].append(mean_absolute_error(y_test, y_pred))\n",
    "    scores['R2'].append(r2_score(y_test, y_pred))\n",
    "\n",
    "for metric_name, metric_values in scores.items():\n",
    "    print(f'{metric_name}: {mean(metric_values):.3f} ± {stdev(metric_values):.3f}')"
   ]
  },
  {
   "cell_type": "code",
   "execution_count": null,
   "id": "a9e020c4",
   "metadata": {},
   "outputs": [],
   "source": [
    "plt.plot(scores['RMSLE'])"
   ]
  },
  {
   "cell_type": "code",
   "execution_count": null,
   "id": "f4036e9f",
   "metadata": {},
   "outputs": [],
   "source": []
  }
 ],
 "metadata": {
  "kernelspec": {
   "display_name": "Python 3",
   "language": "python",
   "name": "python3"
  },
  "language_info": {
   "codemirror_mode": {
    "name": "ipython",
    "version": 3
   },
   "file_extension": ".py",
   "mimetype": "text/x-python",
   "name": "python",
   "nbconvert_exporter": "python",
   "pygments_lexer": "ipython3",
   "version": "3.8.8"
  }
 },
 "nbformat": 4,
 "nbformat_minor": 5
}
