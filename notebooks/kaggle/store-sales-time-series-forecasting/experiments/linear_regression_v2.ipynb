{
 "cells": [
  {
   "cell_type": "markdown",
   "id": "38bebccd",
   "metadata": {},
   "source": [
    "# Experiments with linear models for each family"
   ]
  },
  {
   "cell_type": "code",
   "execution_count": null,
   "id": "7c43db42",
   "metadata": {},
   "outputs": [],
   "source": [
    "import os\n",
    "os.chdir(os.environ['PROJECT_ROOT'])"
   ]
  },
  {
   "cell_type": "code",
   "execution_count": null,
   "id": "e2443dc6",
   "metadata": {},
   "outputs": [],
   "source": [
    "import warnings\n",
    "import numpy as np\n",
    "import pandas as pd\n",
    "import matplotlib.pyplot as plt\n",
    "import matplotlib.dates as mdates\n",
    "import seaborn as sns\n",
    "import sklearn\n",
    "import pdpipe as pdp\n",
    "from datetime import timedelta\n",
    "from statistics import median\n",
    "from pdpipe import df\n",
    "from pathlib import Path\n",
    "from sklearn.linear_model import LinearRegression, Ridge, Lasso\n",
    "from sklearn.preprocessing import OneHotEncoder, MinMaxScaler\n",
    "from sklearn.pipeline import make_pipeline\n",
    "from sklearn.model_selection import cross_validate, cross_val_score, TimeSeriesSplit, GridSearchCV\n",
    "from sklearn.compose import ColumnTransformer\n",
    "from sklearn.metrics import mean_squared_log_error, mean_squared_error, mean_absolute_error, r2_score, mean_absolute_percentage_error\n",
    "\n",
    "%matplotlib inline\n",
    "warnings.simplefilter(action='ignore', category=FutureWarning)"
   ]
  },
  {
   "cell_type": "code",
   "execution_count": null,
   "id": "5b45e993",
   "metadata": {},
   "outputs": [],
   "source": [
    "DATA_ROOT = Path('data', 'kaggle', 'store-sales-time-series-forecasting')"
   ]
  },
  {
   "cell_type": "code",
   "execution_count": null,
   "id": "b79e6093",
   "metadata": {},
   "outputs": [],
   "source": [
    "train = pd.read_csv(DATA_ROOT / 'prepared_train.csv', low_memory=False)\n",
    "train.head()"
   ]
  },
  {
   "cell_type": "code",
   "execution_count": null,
   "id": "8eabc7d4",
   "metadata": {},
   "outputs": [],
   "source": [
    "X = train[['store_nbr', 'family', 'onpromotion', 'dcoilwtico', 'sales']]\n",
    "print(X.shape)"
   ]
  },
  {
   "cell_type": "code",
   "execution_count": null,
   "id": "b6c2f627",
   "metadata": {},
   "outputs": [],
   "source": [
    "categorical_columns = ['store_nbr', 'family']\n",
    "numerical_columns = X.columns.drop(categorical_columns).drop('sales')"
   ]
  },
  {
   "cell_type": "code",
   "execution_count": null,
   "id": "8c3650d2",
   "metadata": {},
   "outputs": [],
   "source": [
    "transform_pipeline = pdp.PdPipeline([\n",
    "        pdp.Scale('MinMaxScaler', numerical_columns),\n",
    "        pdp.OneHotEncode('store_nbr'),\n",
    "    ])"
   ]
  },
  {
   "cell_type": "code",
   "execution_count": null,
   "id": "9bc34049",
   "metadata": {},
   "outputs": [],
   "source": [
    "X = transform_pipeline.apply(X)\n",
    "X.shape"
   ]
  },
  {
   "cell_type": "code",
   "execution_count": null,
   "id": "1f998de0",
   "metadata": {},
   "outputs": [],
   "source": [
    "ts_cv = TimeSeriesSplit(\n",
    "    n_splits=4,\n",
    "    gap=0,\n",
    "    max_train_size=365*54,\n",
    "    test_size=15*54,\n",
    ")"
   ]
  },
  {
   "cell_type": "code",
   "execution_count": null,
   "id": "b6e295de",
   "metadata": {},
   "outputs": [],
   "source": [
    "oil_data = pd.read_csv(DATA_ROOT / 'oil.csv')"
   ]
  },
  {
   "cell_type": "code",
   "execution_count": null,
   "id": "1def044b",
   "metadata": {},
   "outputs": [],
   "source": [
    "test_data = pd.read_csv(DATA_ROOT / 'test.csv', index_col = 'id')\n",
    "test_data = test_data.merge(oil_data, on='date', how='left')\n",
    "test_data['dcoilwtico'] = test_data['dcoilwtico'].fillna(method='ffill')\n",
    "test_data = test_data.sort_values(by=['date', 'store_nbr'], ascending=True, ignore_index=True)\n",
    "\n",
    "test_data_copy = test_data.copy()\n",
    "\n",
    "test_data = test_data.drop('date', axis=1)\n",
    "test_data = transform_pipeline(test_data)\n",
    "test_data['family'] = test_data['family'].str.lower()\n",
    "test_data.shape"
   ]
  },
  {
   "cell_type": "code",
   "execution_count": null,
   "id": "d472b858",
   "metadata": {},
   "outputs": [],
   "source": [
    "submission = pd.read_csv(DATA_ROOT / 'sample_submission.csv')"
   ]
  },
  {
   "cell_type": "code",
   "execution_count": null,
   "id": "0f6e6ba0",
   "metadata": {},
   "outputs": [],
   "source": [
    "def training_algorithm(X, test_data, model=LinearRegression()):\n",
    "    scores_RMSLE = []\n",
    "    scores_RMSE = []\n",
    "    scores_MAE = []\n",
    "    scores_MAPE = []\n",
    "    scores_R2 = []\n",
    "    count = 0\n",
    "    for family in X['family'].unique():\n",
    "        X_train = X[X['family'] == family].drop(columns=['sales', 'family'])\n",
    "        X_train_copy = X_train.copy()\n",
    "        y_train = X[X['family'] == family]['sales']\n",
    "        for train_index, val_index in ts_cv.split(X_train_copy):\n",
    "            X_train_cv, X_val_cv = X_train_copy.iloc[train_index], X_train_copy.iloc[val_index]\n",
    "            y_train_cv, y_val_cv = y_train.iloc[train_index], y_train.iloc[val_index]\n",
    "            model_cv = LinearRegression()\n",
    "            model_cv.fit(X_train_cv, y_train_cv)\n",
    "            y_val_cv_pred = model_cv.predict(X_val_cv)\n",
    "            y_val_cv_pred[y_val_cv_pred < 0] = 0\n",
    "            if (count + 1) % ts_cv.n_splits == 0:\n",
    "                scores_RMSLE.append(np.sqrt(mean_squared_log_error(y_val_cv, y_val_cv_pred)))\n",
    "                scores_RMSE.append(mean_squared_error(y_val_cv, y_val_cv_pred, squared=False))\n",
    "                scores_MAE.append(mean_absolute_error(y_val_cv, y_val_cv_pred))\n",
    "                scores_MAPE.append(mean_absolute_percentage_error(y_val_cv, y_val_cv_pred))\n",
    "                scores_R2.append(r2_score(y_val_cv, y_val_cv_pred))\n",
    "            count += 1\n",
    "        model.fit(X_train, y_train)\n",
    "        X_test = test_data[test_data['family'] == family].drop('family', axis=1)\n",
    "        test_indices = test_data[test_data['family'] == family].index\n",
    "        submission.loc[test_indices, 'sales'] = model.predict(X_test)\n",
    "    print(f\"Root Mean Squared Log Error: {median(scores_RMSLE)}\\n\"\n",
    "          f\"Root Mean Squared Error: {median(np.abs(scores_RMSE))}\\n\"\n",
    "          f\"Mean Absolute Error: {median(np.abs(scores_MAE))}\\n\"\n",
    "          f\"Mean Absolute Percentage Error: {median(np.abs(scores_MAPE))}\\n\"\n",
    "          f\"R-2: {median(scores_R2)}\")"
   ]
  },
  {
   "cell_type": "markdown",
   "id": "007848c7",
   "metadata": {},
   "source": [
    "# Simple Linear Regression for each family"
   ]
  },
  {
   "cell_type": "code",
   "execution_count": null,
   "id": "94cd2326",
   "metadata": {},
   "outputs": [],
   "source": [
    "training_algorithm(X=X, test_data=test_data)"
   ]
  },
  {
   "cell_type": "code",
   "execution_count": null,
   "id": "09abfeea",
   "metadata": {},
   "outputs": [],
   "source": [
    "submission.loc[submission['sales'] < 0, 'sales'] = 0"
   ]
  },
  {
   "cell_type": "code",
   "execution_count": null,
   "id": "99ec068e",
   "metadata": {},
   "outputs": [],
   "source": [
    "submission.to_csv('./data/kaggle/store-sales-time-series-forecasting/linear_regression_for_every_family.csv', index = False)"
   ]
  },
  {
   "cell_type": "code",
   "execution_count": null,
   "id": "fff48044",
   "metadata": {},
   "outputs": [],
   "source": []
  },
  {
   "cell_type": "markdown",
   "id": "7cfa0ee6",
   "metadata": {},
   "source": [
    "# Linear Regression with is_holiday binary feature"
   ]
  },
  {
   "cell_type": "code",
   "execution_count": null,
   "id": "8a31ad93",
   "metadata": {},
   "outputs": [],
   "source": [
    "def adding_is_holiday_feature(data):\n",
    "    data_copy = data.copy()\n",
    "    data_copy['holiday_transferred'] = np.where((data_copy['holiday_transferred'] == True), 1, data_copy['holiday_transferred'])\n",
    "    data_copy['holiday_transferred'] = np.where((data_copy['holiday_transferred'] == False), 1, data_copy['holiday_transferred'])\n",
    "    data_copy.loc[data_copy['holiday_transferred'].isna(), 'holiday_transferred'] = 0\n",
    "\n",
    "    is_holiday = pd.get_dummies(data_copy['holiday_transferred'])\n",
    "    data_copy = pd.concat((is_holiday, data_copy), axis=1).drop([0, 'holiday_transferred'], axis=1)\n",
    "    data_copy = data_copy.rename(columns={1: \"is_holiday\"})\n",
    "    return data_copy"
   ]
  },
  {
   "cell_type": "code",
   "execution_count": null,
   "id": "85510e74",
   "metadata": {},
   "outputs": [],
   "source": [
    "train_data_copy = train[['store_nbr', 'family', 'onpromotion', 'dcoilwtico', 'sales', 'holiday_transferred']]\n",
    "\n",
    "X_copy = X.copy()\n",
    "X_copy.loc[:, 'is_holiday'] = adding_is_holiday_feature(train_data_copy)['is_holiday'].tolist()"
   ]
  },
  {
   "cell_type": "code",
   "execution_count": null,
   "id": "ac57b01b",
   "metadata": {},
   "outputs": [],
   "source": [
    "X_copy['is_holiday'].value_counts()"
   ]
  },
  {
   "cell_type": "code",
   "execution_count": null,
   "id": "eac1a9cd",
   "metadata": {},
   "outputs": [],
   "source": [
    "holidays_events_data = pd.read_csv(DATA_ROOT / 'holidays_events.csv')\n",
    "holidays_events_data.head()"
   ]
  },
  {
   "cell_type": "code",
   "execution_count": null,
   "id": "fe88b756",
   "metadata": {},
   "outputs": [],
   "source": [
    "test_data_copy_with_holiday = test_data_copy.merge(holidays_events_data, on='date', how='left')"
   ]
  },
  {
   "cell_type": "code",
   "execution_count": null,
   "id": "ac8a5af3",
   "metadata": {},
   "outputs": [],
   "source": [
    "test_data_copy_with_holiday.head()"
   ]
  },
  {
   "cell_type": "code",
   "execution_count": null,
   "id": "a7ac91f4",
   "metadata": {},
   "outputs": [],
   "source": [
    "test_data_copy_with_holiday = test_data_copy_with_holiday.drop(columns=['type', 'locale', 'locale_name', 'description']).rename(columns={'transferred': 'holiday_transferred'})\n",
    "test_data_copy_with_holiday.head()"
   ]
  },
  {
   "cell_type": "code",
   "execution_count": null,
   "id": "e2e6f4e1",
   "metadata": {},
   "outputs": [],
   "source": [
    "test_copy = adding_is_holiday_feature(test_data_copy_with_holiday)\n",
    "test_copy['is_holiday'].value_counts() // train['store_nbr'].nunique() // train['family'].nunique()"
   ]
  },
  {
   "cell_type": "code",
   "execution_count": null,
   "id": "3f2aebca",
   "metadata": {},
   "outputs": [],
   "source": [
    "test_copy = test_copy.drop('date', axis=1)\n",
    "test_copy = transform_pipeline(test_copy)\n",
    "test_copy['family'] = test_copy['family'].str.lower()\n",
    "test_copy.shape"
   ]
  },
  {
   "cell_type": "code",
   "execution_count": null,
   "id": "565a66e3",
   "metadata": {},
   "outputs": [],
   "source": [
    "training_algorithm(X=X_copy, test_data=test_copy)"
   ]
  },
  {
   "cell_type": "code",
   "execution_count": null,
   "id": "0db84455",
   "metadata": {},
   "outputs": [],
   "source": [
    "submission.loc[submission['sales'] < 0, 'sales'] = 0"
   ]
  },
  {
   "cell_type": "code",
   "execution_count": null,
   "id": "c231d3fc",
   "metadata": {},
   "outputs": [],
   "source": [
    "submission.to_csv('./data/kaggle/store-sales-time-series-forecasting/linear_regression_for_every_family_with_holiday.csv', index = False)"
   ]
  },
  {
   "cell_type": "code",
   "execution_count": null,
   "id": "ac5c57f8",
   "metadata": {},
   "outputs": [],
   "source": []
  },
  {
   "cell_type": "markdown",
   "id": "d71a08ba",
   "metadata": {},
   "source": [
    "# Linear Regression with lag feature (1 day shift)"
   ]
  },
  {
   "cell_type": "code",
   "execution_count": null,
   "id": "2d5e0886",
   "metadata": {},
   "outputs": [],
   "source": [
    "test_data_copy = transform_pipeline(test_data_copy)\n",
    "test_data_copy['family'] = test_data_copy['family'].str.lower()"
   ]
  },
  {
   "cell_type": "code",
   "execution_count": null,
   "id": "d7e3fc44",
   "metadata": {},
   "outputs": [],
   "source": [
    "test_data_copy['date'] = pd.to_datetime(test_data_copy['date'])"
   ]
  },
  {
   "cell_type": "code",
   "execution_count": null,
   "id": "1d93e246",
   "metadata": {},
   "outputs": [],
   "source": [
    "test_data_copy.head()"
   ]
  },
  {
   "cell_type": "code",
   "execution_count": null,
   "id": "96ee3776",
   "metadata": {
    "scrolled": false
   },
   "outputs": [],
   "source": [
    "scores_RMSLE = []\n",
    "scores_RMSE = []\n",
    "scores_MAE = []\n",
    "scores_MAPE = []\n",
    "scores_R2 = []\n",
    "count = 0\n",
    "for family in X['family'].unique():\n",
    "    model = LinearRegression()\n",
    "    X_train = X[X['family'] == family]\n",
    "    X_train['Lag_1'] = X_train['sales'].shift(train['store_nbr'].nunique())\n",
    "    X_train.dropna(inplace=True)\n",
    "    y_train = X_train['sales']\n",
    "    X_train = X_train.drop(columns=['sales', 'family'])\n",
    "    for train_index, val_index in ts_cv.split(X_train):\n",
    "        X_train_cv, X_val_cv = X_train.iloc[train_index], X_train.iloc[val_index]\n",
    "        y_train_cv, y_val_cv = y_train.iloc[train_index], y_train.iloc[val_index]\n",
    "        model_cv = LinearRegression()\n",
    "        model_cv.fit(X_train_cv, y_train_cv)\n",
    "        y_val_cv_pred = model_cv.predict(X_val_cv)\n",
    "        y_val_cv_pred[y_val_cv_pred < 0] = 0\n",
    "        if (count + 1) % ts_cv.n_splits == 0:\n",
    "            scores_RMSLE.append(np.sqrt(mean_squared_log_error(y_val_cv, y_val_cv_pred)))\n",
    "            scores_RMSE.append(mean_squared_error(y_val_cv, y_val_cv_pred, squared=False))\n",
    "            scores_MAE.append(mean_absolute_error(y_val_cv, y_val_cv_pred))\n",
    "            scores_MAPE.append(mean_absolute_percentage_error(y_val_cv, y_val_cv_pred))\n",
    "            scores_R2.append(r2_score(y_val_cv, y_val_cv_pred))\n",
    "        count += 1\n",
    "    model.fit(X_train, y_train)\n",
    "    \n",
    "    X_current_test = test_data_copy[test_data_copy['family'] == family].drop('family', axis=1)\n",
    "    X_current_test['Lag_1'] = 0\n",
    "    X_current_test.loc[X_current_test['date'] == test_data_copy['date'].unique()[0], 'Lag_1'] = y_train.tail(train['store_nbr'].nunique()).tolist()\n",
    "    previous_day = test_data_copy['date'].unique()[0]\n",
    "    for day in test_data_copy['date'].unique()[1:]:\n",
    "        X_test_for_current_day = X_current_test[X_current_test['date'] == previous_day].drop('date', axis=1)\n",
    "        predictions = model.predict(X_test_for_current_day)\n",
    "        X_current_test.loc[X_current_test['date'] == day, 'Lag_1'] = predictions\n",
    "        previous_day = day\n",
    "    \n",
    "    test_indices = test_data[test_data['family'] == family].index\n",
    "    X_current_test = X_current_test.drop('date', axis=1)\n",
    "    submission.loc[test_indices, 'sales'] = model.predict(X_current_test)\n",
    "print(f\"Root Mean Squared Log Error: {median(scores_RMSLE)}\\n\"\n",
    "      f\"Root Mean Squared Error: {median(np.abs(scores_RMSE))}\\n\"\n",
    "      f\"Mean Absolute Error: {median(np.abs(scores_MAE))}\\n\"\n",
    "      f\"Mean Absolute Percentage Error: {median(np.abs(scores_MAPE))}\\n\"\n",
    "      f\"R-2: {median(scores_R2)}\")"
   ]
  },
  {
   "cell_type": "code",
   "execution_count": null,
   "id": "379d550e",
   "metadata": {},
   "outputs": [],
   "source": [
    "submission.loc[submission['sales'] < 0, 'sales'] = 0"
   ]
  },
  {
   "cell_type": "code",
   "execution_count": null,
   "id": "134eb0a2",
   "metadata": {},
   "outputs": [],
   "source": [
    "submission.to_csv('./data/kaggle/store-sales-time-series-forecasting/linear_regression_for_every_family_with_lag.csv', index = False)"
   ]
  },
  {
   "cell_type": "code",
   "execution_count": null,
   "id": "f056b0c9",
   "metadata": {},
   "outputs": [],
   "source": []
  }
 ],
 "metadata": {
  "kernelspec": {
   "display_name": "Python 3",
   "language": "python",
   "name": "python3"
  },
  "language_info": {
   "codemirror_mode": {
    "name": "ipython",
    "version": 3
   },
   "file_extension": ".py",
   "mimetype": "text/x-python",
   "name": "python",
   "nbconvert_exporter": "python",
   "pygments_lexer": "ipython3",
   "version": "3.8.8"
  }
 },
 "nbformat": 4,
 "nbformat_minor": 5
}
