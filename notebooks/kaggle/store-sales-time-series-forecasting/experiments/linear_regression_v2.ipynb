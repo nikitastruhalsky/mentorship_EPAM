{
 "cells": [
  {
   "cell_type": "markdown",
   "id": "38bebccd",
   "metadata": {},
   "source": [
    "# Experiments with linear models for each family"
   ]
  },
  {
   "cell_type": "code",
   "execution_count": null,
   "id": "7c43db42",
   "metadata": {
    "ExecuteTime": {
     "end_time": "2022-08-22T08:57:17.369023Z",
     "start_time": "2022-08-22T08:57:17.357953Z"
    }
   },
   "outputs": [],
   "source": [
    "import os\n",
    "os.chdir(os.environ['PROJECT_ROOT'])"
   ]
  },
  {
   "cell_type": "code",
   "execution_count": null,
   "id": "e2443dc6",
   "metadata": {
    "ExecuteTime": {
     "end_time": "2022-08-22T08:57:18.680600Z",
     "start_time": "2022-08-22T08:57:17.625106Z"
    }
   },
   "outputs": [],
   "source": [
    "import warnings\n",
    "import numpy as np\n",
    "import pandas as pd\n",
    "import matplotlib.pyplot as plt\n",
    "import matplotlib.dates as mdates\n",
    "import seaborn as sns\n",
    "import sklearn\n",
    "import pdpipe as pdp\n",
    "from pandas.core.common import SettingWithCopyWarning\n",
    "from sklearn.base import BaseEstimator, RegressorMixin, MetaEstimatorMixin, TransformerMixin, clone\n",
    "from datetime import timedelta\n",
    "from statistics import median, mean, stdev\n",
    "from pdpipe import df\n",
    "from pathlib import Path\n",
    "from sklearn.linear_model import LinearRegression, Ridge, Lasso\n",
    "from sklearn.preprocessing import OneHotEncoder, MinMaxScaler\n",
    "from sklearn.pipeline import make_pipeline\n",
    "from sklearn.model_selection import cross_validate, cross_val_score, TimeSeriesSplit, GridSearchCV\n",
    "from sklearn.compose import ColumnTransformer\n",
    "from sklearn.multioutput import MultiOutputRegressor, RegressorChain\n",
    "from sklearn.metrics import mean_squared_log_error, mean_squared_error, mean_absolute_error, r2_score, mean_absolute_percentage_error\n",
    "from mentorship.ml.models.reg import PositiveRegressor\n",
    "from mentorship.ml.models.common import SplitPipeline\n",
    "from mentorship.ml.models.kaggle.storesales.linear import PipelineLinearV1\n",
    "from mentorship.ml.models.kaggle.storesales.ridge import PipelineRidgeV1\n",
    "from mentorship.ml.models.kaggle.storesales.lasso import PipelineLassoV1\n",
    "from mentorship.ml.models.kaggle.storesales.elasticnet import PipelineElasticNetV1\n",
    "from mentorship.features.kaggle.storesales.etl import ETLTransformer\n",
    "from mentorship.ml.cv.split import DateTimeSeriesSplit\n",
    "from mentorship.ml.cv.util import print_cv_test_scores\n",
    "\n",
    "\n",
    "%matplotlib inline\n",
    "warnings.simplefilter(action='ignore', category=FutureWarning)\n",
    "warnings.simplefilter(action=\"ignore\", category=SettingWithCopyWarning)"
   ]
  },
  {
   "cell_type": "code",
   "execution_count": null,
   "id": "18239ede",
   "metadata": {
    "ExecuteTime": {
     "end_time": "2022-08-22T08:57:23.324283Z",
     "start_time": "2022-08-22T08:57:23.310607Z"
    }
   },
   "outputs": [],
   "source": [
    "CV_METRICS = [\n",
    "    'neg_mean_squared_log_error',\n",
    "    'neg_root_mean_squared_error',\n",
    "    'neg_mean_absolute_error',\n",
    "    # 'neg_mean_absolute_percentage_error',\n",
    "    'r2'\n",
    "]"
   ]
  },
  {
   "cell_type": "code",
   "execution_count": null,
   "id": "5b45e993",
   "metadata": {
    "ExecuteTime": {
     "end_time": "2022-08-22T08:57:18.759894Z",
     "start_time": "2022-08-22T08:57:18.745879Z"
    }
   },
   "outputs": [],
   "source": [
    "DATA_ROOT = Path('data', 'kaggle', 'store-sales-time-series-forecasting')"
   ]
  },
  {
   "cell_type": "code",
   "execution_count": null,
   "id": "b79e6093",
   "metadata": {
    "ExecuteTime": {
     "end_time": "2022-08-22T08:57:21.157579Z",
     "start_time": "2022-08-22T08:57:18.761878Z"
    }
   },
   "outputs": [],
   "source": [
    "train = pd.read_csv(DATA_ROOT / 'train.csv')\n",
    "train.head()"
   ]
  },
  {
   "cell_type": "markdown",
   "id": "289dfb35",
   "metadata": {},
   "source": [
    "# 1. Linear regression with 'store_nbr', 'dcoilwtico' and 'onpromotion' feature"
   ]
  },
  {
   "cell_type": "markdown",
   "id": "6bb2bb0a",
   "metadata": {},
   "source": [
    "<p><b>Preparing train data</b>"
   ]
  },
  {
   "cell_type": "code",
   "execution_count": null,
   "id": "61a9d936",
   "metadata": {
    "ExecuteTime": {
     "end_time": "2022-08-22T08:57:22.645854Z",
     "start_time": "2022-08-22T08:57:21.252403Z"
    }
   },
   "outputs": [],
   "source": [
    "X = train.copy()\n",
    "train_transformer = ETLTransformer(date_column='date', id_column='id')\n",
    "X = train_transformer.transform(X)[0]"
   ]
  },
  {
   "cell_type": "code",
   "execution_count": null,
   "id": "b5c8fbf2",
   "metadata": {},
   "outputs": [],
   "source": [
    "y = X['sales'].copy()\n",
    "X = X.drop(columns='sales')\n",
    "X.head()"
   ]
  },
  {
   "cell_type": "code",
   "execution_count": null,
   "id": "1732a068",
   "metadata": {
    "ExecuteTime": {
     "end_time": "2022-08-22T08:57:22.867151Z",
     "start_time": "2022-08-22T08:57:22.663395Z"
    },
    "scrolled": true
   },
   "outputs": [],
   "source": [
    "X.columns[X.isna().any()].tolist()"
   ]
  },
  {
   "cell_type": "code",
   "execution_count": null,
   "id": "f5e30af1",
   "metadata": {
    "ExecuteTime": {
     "end_time": "2022-08-22T08:57:22.898549Z",
     "start_time": "2022-08-22T08:57:22.869066Z"
    }
   },
   "outputs": [],
   "source": [
    "inds = X.loc[pd.isna(X['dcoilwtico']), :].index"
   ]
  },
  {
   "cell_type": "code",
   "execution_count": null,
   "id": "3f187c87",
   "metadata": {
    "ExecuteTime": {
     "end_time": "2022-08-22T08:57:23.025708Z",
     "start_time": "2022-08-22T08:57:22.899552Z"
    }
   },
   "outputs": [],
   "source": [
    "X = X[X['dcoilwtico'].notna()]"
   ]
  },
  {
   "cell_type": "code",
   "execution_count": null,
   "id": "8d211573",
   "metadata": {
    "ExecuteTime": {
     "end_time": "2022-08-22T08:57:23.103829Z",
     "start_time": "2022-08-22T08:57:23.027705Z"
    }
   },
   "outputs": [],
   "source": [
    "X = X.reset_index(drop=True)"
   ]
  },
  {
   "cell_type": "code",
   "execution_count": null,
   "id": "11fe14a8",
   "metadata": {
    "ExecuteTime": {
     "end_time": "2022-08-22T08:57:23.246959Z",
     "start_time": "2022-08-22T08:57:23.104708Z"
    }
   },
   "outputs": [],
   "source": [
    "y = y.drop(labels=inds)\n",
    "y = y.reset_index(drop=True)"
   ]
  },
  {
   "cell_type": "code",
   "execution_count": null,
   "id": "2d72e053",
   "metadata": {
    "ExecuteTime": {
     "end_time": "2022-08-22T08:57:23.262619Z",
     "start_time": "2022-08-22T08:57:23.248622Z"
    }
   },
   "outputs": [],
   "source": [
    "X.head()"
   ]
  },
  {
   "cell_type": "code",
   "execution_count": null,
   "id": "993dfddb",
   "metadata": {
    "ExecuteTime": {
     "end_time": "2022-08-22T08:57:23.278326Z",
     "start_time": "2022-08-22T08:57:23.264620Z"
    }
   },
   "outputs": [],
   "source": [
    "X.shape, y.shape"
   ]
  },
  {
   "cell_type": "code",
   "execution_count": null,
   "id": "b6c2f627",
   "metadata": {
    "ExecuteTime": {
     "end_time": "2022-08-22T08:57:21.172927Z",
     "start_time": "2022-08-22T08:57:21.158580Z"
    }
   },
   "outputs": [],
   "source": [
    "categorical_columns = ['store_nbr', 'family']\n",
    "numerical_columns = X.columns.drop(['date', 'store_nbr', 'family'])"
   ]
  },
  {
   "cell_type": "markdown",
   "id": "1344f0a5",
   "metadata": {},
   "source": [
    "<p><b>Cross-validation process</b>"
   ]
  },
  {
   "cell_type": "code",
   "execution_count": null,
   "id": "56162014",
   "metadata": {
    "ExecuteTime": {
     "end_time": "2022-08-22T08:57:23.293329Z",
     "start_time": "2022-08-22T08:57:23.279327Z"
    }
   },
   "outputs": [],
   "source": [
    "splitter = DateTimeSeriesSplit()"
   ]
  },
  {
   "cell_type": "code",
   "execution_count": null,
   "id": "77126971",
   "metadata": {
    "ExecuteTime": {
     "end_time": "2022-08-22T08:57:23.402482Z",
     "start_time": "2022-08-22T08:57:23.390298Z"
    }
   },
   "outputs": [],
   "source": [
    "base_pipeline = PipelineLinearV1(num_columns=list(numerical_columns), cat_columns='store_nbr')\n",
    "modelling_pipeline = SplitPipeline(base_pipeline=base_pipeline)"
   ]
  },
  {
   "cell_type": "code",
   "execution_count": null,
   "id": "c1229c53",
   "metadata": {},
   "outputs": [],
   "source": [
    "scores = cross_validate(\n",
    "        modelling_pipeline, X, y,\n",
    "        cv=splitter, scoring=CV_METRICS, return_estimator=True)\n",
    "print_cv_test_scores(scores)"
   ]
  },
  {
   "cell_type": "code",
   "execution_count": null,
   "id": "0e66cc29",
   "metadata": {},
   "outputs": [],
   "source": [
    "tscv = TimeSeriesSplit(gap=0, max_train_size=365 * 54 * 33, n_splits=4,\n",
    "                               test_size=16 * 54 * 33)"
   ]
  },
  {
   "cell_type": "code",
   "execution_count": null,
   "id": "a5e2075e",
   "metadata": {},
   "outputs": [],
   "source": [
    "X_copy = X.copy()\n",
    "X_copy = pd.get_dummies(X_copy, columns=['store_nbr'], drop_first=True)"
   ]
  },
  {
   "cell_type": "code",
   "execution_count": null,
   "id": "4399ee6d",
   "metadata": {
    "scrolled": true
   },
   "outputs": [],
   "source": [
    "keys = np.arange(1, 17)\n",
    "cv_scores = {key : [] for key in keys}\n",
    "for train_indices, test_indices in tscv.split(X_copy, y):\n",
    "    X_train = X_copy.iloc[train_indices]\n",
    "    y_train = y.iloc[train_indices]\n",
    "    X_test = X_copy.iloc[test_indices]\n",
    "    y_test = y.iloc[test_indices]\n",
    "    \n",
    "    for i, current_day in enumerate(X_test['date'].unique()):\n",
    "        current_day_indices_test = X_test[X_test['date'] == current_day].index\n",
    "        X_test_current_day = X_test[X_test['date'] == current_day]\n",
    "        y_test_current_day = y_test.loc[current_day_indices_test]\n",
    "        \n",
    "        X_test_current_day.loc[:, 'pred'] = 0\n",
    "        for current_family in X['family'].unique():\n",
    "            current_family_indices_train = X_train[X_train['family'] == current_family].index\n",
    "            X_train_current_family = X_train[X_train['family'] == current_family].drop(columns=['family'])\n",
    "            y_train_current_family = y_train.loc[current_family_indices_train]\n",
    "            scaler_oil = MinMaxScaler()\n",
    "            scaler_promo = MinMaxScaler()\n",
    "            X_train_current_family[['dcoilwtico']] = scaler_oil.fit_transform(X_train_current_family[['dcoilwtico']])\n",
    "            X_train_current_family[['onpromotion']] = scaler_promo.fit_transform(X_train_current_family[['onpromotion']])\n",
    "            model = PositiveRegressor(LinearRegression())\n",
    "            model.fit(X_train_current_family.drop(columns=['date']), y_train_current_family)\n",
    "        \n",
    "        \n",
    "            current_family_indices_test = X_test_current_day[X_test_current_day['family'] == current_family].index\n",
    "            X_test_current_family = X_test_current_day[X_test_current_day['family'] == current_family].drop(columns=['family'])\n",
    "            X_test_current_family[['dcoilwtico']] = scaler_oil.transform(X_test_current_family[['dcoilwtico']])\n",
    "            X_test_current_family[['onpromotion']] = scaler_promo.transform(X_test_current_family[['onpromotion']])\n",
    "            X_test_current_family = X_test_current_family.drop(columns=['date'])\n",
    "        \n",
    "            y_pred_current_family = model.predict(X_test_current_family.drop(columns=['pred']))\n",
    "            y_pred_current_family[y_pred_current_family < 0] = 0\n",
    "            X_test_current_day.loc[current_family_indices_test, 'pred'] = y_pred_current_family\n",
    "\n",
    "        \n",
    "        y_pred = X_test_current_day['pred'].copy()\n",
    "        X_test_current_day = X_test_current_day.drop(columns=['pred'])\n",
    "        cv_scores[i + 1].append(np.sqrt(mean_squared_log_error(y_test_current_day, y_pred)))"
   ]
  },
  {
   "cell_type": "code",
   "execution_count": null,
   "id": "9e332c6d",
   "metadata": {},
   "outputs": [],
   "source": [
    "# RMSLE for every day in the test set\n",
    "\n",
    "plt.figure(figsize=(10, 10))\n",
    "X=list(cv_scores.keys())\n",
    "y=[mean(cv_scores[key]) for key in X]\n",
    "plt.plot(X, y)"
   ]
  },
  {
   "cell_type": "markdown",
   "id": "69336084",
   "metadata": {},
   "source": [
    "<p><b>Test data preparing<b>"
   ]
  },
  {
   "cell_type": "code",
   "execution_count": null,
   "id": "948567d4",
   "metadata": {
    "ExecuteTime": {
     "end_time": "2022-08-22T08:59:41.096063Z",
     "start_time": "2022-08-22T08:59:41.064704Z"
    }
   },
   "outputs": [],
   "source": [
    "test_data = pd.read_csv(DATA_ROOT / 'test.csv')\n",
    "test_transformer = ETLTransformer(date_column='date', id_column='id')"
   ]
  },
  {
   "cell_type": "code",
   "execution_count": null,
   "id": "866fc033",
   "metadata": {
    "ExecuteTime": {
     "end_time": "2022-08-22T08:59:41.793519Z",
     "start_time": "2022-08-22T08:59:41.770513Z"
    }
   },
   "outputs": [],
   "source": [
    "test_data = test_transformer.transform(test_data)[0]"
   ]
  },
  {
   "cell_type": "code",
   "execution_count": null,
   "id": "24f5dfe5",
   "metadata": {
    "ExecuteTime": {
     "end_time": "2022-08-22T08:59:42.355008Z",
     "start_time": "2022-08-22T08:59:42.344877Z"
    },
    "scrolled": true
   },
   "outputs": [],
   "source": [
    "test_data.head()"
   ]
  },
  {
   "cell_type": "markdown",
   "id": "307946f9",
   "metadata": {},
   "source": [
    "<p><b>Training models and saving predictions</b>"
   ]
  },
  {
   "cell_type": "code",
   "execution_count": null,
   "id": "1662223e",
   "metadata": {
    "ExecuteTime": {
     "end_time": "2022-08-22T08:59:45.528399Z",
     "start_time": "2022-08-22T08:59:45.507061Z"
    }
   },
   "outputs": [],
   "source": [
    "submission = pd.read_csv(DATA_ROOT / 'sample_submission.csv')"
   ]
  },
  {
   "cell_type": "code",
   "execution_count": null,
   "id": "7744c71b",
   "metadata": {
    "ExecuteTime": {
     "end_time": "2022-08-22T08:59:45.870812Z",
     "start_time": "2022-08-22T08:59:45.859072Z"
    }
   },
   "outputs": [],
   "source": [
    "base_pipeline = PipelineLinearV1(num_columns=list(numerical_columns), cat_columns='store_nbr')\n",
    "modelling_pipeline = SplitPipeline(base_pipeline=base_pipeline)"
   ]
  },
  {
   "cell_type": "code",
   "execution_count": null,
   "id": "c53af0e2",
   "metadata": {},
   "outputs": [],
   "source": [
    "first_day_of_last_year = pd.to_datetime(X['date'].unique()[-1]) - timedelta(days=365)\n",
    "indexer = X[X['date'] >= str(first_day_of_last_year).split(' ')[0]].index\n",
    "X_train = X[X['date'] >= str(first_day_of_last_year).split(' ')[0]]\n",
    "y_train = y.loc[indexer]"
   ]
  },
  {
   "cell_type": "code",
   "execution_count": null,
   "id": "632c7e44",
   "metadata": {
    "ExecuteTime": {
     "end_time": "2022-08-22T09:00:02.934137Z",
     "start_time": "2022-08-22T08:59:48.013922Z"
    }
   },
   "outputs": [],
   "source": [
    "modelling_pipeline.fit(X_train, y_train)"
   ]
  },
  {
   "cell_type": "code",
   "execution_count": null,
   "id": "8b5068a1",
   "metadata": {
    "ExecuteTime": {
     "end_time": "2022-08-22T09:00:12.722626Z",
     "start_time": "2022-08-22T09:00:05.647745Z"
    }
   },
   "outputs": [],
   "source": [
    "submission['sales'] = modelling_pipeline.predict(test_data)"
   ]
  },
  {
   "cell_type": "code",
   "execution_count": null,
   "id": "3dff2e22",
   "metadata": {},
   "outputs": [],
   "source": [
    "submission.to_csv('./data/kaggle/store-sales-time-series-forecasting/linreg_for_every_family_last_year_26_08.csv', index = False)"
   ]
  },
  {
   "cell_type": "code",
   "execution_count": null,
   "id": "ff41531f",
   "metadata": {},
   "outputs": [],
   "source": []
  },
  {
   "cell_type": "code",
   "execution_count": null,
   "id": "7308575b",
   "metadata": {},
   "outputs": [],
   "source": []
  },
  {
   "cell_type": "markdown",
   "id": "94583b37",
   "metadata": {},
   "source": [
    "# 2. Linear regression with 'store_nbr' and 'time-step' feature"
   ]
  },
  {
   "cell_type": "markdown",
   "id": "954ce896",
   "metadata": {},
   "source": [
    "<p><b>Train data preparing</b>"
   ]
  },
  {
   "cell_type": "code",
   "execution_count": null,
   "id": "5d0383f3",
   "metadata": {},
   "outputs": [],
   "source": [
    "X = train.copy().drop(columns=['onpromotion'])"
   ]
  },
  {
   "cell_type": "code",
   "execution_count": null,
   "id": "3aad4217",
   "metadata": {},
   "outputs": [],
   "source": [
    "train_transformer = ETLTransformer(date_column='date', id_column='id')\n",
    "X = train_transformer.transform(X)[0]\n",
    "X = X.drop(columns='dcoilwtico')"
   ]
  },
  {
   "cell_type": "code",
   "execution_count": null,
   "id": "2007de9c",
   "metadata": {},
   "outputs": [],
   "source": [
    "X_dates = pd.DataFrame(data={'date': X['date'].unique()})\n",
    "X_dates['time'] = np.arange(len(X_dates.index))\n",
    "X = X.merge(X_dates, on='date', how='left')"
   ]
  },
  {
   "cell_type": "code",
   "execution_count": null,
   "id": "e0bbaed5",
   "metadata": {},
   "outputs": [],
   "source": [
    "y = X['sales'].copy()\n",
    "X = X.drop(columns='sales')"
   ]
  },
  {
   "cell_type": "code",
   "execution_count": null,
   "id": "1603e5dd",
   "metadata": {},
   "outputs": [],
   "source": [
    "first_day_of_last_year = pd.to_datetime(X['date'].unique()[-1]) - timedelta(days=365)\n",
    "indexer = X[X['date'] >= str(first_day_of_last_year).split(' ')[0]].index\n",
    "X_train = X[X['date'] >= str(first_day_of_last_year).split(' ')[0]]\n",
    "y_train = y.loc[indexer]"
   ]
  },
  {
   "cell_type": "markdown",
   "id": "da23fd55",
   "metadata": {},
   "source": [
    "<p><b>Cross-validation process</b>"
   ]
  },
  {
   "cell_type": "code",
   "execution_count": null,
   "id": "4765c3bf",
   "metadata": {},
   "outputs": [],
   "source": [
    "splitter = DateTimeSeriesSplit()\n",
    "base_pipeline = PipelineLinearV1(num_columns=None, cat_columns=['store_nbr'])\n",
    "modelling_pipeline = SplitPipeline(base_pipeline=base_pipeline)"
   ]
  },
  {
   "cell_type": "code",
   "execution_count": null,
   "id": "7d832924",
   "metadata": {
    "scrolled": true
   },
   "outputs": [],
   "source": [
    "scores = cross_validate(\n",
    "        modelling_pipeline, X, y,\n",
    "        cv=splitter, scoring=CV_METRICS, return_estimator=True)"
   ]
  },
  {
   "cell_type": "code",
   "execution_count": null,
   "id": "cbbe6288",
   "metadata": {},
   "outputs": [],
   "source": [
    "print_cv_test_scores(scores)"
   ]
  },
  {
   "cell_type": "markdown",
   "id": "b5f85778",
   "metadata": {},
   "source": [
    "<p><b>Test data preparing</b>"
   ]
  },
  {
   "cell_type": "code",
   "execution_count": null,
   "id": "ca286c7b",
   "metadata": {},
   "outputs": [],
   "source": [
    "test_data = pd.read_csv(DATA_ROOT / 'test.csv').drop(columns=['onpromotion'])\n",
    "test_transformer = ETLTransformer(date_column='date', id_column='id')"
   ]
  },
  {
   "cell_type": "code",
   "execution_count": null,
   "id": "ccaa7ca0",
   "metadata": {},
   "outputs": [],
   "source": [
    "test_data = test_transformer.transform(test_data)[0]\n",
    "test_data = test_data.drop(columns=['dcoilwtico'])"
   ]
  },
  {
   "cell_type": "code",
   "execution_count": null,
   "id": "6697f3b6",
   "metadata": {},
   "outputs": [],
   "source": [
    "test_dates = pd.DataFrame(data={'date': test_data['date'].unique()})\n",
    "test_dates['time'] = np.arange(len(X_dates.index), len(X_dates.index) + len(test_dates.index))\n",
    "test_data = test_data.merge(test_dates, on='date', how='left')\n",
    "test_data.head()"
   ]
  },
  {
   "cell_type": "markdown",
   "id": "2d75d5f9",
   "metadata": {},
   "source": [
    "<p><b>Training models and saving predictions</b>"
   ]
  },
  {
   "cell_type": "code",
   "execution_count": null,
   "id": "a363bee7",
   "metadata": {},
   "outputs": [],
   "source": [
    "base_pipeline = PipelineLinearV1(num_columns=None, cat_columns=['store_nbr'])\n",
    "modelling_pipeline = SplitPipeline(base_pipeline=base_pipeline)"
   ]
  },
  {
   "cell_type": "code",
   "execution_count": null,
   "id": "186efa9f",
   "metadata": {},
   "outputs": [],
   "source": [
    "modelling_pipeline.fit(X_train, y_train)"
   ]
  },
  {
   "cell_type": "code",
   "execution_count": null,
   "id": "b5bd170c",
   "metadata": {},
   "outputs": [],
   "source": [
    "submission = pd.read_csv(DATA_ROOT / 'sample_submission.csv')"
   ]
  },
  {
   "cell_type": "code",
   "execution_count": null,
   "id": "1d91a394",
   "metadata": {},
   "outputs": [],
   "source": [
    "submission['sales'] = modelling_pipeline.predict(test_data)"
   ]
  },
  {
   "cell_type": "code",
   "execution_count": null,
   "id": "090ce771",
   "metadata": {},
   "outputs": [],
   "source": [
    "submission.to_csv('./data/kaggle/store-sales-time-series-forecasting/linreg_time_step_only.csv', index = False)"
   ]
  },
  {
   "cell_type": "code",
   "execution_count": null,
   "id": "d4b8fe4d",
   "metadata": {},
   "outputs": [],
   "source": []
  },
  {
   "cell_type": "code",
   "execution_count": null,
   "id": "97bf2348",
   "metadata": {},
   "outputs": [],
   "source": []
  },
  {
   "cell_type": "markdown",
   "id": "e4ec747b",
   "metadata": {},
   "source": [
    "# 3. Linear regression with 'store_nbr' and 'dcoilwtico' features"
   ]
  },
  {
   "cell_type": "markdown",
   "id": "7e6a6fdc",
   "metadata": {},
   "source": [
    "<p><b>Train data preparing</b>"
   ]
  },
  {
   "cell_type": "code",
   "execution_count": null,
   "id": "dd3edb26",
   "metadata": {},
   "outputs": [],
   "source": [
    "X = train.copy().drop(columns=['onpromotion'])"
   ]
  },
  {
   "cell_type": "code",
   "execution_count": null,
   "id": "53101c88",
   "metadata": {},
   "outputs": [],
   "source": [
    "train_transformer = ETLTransformer(date_column='date', id_column='id')\n",
    "X = train_transformer.transform(X)[0]"
   ]
  },
  {
   "cell_type": "code",
   "execution_count": null,
   "id": "4e1e0074",
   "metadata": {},
   "outputs": [],
   "source": [
    "y = X['sales'].copy()\n",
    "X = X.drop(columns='sales')"
   ]
  },
  {
   "cell_type": "code",
   "execution_count": null,
   "id": "b6fee944",
   "metadata": {},
   "outputs": [],
   "source": [
    "inds = X.loc[pd.isna(X['dcoilwtico']), :].index"
   ]
  },
  {
   "cell_type": "code",
   "execution_count": null,
   "id": "5a6c40bb",
   "metadata": {},
   "outputs": [],
   "source": [
    "X = X[X['dcoilwtico'].notna()]\n",
    "X = X.reset_index(drop=True)"
   ]
  },
  {
   "cell_type": "code",
   "execution_count": null,
   "id": "9966200f",
   "metadata": {},
   "outputs": [],
   "source": [
    "y = y.drop(labels=inds)\n",
    "y = y.reset_index(drop=True)"
   ]
  },
  {
   "cell_type": "code",
   "execution_count": null,
   "id": "12a4477b",
   "metadata": {},
   "outputs": [],
   "source": [
    "X.head()"
   ]
  },
  {
   "cell_type": "markdown",
   "id": "cae6feac",
   "metadata": {},
   "source": [
    "<p><b>Cross-validation process</b>"
   ]
  },
  {
   "cell_type": "code",
   "execution_count": null,
   "id": "a68b0e55",
   "metadata": {},
   "outputs": [],
   "source": [
    "splitter = DateTimeSeriesSplit()\n",
    "base_pipeline = PipelineLinearV1(num_columns=['dcoilwtico'], cat_columns=['store_nbr'])\n",
    "modelling_pipeline = SplitPipeline(base_pipeline=base_pipeline)"
   ]
  },
  {
   "cell_type": "code",
   "execution_count": null,
   "id": "55633978",
   "metadata": {
    "scrolled": true
   },
   "outputs": [],
   "source": [
    "scores = cross_validate(\n",
    "        modelling_pipeline, X, y,\n",
    "        cv=splitter, scoring=CV_METRICS, return_estimator=True)"
   ]
  },
  {
   "cell_type": "code",
   "execution_count": null,
   "id": "08383291",
   "metadata": {},
   "outputs": [],
   "source": [
    "print_cv_test_scores(scores)"
   ]
  },
  {
   "cell_type": "code",
   "execution_count": null,
   "id": "52bad3f5",
   "metadata": {},
   "outputs": [],
   "source": [
    "tscv = TimeSeriesSplit(gap=0, max_train_size=365 * 54 * 33, n_splits=4,\n",
    "                               test_size=16 * 54 * 33)"
   ]
  },
  {
   "cell_type": "code",
   "execution_count": null,
   "id": "1a797b50",
   "metadata": {},
   "outputs": [],
   "source": [
    "X_copy = X.copy()\n",
    "X_copy = pd.get_dummies(X_copy, columns=['store_nbr'], drop_first=True)"
   ]
  },
  {
   "cell_type": "code",
   "execution_count": null,
   "id": "c4bd74fd",
   "metadata": {},
   "outputs": [],
   "source": [
    "keys = np.arange(1, 17)\n",
    "cv_scores = {key : [] for key in keys}\n",
    "for train_indices, test_indices in tscv.split(X_copy, y):\n",
    "    X_train = X_copy.iloc[train_indices]\n",
    "    y_train = y.iloc[train_indices]\n",
    "    X_test = X_copy.iloc[test_indices]\n",
    "    y_test = y.iloc[test_indices]\n",
    "    \n",
    "    for i, current_day in enumerate(X_test['date'].unique()):\n",
    "        current_day_indices_test = X_test[X_test['date'] == current_day].index\n",
    "        X_test_current_day = X_test[X_test['date'] == current_day]\n",
    "        y_test_current_day = y_test.loc[current_day_indices_test]\n",
    "        \n",
    "        X_test_current_day.loc[:, 'pred'] = 0\n",
    "        for current_family in X['family'].unique():\n",
    "            current_family_indices_train = X_train[X_train['family'] == current_family].index\n",
    "            X_train_current_family = X_train[X_train['family'] == current_family].drop(columns=['family'])\n",
    "            y_train_current_family = y_train.loc[current_family_indices_train]\n",
    "            scaler_oil = MinMaxScaler()\n",
    "            X_train_current_family[['dcoilwtico']] = scaler_oil.fit_transform(X_train_current_family[['dcoilwtico']])\n",
    "            model = PositiveRegressor(LinearRegression())\n",
    "            model.fit(X_train_current_family.drop(columns=['date']), y_train_current_family)\n",
    "        \n",
    "        \n",
    "            current_family_indices_test = X_test_current_day[X_test_current_day['family'] == current_family].index\n",
    "            X_test_current_family = X_test_current_day[X_test_current_day['family'] == current_family].drop(columns=['family'])\n",
    "            X_test_current_family[['dcoilwtico']] = scaler_oil.transform(X_test_current_family[['dcoilwtico']])\n",
    "            X_test_current_family = X_test_current_family.drop(columns=['date'])\n",
    "        \n",
    "            y_pred_current_family = model.predict(X_test_current_family.drop(columns=['pred']))\n",
    "            y_pred_current_family[y_pred_current_family < 0] = 0\n",
    "            X_test_current_day.loc[current_family_indices_test, 'pred'] = y_pred_current_family\n",
    "\n",
    "        \n",
    "        y_pred = X_test_current_day['pred'].copy()\n",
    "        X_test_current_day = X_test_current_day.drop(columns=['pred'])\n",
    "        cv_scores[i + 1].append(np.sqrt(mean_squared_log_error(y_test_current_day, y_pred)))"
   ]
  },
  {
   "cell_type": "code",
   "execution_count": null,
   "id": "26e93048",
   "metadata": {},
   "outputs": [],
   "source": [
    "# RMSLE for every day in the test set\n",
    "\n",
    "plt.figure(figsize=(10, 10))\n",
    "X=list(cv_scores.keys())\n",
    "y=[mean(cv_scores[key]) for key in X]\n",
    "plt.plot(X, y)"
   ]
  },
  {
   "cell_type": "markdown",
   "id": "db729207",
   "metadata": {},
   "source": [
    "<p><b>Test data preparing</b>"
   ]
  },
  {
   "cell_type": "code",
   "execution_count": null,
   "id": "804e36dc",
   "metadata": {},
   "outputs": [],
   "source": [
    "test_data = pd.read_csv(DATA_ROOT / 'test.csv').drop(columns=['onpromotion'])\n",
    "test_transformer = ETLTransformer(date_column='date', id_column='id')\n",
    "test_data = test_transformer.transform(test_data)[0]\n",
    "test_data.head()"
   ]
  },
  {
   "cell_type": "markdown",
   "id": "9d0de947",
   "metadata": {},
   "source": [
    "<p><b>Training models and saving predictions</b>"
   ]
  },
  {
   "cell_type": "code",
   "execution_count": null,
   "id": "7ac8853a",
   "metadata": {},
   "outputs": [],
   "source": [
    "base_pipeline = PipelineLinearV1(num_columns=['dcoilwtico'], cat_columns=['store_nbr'])\n",
    "modelling_pipeline = SplitPipeline(base_pipeline=base_pipeline)"
   ]
  },
  {
   "cell_type": "code",
   "execution_count": null,
   "id": "1ceaf8c9",
   "metadata": {},
   "outputs": [],
   "source": [
    "first_day_of_last_year = pd.to_datetime(X['date'].unique()[-1]) - timedelta(days=365)\n",
    "indexer = X[X['date'] >= str(first_day_of_last_year).split(' ')[0]].index\n",
    "X_train = X[X['date'] >= str(first_day_of_last_year).split(' ')[0]]\n",
    "y_train = y.loc[indexer]"
   ]
  },
  {
   "cell_type": "code",
   "execution_count": null,
   "id": "13883edc",
   "metadata": {},
   "outputs": [],
   "source": [
    "modelling_pipeline.fit(X_train, y_train)"
   ]
  },
  {
   "cell_type": "code",
   "execution_count": null,
   "id": "cfcd2bec",
   "metadata": {},
   "outputs": [],
   "source": [
    "submission = pd.read_csv(DATA_ROOT / 'sample_submission.csv')"
   ]
  },
  {
   "cell_type": "code",
   "execution_count": null,
   "id": "e43019d3",
   "metadata": {},
   "outputs": [],
   "source": [
    "submission['sales'] = modelling_pipeline.predict(test_data)"
   ]
  },
  {
   "cell_type": "code",
   "execution_count": null,
   "id": "244acd25",
   "metadata": {},
   "outputs": [],
   "source": [
    "submission.to_csv('./data/kaggle/store-sales-time-series-forecasting/linreg_dcoilwtico_only.csv', index = False)"
   ]
  },
  {
   "cell_type": "code",
   "execution_count": null,
   "id": "b9906595",
   "metadata": {},
   "outputs": [],
   "source": []
  },
  {
   "cell_type": "code",
   "execution_count": null,
   "id": "b38a3eaf",
   "metadata": {},
   "outputs": [],
   "source": []
  },
  {
   "cell_type": "markdown",
   "id": "ee4ef882",
   "metadata": {},
   "source": [
    "# 4. Linear regression with 'store_nbr', 'dcoilwtico' and 'time-step' features"
   ]
  },
  {
   "cell_type": "code",
   "execution_count": null,
   "id": "97097eea",
   "metadata": {},
   "outputs": [],
   "source": [
    "X = train.copy().drop(columns='onpromotion')\n",
    "train_transformer = ETLTransformer(date_column='date', id_column='id')\n",
    "X = train_transformer.transform(X)[0]"
   ]
  },
  {
   "cell_type": "code",
   "execution_count": null,
   "id": "1f610673",
   "metadata": {},
   "outputs": [],
   "source": [
    "y = X['sales'].copy()\n",
    "X = X.drop(columns='sales')"
   ]
  },
  {
   "cell_type": "code",
   "execution_count": null,
   "id": "e1506850",
   "metadata": {},
   "outputs": [],
   "source": [
    "inds = X.loc[pd.isna(X['dcoilwtico']), :].index\n",
    "X = X[X['dcoilwtico'].notna()]\n",
    "X = X.reset_index(drop=True)\n",
    "y = y.drop(labels=inds)\n",
    "y = y.reset_index(drop=True)"
   ]
  },
  {
   "cell_type": "code",
   "execution_count": null,
   "id": "6870439c",
   "metadata": {},
   "outputs": [],
   "source": [
    "X_dates = pd.DataFrame(data={'date': X['date'].unique()})\n",
    "X_dates['time'] = np.arange(len(X_dates.index))\n",
    "X = X.merge(X_dates, on='date', how='left')"
   ]
  },
  {
   "cell_type": "code",
   "execution_count": null,
   "id": "1354bdb6",
   "metadata": {},
   "outputs": [],
   "source": [
    "X.head()"
   ]
  },
  {
   "cell_type": "code",
   "execution_count": null,
   "id": "ba53230c",
   "metadata": {},
   "outputs": [],
   "source": [
    "splitter = DateTimeSeriesSplit()\n",
    "base_pipeline = PipelineLinearV1(num_columns=['dcoilwtico'], cat_columns=['store_nbr'])\n",
    "modelling_pipeline = SplitPipeline(base_pipeline=base_pipeline)"
   ]
  },
  {
   "cell_type": "code",
   "execution_count": null,
   "id": "a22e788c",
   "metadata": {
    "scrolled": true
   },
   "outputs": [],
   "source": [
    "scores = cross_validate(\n",
    "        modelling_pipeline, X, y,\n",
    "        cv=splitter, scoring=CV_METRICS, return_estimator=True)"
   ]
  },
  {
   "cell_type": "code",
   "execution_count": null,
   "id": "bc05bd98",
   "metadata": {},
   "outputs": [],
   "source": [
    "print_cv_test_scores(scores)"
   ]
  },
  {
   "cell_type": "code",
   "execution_count": null,
   "id": "0c6733a4",
   "metadata": {},
   "outputs": [],
   "source": []
  },
  {
   "cell_type": "code",
   "execution_count": null,
   "id": "ec331631",
   "metadata": {},
   "outputs": [],
   "source": []
  },
  {
   "cell_type": "markdown",
   "id": "7cfa0ee6",
   "metadata": {},
   "source": [
    "# 5. Linear Regression with 'store_nbr', 'dcoilwtico' and 'is_holiday' binary feature"
   ]
  },
  {
   "cell_type": "code",
   "execution_count": null,
   "id": "8a31ad93",
   "metadata": {},
   "outputs": [],
   "source": [
    "def adding_is_holiday_feature(data):\n",
    "    data_copy = data.copy()\n",
    "    \n",
    "    holidays_data = pd.read_csv(DATA_ROOT / 'holidays_events.csv')\n",
    "    data_copy = data_copy.merge(holidays_data, on='date', how='left')\n",
    "    \n",
    "    data_copy['transferred'] = np.where((data_copy['transferred'] == True), 1, data_copy['transferred'])\n",
    "    data_copy['transferred'] = np.where((data_copy['transferred'] == False), 1, data_copy['transferred'])\n",
    "    data_copy.loc[data_copy['transferred'].isna(), 'transferred'] = 0\n",
    "\n",
    "    is_holiday = pd.get_dummies(data_copy['transferred'])\n",
    "    data_copy = pd.concat((is_holiday, data_copy), axis=1).drop([0, 'transferred'], axis=1)\n",
    "    data_copy = data_copy.rename(columns={1: \"is_holiday\"})\n",
    "    return data_copy"
   ]
  },
  {
   "cell_type": "code",
   "execution_count": null,
   "id": "87006682",
   "metadata": {},
   "outputs": [],
   "source": [
    "X = train.copy().drop(columns='onpromotion')\n",
    "train_transformer = ETLTransformer(date_column='date', id_column='id')\n",
    "X = train_transformer.transform(X)[0]"
   ]
  },
  {
   "cell_type": "code",
   "execution_count": null,
   "id": "d0aff084",
   "metadata": {},
   "outputs": [],
   "source": [
    "X.loc[:, 'is_holiday'] = adding_is_holiday_feature(X)['is_holiday']"
   ]
  },
  {
   "cell_type": "code",
   "execution_count": null,
   "id": "dba954fc",
   "metadata": {},
   "outputs": [],
   "source": [
    "y = X['sales'].copy()\n",
    "X = X.drop(columns='sales')"
   ]
  },
  {
   "cell_type": "code",
   "execution_count": null,
   "id": "170117b4",
   "metadata": {},
   "outputs": [],
   "source": [
    "inds = X.loc[pd.isna(X['dcoilwtico']), :].index\n",
    "X = X[X['dcoilwtico'].notna()]\n",
    "X = X.reset_index(drop=True)\n",
    "y = y.drop(labels=inds)\n",
    "y = y.reset_index(drop=True)"
   ]
  },
  {
   "cell_type": "code",
   "execution_count": null,
   "id": "cddf6fe5",
   "metadata": {},
   "outputs": [],
   "source": [
    "X.head()"
   ]
  },
  {
   "cell_type": "code",
   "execution_count": null,
   "id": "b7c4e6db",
   "metadata": {},
   "outputs": [],
   "source": [
    "splitter = DateTimeSeriesSplit()\n",
    "base_pipeline = PipelineLinearV1(num_columns=['dcoilwtico'], cat_columns=['store_nbr'])\n",
    "modelling_pipeline = SplitPipeline(base_pipeline=base_pipeline)"
   ]
  },
  {
   "cell_type": "code",
   "execution_count": null,
   "id": "44b27a58",
   "metadata": {
    "scrolled": true
   },
   "outputs": [],
   "source": [
    "scores = cross_validate(\n",
    "        modelling_pipeline, X, y,\n",
    "        cv=splitter, scoring=CV_METRICS, return_estimator=True)"
   ]
  },
  {
   "cell_type": "code",
   "execution_count": null,
   "id": "8f399bc9",
   "metadata": {},
   "outputs": [],
   "source": [
    "print_cv_test_scores(scores)"
   ]
  },
  {
   "cell_type": "code",
   "execution_count": null,
   "id": "7aa19f35",
   "metadata": {},
   "outputs": [],
   "source": [
    "test_data = pd.read_csv(DATA_ROOT / 'test.csv').drop(columns=['onpromotion'])\n",
    "test_transformer = ETLTransformer(date_column='date', id_column='id')\n",
    "test_data = test_transformer.transform(test_data)[0]\n",
    "test_data.loc[:, 'is_holiday'] = adding_is_holiday_feature(test_data)['is_holiday']\n",
    "test_data.head()"
   ]
  },
  {
   "cell_type": "code",
   "execution_count": null,
   "id": "14086dda",
   "metadata": {},
   "outputs": [],
   "source": [
    "test_data['is_holiday'].value_counts()"
   ]
  },
  {
   "cell_type": "code",
   "execution_count": null,
   "id": "8b541f1d",
   "metadata": {},
   "outputs": [],
   "source": [
    "first_day_of_last_year = pd.to_datetime(X['date'].unique()[-1]) - timedelta(days=365)\n",
    "indexer = X[X['date'] >= str(first_day_of_last_year).split(' ')[0]].index\n",
    "X_train = X[X['date'] >= str(first_day_of_last_year).split(' ')[0]]\n",
    "y_train = y.loc[indexer]"
   ]
  },
  {
   "cell_type": "code",
   "execution_count": null,
   "id": "0f49b847",
   "metadata": {},
   "outputs": [],
   "source": [
    "base_pipeline = PipelineLinearV1(num_columns=['dcoilwtico'], cat_columns=['store_nbr'])\n",
    "modelling_pipeline = SplitPipeline(base_pipeline=base_pipeline)"
   ]
  },
  {
   "cell_type": "code",
   "execution_count": null,
   "id": "b02df5cb",
   "metadata": {},
   "outputs": [],
   "source": [
    "modelling_pipeline.fit(X_train, y_train)"
   ]
  },
  {
   "cell_type": "code",
   "execution_count": null,
   "id": "97f03cb7",
   "metadata": {},
   "outputs": [],
   "source": [
    "submission = pd.read_csv(DATA_ROOT / 'sample_submission.csv')\n",
    "submission['sales'] = modelling_pipeline.predict(test_data)"
   ]
  },
  {
   "cell_type": "code",
   "execution_count": null,
   "id": "7e902b5a",
   "metadata": {},
   "outputs": [],
   "source": [
    "submission.to_csv('./data/kaggle/store-sales-time-series-forecasting/linreg_dcoilwtico_only.csv', index = False)"
   ]
  },
  {
   "cell_type": "code",
   "execution_count": null,
   "id": "42e08d83",
   "metadata": {},
   "outputs": [],
   "source": []
  },
  {
   "cell_type": "code",
   "execution_count": null,
   "id": "9ea90aad",
   "metadata": {},
   "outputs": [],
   "source": []
  },
  {
   "cell_type": "markdown",
   "id": "e3832804",
   "metadata": {},
   "source": [
    "# 6. Linear Regression with 'store_nbr', 'dcoilwtico' and 'store_type' features "
   ]
  },
  {
   "cell_type": "code",
   "execution_count": null,
   "id": "aeadcf9d",
   "metadata": {},
   "outputs": [],
   "source": [
    "X = train.copy().drop(columns='onpromotion')\n",
    "train_transformer = ETLTransformer(date_column='date', id_column='id')\n",
    "X = train_transformer.transform(X)[0]"
   ]
  },
  {
   "cell_type": "code",
   "execution_count": null,
   "id": "bdb52b04",
   "metadata": {},
   "outputs": [],
   "source": [
    "stores_data = pd.read_csv(DATA_ROOT / 'stores.csv').drop(columns=['city', 'state', 'cluster'])\n",
    "stores_data = stores_data.rename(columns={'type': 'store_type'})\n",
    "X = X.merge(stores_data, on='store_nbr', how='left')"
   ]
  },
  {
   "cell_type": "code",
   "execution_count": null,
   "id": "ea0790be",
   "metadata": {},
   "outputs": [],
   "source": [
    "y = X['sales'].copy()\n",
    "X = X.drop(columns='sales')\n",
    "inds = X.loc[pd.isna(X['dcoilwtico']), :].index\n",
    "X = X[X['dcoilwtico'].notna()]\n",
    "X = X.reset_index(drop=True)\n",
    "y = y.drop(labels=inds)\n",
    "y = y.reset_index(drop=True)"
   ]
  },
  {
   "cell_type": "code",
   "execution_count": null,
   "id": "6097b29d",
   "metadata": {},
   "outputs": [],
   "source": [
    "X.head()"
   ]
  },
  {
   "cell_type": "code",
   "execution_count": null,
   "id": "c54cf1dd",
   "metadata": {},
   "outputs": [],
   "source": [
    "splitter = DateTimeSeriesSplit()\n",
    "base_pipeline = PipelineLinearV1(num_columns=['dcoilwtico'], cat_columns=['store_nbr', 'store_type'])\n",
    "modelling_pipeline = SplitPipeline(base_pipeline=base_pipeline)"
   ]
  },
  {
   "cell_type": "code",
   "execution_count": null,
   "id": "a4eb869a",
   "metadata": {
    "scrolled": true
   },
   "outputs": [],
   "source": [
    "scores = cross_validate(\n",
    "        modelling_pipeline, X, y,\n",
    "        cv=splitter, scoring=CV_METRICS, return_estimator=True)"
   ]
  },
  {
   "cell_type": "code",
   "execution_count": null,
   "id": "761cd16d",
   "metadata": {},
   "outputs": [],
   "source": [
    "print_cv_test_scores(scores)"
   ]
  },
  {
   "cell_type": "code",
   "execution_count": null,
   "id": "bdbde28c",
   "metadata": {},
   "outputs": [],
   "source": []
  },
  {
   "cell_type": "code",
   "execution_count": null,
   "id": "cf29508e",
   "metadata": {},
   "outputs": [],
   "source": []
  },
  {
   "cell_type": "markdown",
   "id": "a5dfb002",
   "metadata": {},
   "source": [
    "# 7. Linear Regression with 'store_nbr', 'dcoilwtico' and 'lag' feature (16 days)"
   ]
  },
  {
   "cell_type": "code",
   "execution_count": null,
   "id": "d5b51570",
   "metadata": {},
   "outputs": [],
   "source": [
    "X = train.copy().drop(columns='onpromotion')\n",
    "test_data = pd.read_csv(DATA_ROOT / 'test.csv').drop(columns=['onpromotion'])\n",
    "dates_test_data = test_data['date'].unique()\n",
    "all_data = pd.concat([X, test_data])\n",
    "all_data['lag_16'] = all_data.groupby(['store_nbr', 'family'])['sales'].shift(16)"
   ]
  },
  {
   "cell_type": "code",
   "execution_count": null,
   "id": "7a62afbd",
   "metadata": {},
   "outputs": [],
   "source": [
    "test_data['lag_16'] = all_data[all_data['date'].isin(dates_test_data)]['lag_16']\n",
    "X['lag_16'] = X.groupby(['store_nbr', 'family'])['sales'].shift(16)"
   ]
  },
  {
   "cell_type": "code",
   "execution_count": null,
   "id": "72fc5dcb",
   "metadata": {},
   "outputs": [],
   "source": [
    "train_transformer = ETLTransformer(date_column='date', id_column='id')\n",
    "X = train_transformer.transform(X)[0]"
   ]
  },
  {
   "cell_type": "code",
   "execution_count": null,
   "id": "a11ff7af",
   "metadata": {},
   "outputs": [],
   "source": [
    "y = X['sales'].copy()\n",
    "X = X.drop(columns='sales')\n",
    "inds = X.loc[pd.isna(X['dcoilwtico']), :].index\n",
    "X = X[X['dcoilwtico'].notna()]\n",
    "X = X.reset_index(drop=True)\n",
    "y = y.drop(labels=inds)\n",
    "y = y.reset_index(drop=True)"
   ]
  },
  {
   "cell_type": "code",
   "execution_count": null,
   "id": "d208f47e",
   "metadata": {},
   "outputs": [],
   "source": [
    "X.head()"
   ]
  },
  {
   "cell_type": "code",
   "execution_count": null,
   "id": "d207e9f4",
   "metadata": {},
   "outputs": [],
   "source": [
    "splitter = DateTimeSeriesSplit()\n",
    "base_pipeline = PipelineLinearV1(num_columns=['dcoilwtico'], cat_columns=['store_nbr'])\n",
    "modelling_pipeline = SplitPipeline(base_pipeline=base_pipeline)"
   ]
  },
  {
   "cell_type": "code",
   "execution_count": null,
   "id": "4dce8c7d",
   "metadata": {
    "scrolled": true
   },
   "outputs": [],
   "source": [
    "scores = cross_validate(\n",
    "        modelling_pipeline, X, y,\n",
    "        cv=splitter, scoring=CV_METRICS, return_estimator=True)"
   ]
  },
  {
   "cell_type": "code",
   "execution_count": null,
   "id": "58613c08",
   "metadata": {},
   "outputs": [],
   "source": [
    "print_cv_test_scores(scores)"
   ]
  },
  {
   "cell_type": "code",
   "execution_count": null,
   "id": "a4cabd5b",
   "metadata": {},
   "outputs": [],
   "source": [
    "test_transformer = ETLTransformer(date_column='date', id_column='id')\n",
    "test_data = test_transformer.transform(test_data)[0]\n",
    "test_data.head()"
   ]
  },
  {
   "cell_type": "code",
   "execution_count": null,
   "id": "990d5c9f",
   "metadata": {},
   "outputs": [],
   "source": [
    "test_data.isna().sum()"
   ]
  },
  {
   "cell_type": "code",
   "execution_count": null,
   "id": "a1bd04bd",
   "metadata": {},
   "outputs": [],
   "source": [
    "first_day_of_last_year = pd.to_datetime(X['date'].unique()[-1]) - timedelta(days=365)\n",
    "indexer = X[X['date'] >= str(first_day_of_last_year).split(' ')[0]].index\n",
    "X_train = X[X['date'] >= str(first_day_of_last_year).split(' ')[0]]\n",
    "y_train = y.loc[indexer]"
   ]
  },
  {
   "cell_type": "code",
   "execution_count": null,
   "id": "a9e80774",
   "metadata": {},
   "outputs": [],
   "source": [
    "base_pipeline = PipelineLinearV1(num_columns=['dcoilwtico'], cat_columns=['store_nbr'])\n",
    "modelling_pipeline = SplitPipeline(base_pipeline=base_pipeline)"
   ]
  },
  {
   "cell_type": "code",
   "execution_count": null,
   "id": "61be3bc5",
   "metadata": {},
   "outputs": [],
   "source": [
    "modelling_pipeline.fit(X_train, y_train)"
   ]
  },
  {
   "cell_type": "code",
   "execution_count": null,
   "id": "cd9b5569",
   "metadata": {},
   "outputs": [],
   "source": [
    "submission = pd.read_csv(DATA_ROOT / 'sample_submission.csv')\n",
    "submission['sales'] = modelling_pipeline.predict(test_data)"
   ]
  },
  {
   "cell_type": "code",
   "execution_count": null,
   "id": "2bfcb091",
   "metadata": {},
   "outputs": [],
   "source": [
    "submission.to_csv('./data/kaggle/store-sales-time-series-forecasting/linreg_dcoilwtico_lag_sixteen.csv', index = False)"
   ]
  },
  {
   "cell_type": "code",
   "execution_count": null,
   "id": "20f387f7",
   "metadata": {},
   "outputs": [],
   "source": []
  },
  {
   "cell_type": "code",
   "execution_count": null,
   "id": "030a795f",
   "metadata": {},
   "outputs": [],
   "source": []
  },
  {
   "cell_type": "markdown",
   "id": "bc9e8b4c",
   "metadata": {},
   "source": [
    "# 8. Ridge Regression with 'store_nbr', 'dcoilwtico' and 'lag' feature (16 days), params: alpha"
   ]
  },
  {
   "cell_type": "code",
   "execution_count": null,
   "id": "527e2411",
   "metadata": {},
   "outputs": [],
   "source": [
    "X = train.copy().drop(columns='onpromotion')\n",
    "test_data = pd.read_csv(DATA_ROOT / 'test.csv').drop(columns=['onpromotion'])\n",
    "dates_test_data = test_data['date'].unique()\n",
    "all_data = pd.concat([X, test_data])\n",
    "all_data['lag_16'] = all_data.groupby(['store_nbr', 'family'])['sales'].shift(16)\n",
    "\n",
    "test_data['lag_16'] = all_data[all_data['date'].isin(dates_test_data)]['lag_16']\n",
    "X['lag_16'] = X.groupby(['store_nbr', 'family'])['sales'].shift(16)"
   ]
  },
  {
   "cell_type": "code",
   "execution_count": null,
   "id": "6a568882",
   "metadata": {},
   "outputs": [],
   "source": [
    "train_transformer = ETLTransformer(date_column='date', id_column='id')\n",
    "X = train_transformer.transform(X)[0]"
   ]
  },
  {
   "cell_type": "code",
   "execution_count": null,
   "id": "d7241c05",
   "metadata": {
    "scrolled": true
   },
   "outputs": [],
   "source": [
    "y = X['sales'].copy()\n",
    "X = X.drop(columns='sales')\n",
    "inds = X.loc[pd.isna(X['dcoilwtico']), :].index\n",
    "X = X[X['dcoilwtico'].notna()]\n",
    "X = X.reset_index(drop=True)\n",
    "y = y.drop(labels=inds)\n",
    "y = y.reset_index(drop=True)\n",
    "X.head()"
   ]
  },
  {
   "cell_type": "code",
   "execution_count": null,
   "id": "c3d9af47",
   "metadata": {},
   "outputs": [],
   "source": [
    "hyper_params = {'alpha': np.array([0.01, 0.1, 1, 10, 25, 50, 100])}"
   ]
  },
  {
   "cell_type": "code",
   "execution_count": null,
   "id": "69ffbf97",
   "metadata": {
    "scrolled": true
   },
   "outputs": [],
   "source": [
    "splitter = DateTimeSeriesSplit()\n",
    "for i, alpha in enumerate(hyper_params['alpha']):\n",
    "    base_pipeline = PipelineRidgeV1(num_columns=['dcoilwtico'], cat_columns=['store_nbr'], best_params=alpha)\n",
    "    modelling_pipeline = SplitPipeline(base_pipeline=base_pipeline)\n",
    "    \n",
    "    scores = cross_validate(\n",
    "        modelling_pipeline, X, y,\n",
    "        cv=splitter, scoring=CV_METRICS, return_estimator=True)\n",
    "    \n",
    "    print('alpha: ', alpha)\n",
    "    print_cv_test_scores(scores)\n",
    "    print()\n",
    "    print()"
   ]
  },
  {
   "cell_type": "code",
   "execution_count": null,
   "id": "13dd5ab7",
   "metadata": {},
   "outputs": [],
   "source": [
    "test_transformer = ETLTransformer(date_column='date', id_column='id')\n",
    "test_data = test_transformer.transform(test_data)[0]\n",
    "test_data.head()"
   ]
  },
  {
   "cell_type": "code",
   "execution_count": null,
   "id": "084d8803",
   "metadata": {},
   "outputs": [],
   "source": [
    "first_day_of_last_year = pd.to_datetime(X['date'].unique()[-1]) - timedelta(days=365)\n",
    "indexer = X[X['date'] >= str(first_day_of_last_year).split(' ')[0]].index\n",
    "X_train = X[X['date'] >= str(first_day_of_last_year).split(' ')[0]]\n",
    "y_train = y.loc[indexer]"
   ]
  },
  {
   "cell_type": "code",
   "execution_count": null,
   "id": "68d179a8",
   "metadata": {},
   "outputs": [],
   "source": [
    "base_pipeline = PipelineRidgeV1(num_columns=['dcoilwtico'], cat_columns=['store_nbr'], best_params=25)\n",
    "modelling_pipeline = SplitPipeline(base_pipeline=base_pipeline)"
   ]
  },
  {
   "cell_type": "code",
   "execution_count": null,
   "id": "7554bb65",
   "metadata": {},
   "outputs": [],
   "source": [
    "modelling_pipeline.fit(X_train, y_train)"
   ]
  },
  {
   "cell_type": "code",
   "execution_count": null,
   "id": "a8a3ff64",
   "metadata": {},
   "outputs": [],
   "source": [
    "submission = pd.read_csv(DATA_ROOT / 'sample_submission.csv')\n",
    "submission['sales'] = modelling_pipeline.predict(test_data)"
   ]
  },
  {
   "cell_type": "code",
   "execution_count": null,
   "id": "8ec7950a",
   "metadata": {},
   "outputs": [],
   "source": [
    "submission.to_csv('./data/kaggle/store-sales-time-series-forecasting/ridgereg_dcoilwtico_lag_sixteen.csv', index = False)"
   ]
  },
  {
   "cell_type": "code",
   "execution_count": null,
   "id": "97b959d6",
   "metadata": {},
   "outputs": [],
   "source": []
  },
  {
   "cell_type": "code",
   "execution_count": null,
   "id": "dac46965",
   "metadata": {},
   "outputs": [],
   "source": []
  },
  {
   "cell_type": "markdown",
   "id": "4604335f",
   "metadata": {},
   "source": [
    "# 9. Lasso Regression with 'store_nbr', 'dcoilwtico' and 'lag' feature (16 days), params: alpha"
   ]
  },
  {
   "cell_type": "code",
   "execution_count": null,
   "id": "31d00259",
   "metadata": {},
   "outputs": [],
   "source": [
    "X = train.copy().drop(columns='onpromotion')\n",
    "test_data = pd.read_csv(DATA_ROOT / 'test.csv').drop(columns=['onpromotion'])\n",
    "dates_test_data = test_data['date'].unique()\n",
    "all_data = pd.concat([X, test_data])\n",
    "all_data['lag_16'] = all_data.groupby(['store_nbr', 'family'])['sales'].shift(16)\n",
    "\n",
    "test_data['lag_16'] = all_data[all_data['date'].isin(dates_test_data)]['lag_16']\n",
    "X['lag_16'] = X.groupby(['store_nbr', 'family'])['sales'].shift(16)\n",
    "\n",
    "train_transformer = ETLTransformer(date_column='date', id_column='id')\n",
    "X = train_transformer.transform(X)[0]\n",
    "\n",
    "y = X['sales'].copy()\n",
    "X = X.drop(columns='sales')\n",
    "inds = X.loc[pd.isna(X['dcoilwtico']), :].index\n",
    "X = X[X['dcoilwtico'].notna()]\n",
    "X = X.reset_index(drop=True)\n",
    "y = y.drop(labels=inds)\n",
    "y = y.reset_index(drop=True)\n",
    "X.head()"
   ]
  },
  {
   "cell_type": "code",
   "execution_count": null,
   "id": "321649c5",
   "metadata": {},
   "outputs": [],
   "source": [
    "hyper_params = {'alpha': np.array([0.001, 0.01, 0.1, 1])}"
   ]
  },
  {
   "cell_type": "code",
   "execution_count": null,
   "id": "8e3e17bd",
   "metadata": {},
   "outputs": [],
   "source": [
    "splitter = DateTimeSeriesSplit()\n",
    "for i, alpha in enumerate(hyper_params['alpha']):\n",
    "    base_pipeline = PipelineLassoV1(num_columns=['dcoilwtico'], cat_columns=['store_nbr'], best_params=alpha)\n",
    "    modelling_pipeline = SplitPipeline(base_pipeline=base_pipeline)\n",
    "    \n",
    "    scores = cross_validate(\n",
    "        modelling_pipeline, X, y,\n",
    "        cv=splitter, scoring=CV_METRICS, return_estimator=True)\n",
    "    \n",
    "    print('alpha: ', alpha)\n",
    "    print_cv_test_scores(scores)\n",
    "    print()\n",
    "    print()"
   ]
  },
  {
   "cell_type": "code",
   "execution_count": null,
   "id": "e798519a",
   "metadata": {},
   "outputs": [],
   "source": [
    "test_transformer = ETLTransformer(date_column='date', id_column='id')\n",
    "test_data = test_transformer.transform(test_data)[0]\n",
    "test_data.head()"
   ]
  },
  {
   "cell_type": "code",
   "execution_count": null,
   "id": "abf59c88",
   "metadata": {},
   "outputs": [],
   "source": [
    "first_day_of_last_year = pd.to_datetime(X['date'].unique()[-1]) - timedelta(days=365)\n",
    "indexer = X[X['date'] >= str(first_day_of_last_year).split(' ')[0]].index\n",
    "X_train = X[X['date'] >= str(first_day_of_last_year).split(' ')[0]]\n",
    "y_train = y.loc[indexer]"
   ]
  },
  {
   "cell_type": "code",
   "execution_count": null,
   "id": "6fffb858",
   "metadata": {},
   "outputs": [],
   "source": [
    "base_pipeline = PipelineLassoV1(num_columns=['dcoilwtico'], cat_columns=['store_nbr'], best_params=0.001)\n",
    "modelling_pipeline = SplitPipeline(base_pipeline=base_pipeline)"
   ]
  },
  {
   "cell_type": "code",
   "execution_count": null,
   "id": "62bac515",
   "metadata": {},
   "outputs": [],
   "source": [
    "modelling_pipeline.fit(X_train, y_train)"
   ]
  },
  {
   "cell_type": "code",
   "execution_count": null,
   "id": "714df194",
   "metadata": {},
   "outputs": [],
   "source": [
    "submission = pd.read_csv(DATA_ROOT / 'sample_submission.csv')\n",
    "submission['sales'] = modelling_pipeline.predict(test_data)"
   ]
  },
  {
   "cell_type": "code",
   "execution_count": null,
   "id": "68a9cca9",
   "metadata": {},
   "outputs": [],
   "source": [
    "submission.to_csv('./data/kaggle/store-sales-time-series-forecasting/lassoreg_dcoilwtico_lag_sixteen.csv', index = False)"
   ]
  },
  {
   "cell_type": "code",
   "execution_count": null,
   "id": "3c309ce5",
   "metadata": {},
   "outputs": [],
   "source": []
  },
  {
   "cell_type": "code",
   "execution_count": null,
   "id": "a17dc1c2",
   "metadata": {},
   "outputs": [],
   "source": []
  },
  {
   "cell_type": "markdown",
   "id": "1fdf117c",
   "metadata": {},
   "source": [
    "# 10. Linear Regression with 'store_nbr', 'dcoilwtico' and 'lag' feature (16 days), params: alpha (ElasticNet)"
   ]
  },
  {
   "cell_type": "code",
   "execution_count": null,
   "id": "b39114a6",
   "metadata": {},
   "outputs": [],
   "source": [
    "X = train.copy().drop(columns='onpromotion')\n",
    "test_data = pd.read_csv(DATA_ROOT / 'test.csv').drop(columns=['onpromotion'])\n",
    "dates_test_data = test_data['date'].unique()\n",
    "all_data = pd.concat([X, test_data])\n",
    "all_data['lag_16'] = all_data.groupby(['store_nbr', 'family'])['sales'].shift(16)\n",
    "\n",
    "test_data['lag_16'] = all_data[all_data['date'].isin(dates_test_data)]['lag_16']\n",
    "X['lag_16'] = X.groupby(['store_nbr', 'family'])['sales'].shift(16)\n",
    "\n",
    "train_transformer = ETLTransformer(date_column='date', id_column='id')\n",
    "X = train_transformer.transform(X)[0]\n",
    "\n",
    "y = X['sales'].copy()\n",
    "X = X.drop(columns='sales')\n",
    "inds = X.loc[pd.isna(X['dcoilwtico']), :].index\n",
    "X = X[X['dcoilwtico'].notna()]\n",
    "X = X.reset_index(drop=True)\n",
    "y = y.drop(labels=inds)\n",
    "y = y.reset_index(drop=True)\n",
    "X.head()"
   ]
  },
  {
   "cell_type": "code",
   "execution_count": null,
   "id": "38ef0351",
   "metadata": {},
   "outputs": [],
   "source": [
    "hyper_params = {'alpha': np.array([0.001, 0.01, 0.1, 1]), 'l1_ratio': np.array([0.05, 0.1, 0.15, 0.2, 0.3])}"
   ]
  },
  {
   "cell_type": "code",
   "execution_count": null,
   "id": "b255d965",
   "metadata": {
    "scrolled": true
   },
   "outputs": [],
   "source": [
    "splitter = DateTimeSeriesSplit()\n",
    "for i, alpha in enumerate(hyper_params['alpha']):\n",
    "    for j, l1_ratio in enumerate(hyper_params['l1_ratio']):\n",
    "        base_pipeline = PipelineElasticNetV1(num_columns=['dcoilwtico'], cat_columns=['store_nbr'], alpha=alpha, l1_ratio=l1_ratio)\n",
    "        modelling_pipeline = SplitPipeline(base_pipeline=base_pipeline)\n",
    "    \n",
    "        scores = cross_validate(\n",
    "            modelling_pipeline, X, y,\n",
    "            cv=splitter, scoring=CV_METRICS, return_estimator=True)\n",
    "    \n",
    "        print('alpha: ', alpha, 'l1_ratio: ', l1_ratio)\n",
    "        print_cv_test_scores(scores)\n",
    "        print()\n",
    "        print()"
   ]
  },
  {
   "cell_type": "code",
   "execution_count": null,
   "id": "549dde7c",
   "metadata": {},
   "outputs": [],
   "source": [
    "test_transformer = ETLTransformer(date_column='date', id_column='id')\n",
    "test_data = test_transformer.transform(test_data)[0]\n",
    "test_data.head()"
   ]
  },
  {
   "cell_type": "code",
   "execution_count": null,
   "id": "be547753",
   "metadata": {},
   "outputs": [],
   "source": [
    "first_day_of_last_year = pd.to_datetime(X['date'].unique()[-1]) - timedelta(days=365)\n",
    "indexer = X[X['date'] >= str(first_day_of_last_year).split(' ')[0]].index\n",
    "X_train = X[X['date'] >= str(first_day_of_last_year).split(' ')[0]]\n",
    "y_train = y.loc[indexer]"
   ]
  },
  {
   "cell_type": "code",
   "execution_count": null,
   "id": "8380a349",
   "metadata": {},
   "outputs": [],
   "source": [
    "base_pipeline = PipelineElasticNetV1(num_columns=['dcoilwtico'], cat_columns=['store_nbr'], alpha=0.001, l1_ratio=0.15)\n",
    "modelling_pipeline = SplitPipeline(base_pipeline=base_pipeline)"
   ]
  },
  {
   "cell_type": "code",
   "execution_count": null,
   "id": "811c2e2f",
   "metadata": {},
   "outputs": [],
   "source": [
    "modelling_pipeline.fit(X_train, y_train)"
   ]
  },
  {
   "cell_type": "code",
   "execution_count": null,
   "id": "623397d1",
   "metadata": {},
   "outputs": [],
   "source": [
    "submission = pd.read_csv(DATA_ROOT / 'sample_submission.csv')\n",
    "submission['sales'] = modelling_pipeline.predict(test_data)"
   ]
  },
  {
   "cell_type": "code",
   "execution_count": null,
   "id": "18d68b40",
   "metadata": {},
   "outputs": [],
   "source": [
    "submission.to_csv('./data/kaggle/store-sales-time-series-forecasting/elasticnet_dcoilwtico_lag_sixteen.csv', index = False)"
   ]
  },
  {
   "cell_type": "code",
   "execution_count": null,
   "id": "a9010d2a",
   "metadata": {},
   "outputs": [],
   "source": []
  },
  {
   "cell_type": "code",
   "execution_count": null,
   "id": "8b1bb747",
   "metadata": {},
   "outputs": [],
   "source": []
  },
  {
   "cell_type": "markdown",
   "id": "80da5a4e",
   "metadata": {},
   "source": [
    "# 11. Linear Regression with 'store_nbr', 'dcoilwtico', **'onpromotion' and 'lag' feature (16 days)"
   ]
  },
  {
   "cell_type": "code",
   "execution_count": null,
   "id": "148d8b43",
   "metadata": {},
   "outputs": [],
   "source": [
    "X = train.copy()\n",
    "test_data = pd.read_csv(DATA_ROOT / 'test.csv')\n",
    "dates_test_data = test_data['date'].unique()\n",
    "all_data = pd.concat([X, test_data])\n",
    "all_data['lag_16'] = all_data.groupby(['store_nbr', 'family'])['sales'].shift(16)"
   ]
  },
  {
   "cell_type": "code",
   "execution_count": null,
   "id": "58921fa2",
   "metadata": {},
   "outputs": [],
   "source": [
    "test_data['lag_16'] = all_data[all_data['date'].isin(dates_test_data)]['lag_16']\n",
    "X['lag_16'] = X.groupby(['store_nbr', 'family'])['sales'].shift(16)"
   ]
  },
  {
   "cell_type": "code",
   "execution_count": null,
   "id": "00181042",
   "metadata": {},
   "outputs": [],
   "source": [
    "train_transformer = ETLTransformer(date_column='date', id_column='id')\n",
    "X = train_transformer.transform(X)[0]"
   ]
  },
  {
   "cell_type": "code",
   "execution_count": null,
   "id": "9d870c59",
   "metadata": {},
   "outputs": [],
   "source": [
    "families_with_promo = ['beauty', 'beverages', 'home and kitchen ii', 'home care', 'produce', 'school and office supplies']"
   ]
  },
  {
   "cell_type": "code",
   "execution_count": null,
   "id": "64cf2b5b",
   "metadata": {},
   "outputs": [],
   "source": [
    "y = X['sales'].copy()\n",
    "X = X.drop(columns='sales')\n",
    "inds = X.loc[pd.isna(X['dcoilwtico']), :].index\n",
    "X = X[X['dcoilwtico'].notna()]\n",
    "X = X.reset_index(drop=True)\n",
    "y = y.drop(labels=inds)\n",
    "y = y.reset_index(drop=True)"
   ]
  },
  {
   "cell_type": "code",
   "execution_count": null,
   "id": "50e17dbf",
   "metadata": {},
   "outputs": [],
   "source": [
    "indices_promo = X[X['family'].isin(families_with_promo)].index\n",
    "X_with_promo = X[X['family'].isin(families_with_promo)]\n",
    "y_with_promo = y.loc[indices_promo]"
   ]
  },
  {
   "cell_type": "code",
   "execution_count": null,
   "id": "5ca53806",
   "metadata": {},
   "outputs": [],
   "source": [
    "splitter = DateTimeSeriesSplit()\n",
    "base_pipeline = PipelineLinearV1(num_columns=['dcoilwtico', 'onpromotion'], cat_columns=['store_nbr'])\n",
    "modelling_pipeline = SplitPipeline(base_pipeline=base_pipeline)"
   ]
  },
  {
   "cell_type": "code",
   "execution_count": null,
   "id": "d9d02b2f",
   "metadata": {
    "scrolled": true
   },
   "outputs": [],
   "source": [
    "scores = cross_validate(\n",
    "        modelling_pipeline, X_with_promo, y_with_promo,\n",
    "        cv=splitter, scoring=CV_METRICS, return_estimator=True)"
   ]
  },
  {
   "cell_type": "code",
   "execution_count": null,
   "id": "132b49c3",
   "metadata": {},
   "outputs": [],
   "source": [
    "print_cv_test_scores(scores)"
   ]
  },
  {
   "cell_type": "code",
   "execution_count": null,
   "id": "1c8cd0bb",
   "metadata": {},
   "outputs": [],
   "source": [
    "test_transformer = ETLTransformer(date_column='date', id_column='id')\n",
    "test_data = test_transformer.transform(test_data)[0]\n",
    "test_data_with_promo_indices = test_data[test_data['family'].isin(families_with_promo)].index\n",
    "test_data_with_promo = test_data[test_data['family'].isin(families_with_promo)]\n",
    "test_data_with_promo"
   ]
  },
  {
   "cell_type": "code",
   "execution_count": null,
   "id": "ba6461c9",
   "metadata": {},
   "outputs": [],
   "source": [
    "first_day_of_last_year = pd.to_datetime(X_with_promo['date'].unique()[-1]) - timedelta(days=365)\n",
    "indexer = X_with_promo[X_with_promo['date'] >= str(first_day_of_last_year).split(' ')[0]].index\n",
    "X_train_with_promo = X_with_promo[X_with_promo['date'] >= str(first_day_of_last_year).split(' ')[0]]\n",
    "y_train_with_promo = y_with_promo.loc[indexer]"
   ]
  },
  {
   "cell_type": "code",
   "execution_count": null,
   "id": "68030745",
   "metadata": {},
   "outputs": [],
   "source": [
    "base_pipeline = PipelineLinearV1(num_columns=['dcoilwtico', 'onpromotion'], cat_columns=['store_nbr'])\n",
    "modelling_pipeline = SplitPipeline(base_pipeline=base_pipeline)"
   ]
  },
  {
   "cell_type": "code",
   "execution_count": null,
   "id": "22097a07",
   "metadata": {},
   "outputs": [],
   "source": [
    "modelling_pipeline.fit(X_train_with_promo, y_train_with_promo)"
   ]
  },
  {
   "cell_type": "code",
   "execution_count": null,
   "id": "38257459",
   "metadata": {},
   "outputs": [],
   "source": [
    "submission = pd.read_csv(DATA_ROOT / 'sample_submission.csv')"
   ]
  },
  {
   "cell_type": "code",
   "execution_count": null,
   "id": "10d15ccc",
   "metadata": {
    "scrolled": true
   },
   "outputs": [],
   "source": [
    "submission.loc[test_data_with_promo_indices, 'sales'] = modelling_pipeline.predict(test_data_with_promo)"
   ]
  },
  {
   "cell_type": "code",
   "execution_count": null,
   "id": "69a4fe47",
   "metadata": {},
   "outputs": [],
   "source": [
    "indices_without_promo = X[~X['family'].isin(families_with_promo)].index\n",
    "X_without_promo = X[~X['family'].isin(families_with_promo)]\n",
    "y_without_promo = y.loc[indices_without_promo]"
   ]
  },
  {
   "cell_type": "code",
   "execution_count": null,
   "id": "afe15a46",
   "metadata": {},
   "outputs": [],
   "source": [
    "splitter = DateTimeSeriesSplit()\n",
    "base_pipeline = PipelineLinearV1(num_columns=['dcoilwtico'], cat_columns=['store_nbr'])\n",
    "modelling_pipeline = SplitPipeline(base_pipeline=base_pipeline)"
   ]
  },
  {
   "cell_type": "code",
   "execution_count": null,
   "id": "a1ef0d10",
   "metadata": {
    "scrolled": true
   },
   "outputs": [],
   "source": [
    "scores = cross_validate(\n",
    "        modelling_pipeline, X_without_promo, y_without_promo,\n",
    "        cv=splitter, scoring=CV_METRICS, return_estimator=True)"
   ]
  },
  {
   "cell_type": "code",
   "execution_count": null,
   "id": "69843855",
   "metadata": {},
   "outputs": [],
   "source": [
    "print_cv_test_scores(scores)"
   ]
  },
  {
   "cell_type": "code",
   "execution_count": null,
   "id": "46010f66",
   "metadata": {},
   "outputs": [],
   "source": [
    "test_data_without_promo_indices = test_data[~test_data['family'].isin(families_with_promo)].index\n",
    "test_data_without_promo = test_data[~test_data['family'].isin(families_with_promo)]\n",
    "test_data_without_promo"
   ]
  },
  {
   "cell_type": "code",
   "execution_count": null,
   "id": "d5338728",
   "metadata": {},
   "outputs": [],
   "source": [
    "indexer = X_without_promo[X_without_promo['date'] >= str(first_day_of_last_year).split(' ')[0]].index\n",
    "X_train_without_promo = X_without_promo[X_without_promo['date'] >= str(first_day_of_last_year).split(' ')[0]]\n",
    "y_train_without_promo = y_without_promo.loc[indexer]"
   ]
  },
  {
   "cell_type": "code",
   "execution_count": null,
   "id": "5fd05c33",
   "metadata": {},
   "outputs": [],
   "source": [
    "base_pipeline = PipelineLinearV1(num_columns=['dcoilwtico'], cat_columns=['store_nbr'])\n",
    "modelling_pipeline = SplitPipeline(base_pipeline=base_pipeline)"
   ]
  },
  {
   "cell_type": "code",
   "execution_count": null,
   "id": "f14676c5",
   "metadata": {},
   "outputs": [],
   "source": [
    "modelling_pipeline.fit(X_train_without_promo, y_train_without_promo)"
   ]
  },
  {
   "cell_type": "code",
   "execution_count": null,
   "id": "0e88723d",
   "metadata": {
    "scrolled": true
   },
   "outputs": [],
   "source": [
    "submission.loc[test_data_without_promo_indices, 'sales'] = modelling_pipeline.predict(test_data_without_promo)"
   ]
  },
  {
   "cell_type": "code",
   "execution_count": null,
   "id": "014f1576",
   "metadata": {},
   "outputs": [],
   "source": [
    "submission.to_csv('./data/kaggle/store-sales-time-series-forecasting/linreg_dcoilwtico_lag_sixteen_promo.csv', index = False)"
   ]
  },
  {
   "cell_type": "code",
   "execution_count": null,
   "id": "3a1f25e2",
   "metadata": {},
   "outputs": [],
   "source": []
  },
  {
   "cell_type": "code",
   "execution_count": null,
   "id": "80497087",
   "metadata": {},
   "outputs": [],
   "source": []
  },
  {
   "cell_type": "markdown",
   "id": "6b355d21",
   "metadata": {},
   "source": [
    "# 12. Linear Regression with 'store_nbr', 'dcoilwtico', 'store_city' and 'lag' feature (16 days)"
   ]
  },
  {
   "cell_type": "code",
   "execution_count": null,
   "id": "72733ec2",
   "metadata": {},
   "outputs": [],
   "source": [
    "X = train.copy().drop(columns='onpromotion')\n",
    "train_transformer = ETLTransformer(date_column='date', id_column='id')\n",
    "X = train_transformer.transform(X)[0]"
   ]
  },
  {
   "cell_type": "code",
   "execution_count": null,
   "id": "b27473b6",
   "metadata": {},
   "outputs": [],
   "source": [
    "stores_data = pd.read_csv(DATA_ROOT / 'stores.csv').drop(columns=['type', 'state', 'cluster'])\n",
    "stores_data = stores_data.rename(columns={'city': 'store_city'})\n",
    "X = X.merge(stores_data, on='store_nbr', how='left')"
   ]
  },
  {
   "cell_type": "code",
   "execution_count": null,
   "id": "52fcf111",
   "metadata": {},
   "outputs": [],
   "source": [
    "y = X['sales'].copy()\n",
    "X = X.drop(columns='sales')\n",
    "inds = X.loc[pd.isna(X['dcoilwtico']), :].index\n",
    "X = X[X['dcoilwtico'].notna()]\n",
    "X = X.reset_index(drop=True)\n",
    "y = y.drop(labels=inds)\n",
    "y = y.reset_index(drop=True)\n",
    "X.head()"
   ]
  },
  {
   "cell_type": "code",
   "execution_count": null,
   "id": "12dfd03a",
   "metadata": {},
   "outputs": [],
   "source": [
    "splitter = DateTimeSeriesSplit()\n",
    "base_pipeline = PipelineLinearV1(num_columns=['dcoilwtico'], cat_columns=['store_nbr', 'store_city'])\n",
    "modelling_pipeline = SplitPipeline(base_pipeline=base_pipeline)"
   ]
  },
  {
   "cell_type": "code",
   "execution_count": null,
   "id": "b60150e8",
   "metadata": {},
   "outputs": [],
   "source": [
    "scores = cross_validate(\n",
    "        modelling_pipeline, X, y,\n",
    "        cv=splitter, scoring=CV_METRICS, return_estimator=True)"
   ]
  },
  {
   "cell_type": "code",
   "execution_count": null,
   "id": "1cf4aacc",
   "metadata": {},
   "outputs": [],
   "source": [
    "print_cv_test_scores(scores)"
   ]
  },
  {
   "cell_type": "code",
   "execution_count": null,
   "id": "ff242d27",
   "metadata": {},
   "outputs": [],
   "source": []
  },
  {
   "cell_type": "code",
   "execution_count": null,
   "id": "ee2895f8",
   "metadata": {},
   "outputs": [],
   "source": []
  },
  {
   "cell_type": "markdown",
   "id": "ec9de55a",
   "metadata": {},
   "source": [
    "# 13. Linear Regression with 'store_nbr', 'dcoilwtico', **'onpromotion' and 'lag' feature (1 day)"
   ]
  },
  {
   "cell_type": "code",
   "execution_count": null,
   "id": "9d77820d",
   "metadata": {},
   "outputs": [],
   "source": [
    "X = train.copy()\n",
    "train_transformer = ETLTransformer(date_column='date', id_column='id')\n",
    "X = train_transformer.transform(X)[0]"
   ]
  },
  {
   "cell_type": "code",
   "execution_count": null,
   "id": "162ff078",
   "metadata": {},
   "outputs": [],
   "source": [
    "X['lag_1'] = X.groupby(['store_nbr', 'family'])['sales'].shift()\n",
    "\n",
    "y = X['sales'].copy()\n",
    "X = X.drop(columns='sales')\n",
    "\n",
    "inds = X.loc[pd.isna(X['dcoilwtico']), :].index\n",
    "X = X[X['dcoilwtico'].notna()]\n",
    "X = X.reset_index(drop=True)\n",
    "y = y.drop(labels=inds)\n",
    "y = y.reset_index(drop=True)"
   ]
  },
  {
   "cell_type": "code",
   "execution_count": null,
   "id": "02e84da0",
   "metadata": {},
   "outputs": [],
   "source": [
    "X = pd.get_dummies(X, columns=['store_nbr'], drop_first=True)\n",
    "lag_1 = X['lag_1'].copy()\n",
    "X = X.drop(columns=['lag_1'])\n",
    "X['lag_1'] = lag_1\n",
    "X.head()"
   ]
  },
  {
   "cell_type": "code",
   "execution_count": null,
   "id": "15e66917",
   "metadata": {},
   "outputs": [],
   "source": [
    "families_with_promo = ['beauty', 'beverages', 'home and kitchen ii', 'home care', 'produce', 'school and office supplies']\n",
    "families_without_promo = [family for family in X['family'].unique() if family not in families_with_promo]"
   ]
  },
  {
   "cell_type": "code",
   "execution_count": null,
   "id": "96847a65",
   "metadata": {},
   "outputs": [],
   "source": [
    "tscv_promo = TimeSeriesSplit(gap=0, max_train_size=365 * len(families_with_promo) * train['store_nbr'].nunique(), n_splits=4, test_size=16 * len(families_with_promo) * train['store_nbr'].nunique())"
   ]
  },
  {
   "cell_type": "code",
   "execution_count": null,
   "id": "c2485c64",
   "metadata": {},
   "outputs": [],
   "source": [
    "indices_promo = X[X['family'].isin(families_with_promo)].index\n",
    "X_with_promo = X[X['family'].isin(families_with_promo)].copy()\n",
    "y_with_promo = y.loc[indices_promo].copy()"
   ]
  },
  {
   "cell_type": "code",
   "execution_count": null,
   "id": "abf0e0d1",
   "metadata": {},
   "outputs": [],
   "source": [
    "scores = {'RMSLE': [], 'RMSE': [], 'MAE': [], 'R2': []}\n",
    "\n",
    "for train_indices, test_indices in tscv_promo.split(X_with_promo, y_with_promo):\n",
    "    X_train = X_with_promo.iloc[train_indices]\n",
    "    y_train = y_with_promo.iloc[train_indices]\n",
    "    X_test = X_with_promo.iloc[test_indices]\n",
    "    y_test = y_with_promo.iloc[test_indices]\n",
    "\n",
    "    X_test.loc[:, 'pred'] = 0\n",
    "    for current_family in families_with_promo:\n",
    "        current_family_indices_train = X_train[X_train['family'] == current_family].index\n",
    "        X_train_current_family = X_train[X_train['family'] == current_family].drop(columns=['family'])\n",
    "        y_train_current_family = y_train.loc[current_family_indices_train]\n",
    "        scaler_oil = MinMaxScaler()\n",
    "        scaler_promo = MinMaxScaler()\n",
    "        X_train_current_family[['dcoilwtico']] = scaler_oil.fit_transform(X_train_current_family[['dcoilwtico']])\n",
    "        X_train_current_family[['onpromotion']] = scaler_promo.fit_transform(X_train_current_family[['onpromotion']])\n",
    "        model = PositiveRegressor(LinearRegression())\n",
    "        model.fit(X_train_current_family.drop(columns=['date']), y_train_current_family)\n",
    "        \n",
    "        \n",
    "        current_family_indices_test = X_test[X_test['family'] == current_family].index\n",
    "        X_test_current_family = X_test[X_test['family'] == current_family].drop(columns=['family'])\n",
    "        X_test_current_family[['dcoilwtico']] = scaler_oil.transform(X_test_current_family[['dcoilwtico']])\n",
    "        X_test_current_family[['onpromotion']] = scaler_promo.transform(X_test_current_family[['onpromotion']])\n",
    "\n",
    "        previous_day = X_test_current_family['date'].unique()[0]\n",
    "        for current_day in X_test_current_family['date'].unique()[1:]:\n",
    "            X_test_for_current_day = X_test_current_family[X_test_current_family['date'] == previous_day].drop(columns=['pred', 'date'])\n",
    "            predictions = model.predict(X_test_for_current_day)\n",
    "            predictions[predictions < 0] = 0\n",
    "    \n",
    "            #######\n",
    "            X_test_current_family.loc[X_test_current_family['date'] == current_day, 'lag_1'] = predictions\n",
    "            #######\n",
    "            \n",
    "            previous_day = current_day\n",
    "            \n",
    "            \n",
    "        y_pred_current_family = model.predict(X_test_current_family.drop(columns=['date', 'pred']))\n",
    "        y_pred_current_family[y_pred_current_family < 0] = 0\n",
    "        X_test.loc[current_family_indices_test, 'pred'] = y_pred_current_family\n",
    "             \n",
    "    y_pred = X_test['pred'].copy()\n",
    "    X_test = X_test.drop(columns=['pred'])\n",
    "    scores['RMSLE'].append(np.sqrt(mean_squared_log_error(y_test, y_pred)))\n",
    "    scores['RMSE'].append(mean_squared_error(y_test, y_pred, squared=False))\n",
    "    scores['MAE'].append(mean_absolute_error(y_test, y_pred))\n",
    "    scores['R2'].append(r2_score(y_test, y_pred))\n",
    "          \n",
    "for metric_name, metric_values in scores.items():\n",
    "    print(f'{metric_name}: {mean(metric_values):.3f} ± {stdev(metric_values):.3f}')"
   ]
  },
  {
   "cell_type": "code",
   "execution_count": null,
   "id": "42d4115e",
   "metadata": {},
   "outputs": [],
   "source": [
    "tscv_without_promo = TimeSeriesSplit(gap=0, max_train_size=365 * len(families_without_promo) * len(train['store_nbr'].unique()), n_splits=4, test_size=16 * len(families_without_promo) * len(train['store_nbr'].unique()))"
   ]
  },
  {
   "cell_type": "code",
   "execution_count": null,
   "id": "6f21eeea",
   "metadata": {},
   "outputs": [],
   "source": [
    "indices_without_promo = X[X['family'].isin(families_without_promo)].index\n",
    "X_without_promo = X[X['family'].isin(families_without_promo)].copy().drop(columns=['onpromotion'])\n",
    "y_without_promo = y.loc[indices_without_promo].copy()"
   ]
  },
  {
   "cell_type": "code",
   "execution_count": null,
   "id": "b5cff2e7",
   "metadata": {},
   "outputs": [],
   "source": [
    "scores = {'RMSLE': [], 'RMSE': [], 'MAE': [], 'R2': []}\n",
    "\n",
    "for train_indices, test_indices in tscv_without_promo.split(X_without_promo, y_without_promo):\n",
    "    X_train = X_without_promo.iloc[train_indices]\n",
    "    y_train = y_without_promo.iloc[train_indices]\n",
    "    X_test = X_without_promo.iloc[test_indices]\n",
    "    y_test = y_without_promo.iloc[test_indices]\n",
    "    \n",
    "    X_test.loc[:, 'pred'] = 0\n",
    "    for current_family in families_without_promo:\n",
    "        current_family_indices_train = X_train[X_train['family'] == current_family].index\n",
    "        X_train_current_family = X_train[X_train['family'] == current_family].drop(columns=['family'])\n",
    "        y_train_current_family = y_train.loc[current_family_indices_train]\n",
    "        scaler = MinMaxScaler()\n",
    "        X_train_current_family[['dcoilwtico']] = scaler.fit_transform(X_train_current_family[['dcoilwtico']])\n",
    "        model = PositiveRegressor(LinearRegression())\n",
    "        model.fit(X_train_current_family.drop(columns=['date']), y_train_current_family)\n",
    "        \n",
    "        \n",
    "        current_family_indices_test = X_test[X_test['family'] == current_family].index\n",
    "        X_test_current_family = X_test[X_test['family'] == current_family].drop(columns=['family'])\n",
    "        X_test_current_family[['dcoilwtico']] = scaler.transform(X_test_current_family[['dcoilwtico']])\n",
    "        \n",
    "        previous_day = X_test_current_family['date'].unique()[0]\n",
    "        for current_day in X_test_current_family['date'].unique()[1:]:\n",
    "            X_test_for_current_day = X_test_current_family[X_test_current_family['date'] == previous_day].drop(columns=['date', 'pred'])\n",
    "            predictions = model.predict(X_test_for_current_day)\n",
    "            predictions[predictions < 0] = 0\n",
    "    \n",
    "            #######\n",
    "            X_test_current_family.loc[X_test_current_family['date'] == current_day, 'lag_1'] = predictions\n",
    "            #######\n",
    "            \n",
    "            previous_day = current_day\n",
    "            \n",
    "\n",
    "        y_pred_current_family = model.predict(X_test_current_family.drop(columns=['date', 'pred']))\n",
    "        y_pred_current_family[y_pred_current_family < 0] = 0\n",
    "        X_test.loc[current_family_indices_test, 'pred'] = y_pred_current_family\n",
    "\n",
    "    y_pred = X_test['pred'].copy()\n",
    "    X_test = X_test.drop(columns=['pred'])\n",
    "    scores['RMSLE'].append(np.sqrt(mean_squared_log_error(y_test, y_pred)))\n",
    "    scores['RMSE'].append(mean_squared_error(y_test, y_pred, squared=False))\n",
    "    scores['MAE'].append(mean_absolute_error(y_test, y_pred))\n",
    "    scores['R2'].append(r2_score(y_test, y_pred))   \n",
    "      \n",
    "for metric_name, metric_values in scores.items():\n",
    "    print(f'{metric_name}: {mean(metric_values):.3f} ± {stdev(metric_values):.3f}')"
   ]
  },
  {
   "cell_type": "code",
   "execution_count": null,
   "id": "bf160026",
   "metadata": {},
   "outputs": [],
   "source": [
    "first_day_of_last_year = pd.to_datetime(X['date'].unique()[-1]) - timedelta(days=365)\n",
    "indexer = X_with_promo[X_with_promo['date'] >= str(first_day_of_last_year).split(' ')[0]].index\n",
    "X_train_promo = X_with_promo[X_with_promo['date'] >= str(first_day_of_last_year).split(' ')[0]]\n",
    "y_train_promo = y_with_promo.loc[indexer]"
   ]
  },
  {
   "cell_type": "code",
   "execution_count": null,
   "id": "71e05733",
   "metadata": {},
   "outputs": [],
   "source": [
    "test_data = pd.read_csv(DATA_ROOT / 'test.csv')\n",
    "test_transformer = ETLTransformer(date_column='date', id_column='id')\n",
    "test_data = test_transformer.transform(test_data)[0]\n",
    "test_data = pd.get_dummies(test_data, columns=['store_nbr'], drop_first=True)\n",
    "test_data['lag_1'] = 0\n",
    "test_data_with_promo = test_data[test_data['family'].isin(families_with_promo)]\n",
    "test_data_with_promo.loc[test_data_with_promo[test_data_with_promo['date'] == test_data_with_promo['date'].unique()[0]].index, 'lag_1'] = y_train_promo.loc[X_train_promo['date'] == X_train_promo['date'].unique()[-1]].tolist()"
   ]
  },
  {
   "cell_type": "code",
   "execution_count": null,
   "id": "c73e5854",
   "metadata": {},
   "outputs": [],
   "source": [
    "submission = pd.read_csv(DATA_ROOT / 'sample_submission.csv')"
   ]
  },
  {
   "cell_type": "code",
   "execution_count": null,
   "id": "973ce6da",
   "metadata": {},
   "outputs": [],
   "source": [
    "for current_family in families_with_promo:\n",
    "    current_family_indices_train = X_train_promo[X_train_promo['family'] == current_family].index\n",
    "    X_train_current_family = X_train_promo[X_train_promo['family'] == current_family].drop(columns=['family'])\n",
    "    y_train_current_family = y_train_promo.loc[current_family_indices_train]\n",
    "    scaler_oil = MinMaxScaler()\n",
    "    scaler_promo = MinMaxScaler()\n",
    "    X_train_current_family[['dcoilwtico']] = scaler_oil.fit_transform(X_train_current_family[['dcoilwtico']])\n",
    "    X_train_current_family[['onpromotion']] = scaler_promo.fit_transform(X_train_current_family[['onpromotion']])\n",
    "    \n",
    "    model = PositiveRegressor(LinearRegression())\n",
    "    model.fit(X_train_current_family.drop(columns=['date']), y_train_current_family)\n",
    "    \n",
    "    X_test_current_family = test_data_with_promo[test_data_with_promo['family'] == current_family].drop(columns=['family'])\n",
    "    \n",
    "    X_test_current_family[['dcoilwtico']] = scaler_oil.transform(X_test_current_family[['dcoilwtico']])\n",
    "    X_test_current_family[['onpromotion']] = scaler_promo.transform(X_test_current_family[['onpromotion']])\n",
    "    \n",
    "    previous_day = X_test_current_family['date'].unique()[0]\n",
    "    for current_day in X_test_current_family['date'].unique()[1:]:\n",
    "        X_test_for_current_day = X_test_current_family[X_test_current_family['date'] == previous_day].drop('date', axis=1)\n",
    "        predictions = model.predict(X_test_for_current_day)\n",
    "        predictions[predictions < 0] = 0\n",
    "        X_test_current_family.loc[X_test_current_family[X_test_current_family['date'] == current_day].index, 'lag_1'] = predictions\n",
    "        previous_day = current_day\n",
    "            \n",
    "    X_test_current_family = X_test_current_family.drop(columns=['date'])\n",
    "        \n",
    "    y_pred_current_family = model.predict(X_test_current_family)\n",
    "    y_pred_current_family[y_pred_current_family < 0] = 0\n",
    "        \n",
    "    test_indices = test_data_with_promo[test_data_with_promo['family'] == current_family].index\n",
    "    submission.loc[test_indices, 'sales'] = y_pred_current_family"
   ]
  },
  {
   "cell_type": "code",
   "execution_count": null,
   "id": "d74c0a81",
   "metadata": {},
   "outputs": [],
   "source": [
    "indexer = X_without_promo[X_without_promo['date'] >= str(first_day_of_last_year).split(' ')[0]].index\n",
    "X_train_without_promo = X_without_promo[X_without_promo['date'] >= str(first_day_of_last_year).split(' ')[0]]\n",
    "y_train_without_promo = y_without_promo.loc[indexer]"
   ]
  },
  {
   "cell_type": "code",
   "execution_count": null,
   "id": "2d0db5dd",
   "metadata": {},
   "outputs": [],
   "source": [
    "test_data_without_promo = test_data[test_data['family'].isin(families_without_promo)].drop(columns=['onpromotion'])\n",
    "test_data_without_promo.loc[test_data_without_promo[test_data_without_promo['date'] == test_data_without_promo['date'].unique()[0]].index, 'lag_1'] = y_train_without_promo.loc[X_train_without_promo['date'] == X_train_without_promo['date'].unique()[-1]].tolist()"
   ]
  },
  {
   "cell_type": "code",
   "execution_count": null,
   "id": "4687becc",
   "metadata": {},
   "outputs": [],
   "source": [
    "for current_family in families_without_promo:\n",
    "    current_family_indices_train = X_train_without_promo[X_train_without_promo['family'] == current_family].index\n",
    "    X_train_current_family = X_train_without_promo[X_train_without_promo['family'] == current_family].drop(columns=['family'])\n",
    "    y_train_current_family = y_train_without_promo.loc[current_family_indices_train]\n",
    "    scaler = MinMaxScaler()\n",
    "    X_train_current_family[['dcoilwtico']] = scaler.fit_transform(X_train_current_family[['dcoilwtico']])\n",
    "    model = PositiveRegressor(LinearRegression())\n",
    "    model.fit(X_train_current_family.drop(columns=['date']), y_train_current_family)\n",
    "    \n",
    "    X_test_current_family = test_data_without_promo[test_data_without_promo['family'] == current_family].drop(columns=['family'])\n",
    "    \n",
    "    X_test_current_family[['dcoilwtico']] = scaler.transform(X_test_current_family[['dcoilwtico']])\n",
    "    \n",
    "    previous_day = X_test_current_family['date'].unique()[0]\n",
    "    for current_day in X_test_current_family['date'].unique()[1:]:\n",
    "        X_test_for_current_day = X_test_current_family[X_test_current_family['date'] == previous_day].drop('date', axis=1)\n",
    "        predictions = model.predict(X_test_for_current_day)\n",
    "        predictions[predictions < 0] = 0\n",
    "        X_test_current_family.loc[X_test_current_family[X_test_current_family['date'] == current_day].index, 'lag_1'] = predictions\n",
    "        previous_day = current_day\n",
    "            \n",
    "    X_test_current_family = X_test_current_family.drop(columns=['date'])\n",
    "        \n",
    "    y_pred_current_family = model.predict(X_test_current_family)\n",
    "    y_pred_current_family[y_pred_current_family < 0] = 0\n",
    "        \n",
    "    test_indices = test_data_without_promo[test_data_without_promo['family'] == current_family].index\n",
    "    submission.loc[test_indices, 'sales'] = y_pred_current_family"
   ]
  },
  {
   "cell_type": "code",
   "execution_count": null,
   "id": "22342999",
   "metadata": {},
   "outputs": [],
   "source": [
    "submission.to_csv('./data/kaggle/store-sales-time-series-forecasting/linreg_dcoilwtico_lag_one_and_promo.csv', index = False)"
   ]
  },
  {
   "cell_type": "code",
   "execution_count": null,
   "id": "a2fa831b",
   "metadata": {},
   "outputs": [],
   "source": []
  },
  {
   "cell_type": "code",
   "execution_count": null,
   "id": "e7feff62",
   "metadata": {},
   "outputs": [],
   "source": []
  }
 ],
 "metadata": {
  "kernelspec": {
   "display_name": "Python 3",
   "language": "python",
   "name": "python3"
  },
  "language_info": {
   "codemirror_mode": {
    "name": "ipython",
    "version": 3
   },
   "file_extension": ".py",
   "mimetype": "text/x-python",
   "name": "python",
   "nbconvert_exporter": "python",
   "pygments_lexer": "ipython3",
   "version": "3.8.8"
  },
  "toc": {
   "base_numbering": 1,
   "nav_menu": {},
   "number_sections": true,
   "sideBar": true,
   "skip_h1_title": false,
   "title_cell": "Table of Contents",
   "title_sidebar": "Contents",
   "toc_cell": false,
   "toc_position": {},
   "toc_section_display": true,
   "toc_window_display": false
  }
 },
 "nbformat": 4,
 "nbformat_minor": 5
}
