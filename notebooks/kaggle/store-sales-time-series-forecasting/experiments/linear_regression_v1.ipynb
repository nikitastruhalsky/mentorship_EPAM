{
 "cells": [
  {
   "cell_type": "markdown",
   "id": "0667279e",
   "metadata": {},
   "source": [
    "# Experiments with linear models for all the train data"
   ]
  },
  {
   "cell_type": "code",
   "execution_count": null,
   "id": "492074bb",
   "metadata": {},
   "outputs": [],
   "source": [
    "import os\n",
    "os.chdir(os.environ['PROJECT_ROOT'])"
   ]
  },
  {
   "cell_type": "code",
   "execution_count": null,
   "id": "3e7800ca",
   "metadata": {},
   "outputs": [],
   "source": [
    "import warnings\n",
    "import numpy as np\n",
    "import pandas as pd\n",
    "import matplotlib.pyplot as plt\n",
    "import matplotlib.dates as mdates\n",
    "import seaborn as sns\n",
    "import sklearn\n",
    "import pdpipe as pdp\n",
    "from pdpipe import df\n",
    "from pathlib import Path\n",
    "from sklearn.linear_model import LinearRegression, Ridge, Lasso\n",
    "from sklearn.preprocessing import OneHotEncoder, MinMaxScaler\n",
    "from sklearn.pipeline import make_pipeline\n",
    "from sklearn.model_selection import cross_validate, cross_val_score, TimeSeriesSplit, GridSearchCV\n",
    "from sklearn.compose import ColumnTransformer\n",
    "from sklearn.metrics import mean_squared_log_error, mean_squared_error, mean_absolute_error, r2_score, mean_absolute_percentage_error\n",
    "\n",
    "%matplotlib inline\n",
    "warnings.simplefilter(action='ignore', category=FutureWarning)"
   ]
  },
  {
   "cell_type": "code",
   "execution_count": null,
   "id": "94082fbb",
   "metadata": {},
   "outputs": [],
   "source": [
    "DATA_ROOT = Path('data', 'kaggle', 'store-sales-time-series-forecasting')"
   ]
  },
  {
   "cell_type": "code",
   "execution_count": null,
   "id": "6a75808e",
   "metadata": {},
   "outputs": [],
   "source": [
    "train = pd.read_csv(DATA_ROOT / 'prepared_train.csv', low_memory=False)\n",
    "train.head()"
   ]
  },
  {
   "cell_type": "code",
   "execution_count": null,
   "id": "b2f263f7",
   "metadata": {},
   "outputs": [],
   "source": [
    "X = train[['store_nbr', 'family', 'onpromotion', 'dcoilwtico']]\n",
    "y = train['sales']\n",
    "print(X.shape, y.shape)"
   ]
  },
  {
   "cell_type": "code",
   "execution_count": null,
   "id": "904053a8",
   "metadata": {},
   "outputs": [],
   "source": [
    "categorical_columns = ['store_nbr', 'family']\n",
    "numerical_columns = X.columns.drop(categorical_columns)"
   ]
  },
  {
   "cell_type": "code",
   "execution_count": null,
   "id": "6f5368cc",
   "metadata": {},
   "outputs": [],
   "source": [
    "transform_pipeline = pdp.PdPipeline([\n",
    "        pdp.Scale('MinMaxScaler', numerical_columns),\n",
    "        pdp.OneHotEncode(categorical_columns),\n",
    "    ])"
   ]
  },
  {
   "cell_type": "code",
   "execution_count": null,
   "id": "1cc5a8b3",
   "metadata": {},
   "outputs": [],
   "source": [
    "X = transform_pipeline.apply(X)\n",
    "X.shape"
   ]
  },
  {
   "cell_type": "code",
   "execution_count": null,
   "id": "74aec17b",
   "metadata": {},
   "outputs": [],
   "source": [
    "ts_cv = TimeSeriesSplit(\n",
    "    n_splits=4,\n",
    "    gap=0,\n",
    "    max_train_size=365*54*33,\n",
    "    test_size=15*54*33,\n",
    ")"
   ]
  },
  {
   "cell_type": "code",
   "execution_count": null,
   "id": "f3652706",
   "metadata": {},
   "outputs": [],
   "source": [
    "def cv_algorithm(X=X, model_cv=LinearRegression()):\n",
    "    scores_RMSLE = []\n",
    "    scores_RMSE = []\n",
    "    scores_MAE = []\n",
    "    scores_MAPE = []\n",
    "    scores_R2 = []\n",
    "    for train_index, val_index in ts_cv.split(X):\n",
    "        X_train, X_val = X.iloc[train_index], X.iloc[val_index]\n",
    "        y_train, y_val = y[train_index], y[val_index]\n",
    "        #print(train.loc[train_index, 'date'], train.loc[val_index, 'date'])\n",
    "        model_cv.fit(X_train, y_train)\n",
    "        y_val_pred = model_cv.predict(X_val)\n",
    "        y_val_pred[y_val_pred < 0] = 0\n",
    "        scores_RMSLE.append(np.sqrt(mean_squared_log_error(y_val, y_val_pred)))\n",
    "        scores_RMSE.append(mean_squared_error(y_val, y_val_pred, squared=False))\n",
    "        scores_MAE.append(mean_absolute_error(y_val, y_val_pred))\n",
    "        scores_MAPE.append(mean_absolute_percentage_error(y_val, y_val_pred))\n",
    "        scores_R2.append(r2_score(y_val, y_val_pred))\n",
    "    print(f\"Root Mean Squared Log Error: {scores_RMSLE}\\n\"\n",
    "          f\"Root Mean Squared Error: {np.abs(scores_RMSE)}\\n\"\n",
    "          f\"Mean Absolute Error: {np.abs(scores_MAE)}\\n\"\n",
    "          f\"Mean Absolute Percentage Error: {np.abs(scores_MAPE)}\\n\"\n",
    "          f\"R-2: {scores_R2}\")"
   ]
  },
  {
   "cell_type": "markdown",
   "id": "28da83e7",
   "metadata": {},
   "source": [
    "# Linear Regression"
   ]
  },
  {
   "cell_type": "code",
   "execution_count": null,
   "id": "aee62f25",
   "metadata": {},
   "outputs": [],
   "source": [
    "cv_algorithm()"
   ]
  },
  {
   "cell_type": "code",
   "execution_count": null,
   "id": "c100b858",
   "metadata": {},
   "outputs": [],
   "source": [
    "model = LinearRegression()"
   ]
  },
  {
   "cell_type": "code",
   "execution_count": null,
   "id": "09546247",
   "metadata": {},
   "outputs": [],
   "source": [
    "scores_RMSE = cross_val_score(model, X, y, scoring='neg_root_mean_squared_error', cv=ts_cv)\n",
    "scores_MAE = cross_val_score(model, X, y, scoring='neg_mean_absolute_error', cv=ts_cv)\n",
    "scores_MAPE = cross_val_score(model, X, y, scoring='neg_mean_absolute_percentage_error', cv=ts_cv)\n",
    "scores_R2 = cross_val_score(model, X, y, scoring='r2', cv=ts_cv)\n",
    "print(\n",
    "    f\"Mean Absolute Error:     {-scores_MAE}\\n\"\n",
    "    f\"Root Mean Squared Error: {-scores_RMSE}\\n\"\n",
    "    f\"Mean Absolute Percentage Error: {-scores_MAPE}\\n\"\n",
    "    f\"R-2: {scores_R2}\"\n",
    ")"
   ]
  },
  {
   "cell_type": "code",
   "execution_count": null,
   "id": "c56f9058",
   "metadata": {},
   "outputs": [],
   "source": [
    "model.fit(X, y)\n",
    "model.coef_"
   ]
  },
  {
   "cell_type": "code",
   "execution_count": null,
   "id": "32fe8483",
   "metadata": {},
   "outputs": [],
   "source": [
    "oil_data = pd.read_csv(DATA_ROOT / 'oil.csv')"
   ]
  },
  {
   "cell_type": "code",
   "execution_count": null,
   "id": "84096086",
   "metadata": {},
   "outputs": [],
   "source": [
    "test_data = pd.read_csv(DATA_ROOT / 'test.csv', index_col = 'id')\n",
    "test_data = test_data.merge(oil_data, on='date', how='left')\n",
    "test_data['dcoilwtico'] = test_data['dcoilwtico'].fillna(method='ffill')\n",
    "test_data = test_data.drop('date', axis=1)\n",
    "test_data = transform_pipeline(test_data)\n",
    "test_data.shape"
   ]
  },
  {
   "cell_type": "code",
   "execution_count": null,
   "id": "eadef24c",
   "metadata": {},
   "outputs": [],
   "source": [
    "predictions = model.predict(test_data)"
   ]
  },
  {
   "cell_type": "code",
   "execution_count": null,
   "id": "a14d3b5e",
   "metadata": {},
   "outputs": [],
   "source": [
    "predictions[predictions < 0] = 0"
   ]
  },
  {
   "cell_type": "code",
   "execution_count": null,
   "id": "1d3669e8",
   "metadata": {},
   "outputs": [],
   "source": [
    "submission = pd.read_csv(DATA_ROOT / 'sample_submission.csv')\n",
    "submission['sales'] = predictions\n",
    "submission.to_csv('./data/kaggle/store-sales-time-series-forecasting/my_submission_03_08_2022.csv', index = False)"
   ]
  },
  {
   "cell_type": "code",
   "execution_count": null,
   "id": "eddd271a",
   "metadata": {},
   "outputs": [],
   "source": []
  },
  {
   "cell_type": "markdown",
   "id": "4d279761",
   "metadata": {},
   "source": [
    "# Ridge regression"
   ]
  },
  {
   "cell_type": "code",
   "execution_count": null,
   "id": "c047bf7a",
   "metadata": {},
   "outputs": [],
   "source": [
    "hyper_params = [{'alpha': np.linspace(63, 66, 10)}]"
   ]
  },
  {
   "cell_type": "code",
   "execution_count": null,
   "id": "37dde5fa",
   "metadata": {},
   "outputs": [],
   "source": [
    "model_ridge_grid = GridSearchCV(estimator = Ridge(),\n",
    "                                param_grid = hyper_params,\n",
    "                                cv = ts_cv,\n",
    "                                verbose = 1,\n",
    "                                return_train_score=True)\n",
    "model_ridge_grid.fit(X, y)\n",
    "model_ridge_grid.best_params_"
   ]
  },
  {
   "cell_type": "code",
   "execution_count": null,
   "id": "12cfeb94",
   "metadata": {},
   "outputs": [],
   "source": [
    "cv_algorithm(model_cv=Ridge(alpha=model_ridge_grid.best_params_['alpha']))"
   ]
  },
  {
   "cell_type": "code",
   "execution_count": null,
   "id": "376b1d04",
   "metadata": {},
   "outputs": [],
   "source": [
    "model_ridge = Ridge(alpha=model_ridge_grid.best_params_['alpha'])\n",
    "model_ridge.fit(X, y)\n",
    "model_ridge.coef_"
   ]
  },
  {
   "cell_type": "code",
   "execution_count": null,
   "id": "36270b3c",
   "metadata": {},
   "outputs": [],
   "source": [
    "predictions_ridge = model_ridge.predict(test_data)\n",
    "predictions_ridge[predictions_ridge < 0] = 0"
   ]
  },
  {
   "cell_type": "code",
   "execution_count": null,
   "id": "b3a8f397",
   "metadata": {},
   "outputs": [],
   "source": [
    "submission = pd.read_csv(DATA_ROOT / 'sample_submission.csv')\n",
    "submission['sales'] = predictions_ridge\n",
    "submission.to_csv('./data/kaggle/store-sales-time-series-forecasting/my_submission_ridge_regression.csv', index = False)"
   ]
  },
  {
   "cell_type": "code",
   "execution_count": null,
   "id": "e94776a0",
   "metadata": {},
   "outputs": [],
   "source": []
  },
  {
   "cell_type": "markdown",
   "id": "767ef80f",
   "metadata": {},
   "source": [
    "# Lasso Regression"
   ]
  },
  {
   "cell_type": "code",
   "execution_count": null,
   "id": "b408e5eb",
   "metadata": {},
   "outputs": [],
   "source": [
    "hyper_params_lasso = [{'alpha': np.linspace(0.45, 0.7, 10)}]"
   ]
  },
  {
   "cell_type": "code",
   "execution_count": null,
   "id": "9086bfe8",
   "metadata": {},
   "outputs": [],
   "source": [
    "model_lasso_grid = GridSearchCV(estimator = Lasso(),\n",
    "                                param_grid = hyper_params_lasso,\n",
    "                                cv = ts_cv,\n",
    "                                verbose = 1,\n",
    "                                return_train_score=True)\n",
    "model_lasso_grid.fit(X, y)\n",
    "model_lasso_grid.best_params_"
   ]
  },
  {
   "cell_type": "code",
   "execution_count": null,
   "id": "32b7951d",
   "metadata": {},
   "outputs": [],
   "source": [
    "cv_algorithm(model_cv=Lasso(alpha=model_lasso_grid.best_params_['alpha']))"
   ]
  },
  {
   "cell_type": "code",
   "execution_count": null,
   "id": "73ded4ea",
   "metadata": {},
   "outputs": [],
   "source": []
  },
  {
   "cell_type": "markdown",
   "id": "adf8bf08",
   "metadata": {},
   "source": [
    "# Linear Regression + time step feature"
   ]
  },
  {
   "cell_type": "code",
   "execution_count": null,
   "id": "c9770939",
   "metadata": {},
   "outputs": [],
   "source": [
    "X_copy = X.copy()"
   ]
  },
  {
   "cell_type": "code",
   "execution_count": null,
   "id": "32f1344a",
   "metadata": {},
   "outputs": [],
   "source": [
    "X_copy['Time'] = np.arange(len(X_copy.index))\n",
    "X_copy.head()"
   ]
  },
  {
   "cell_type": "code",
   "execution_count": null,
   "id": "0be79841",
   "metadata": {
    "scrolled": false
   },
   "outputs": [],
   "source": [
    "cv_algorithm(X=X_copy)"
   ]
  },
  {
   "cell_type": "code",
   "execution_count": null,
   "id": "c481992b",
   "metadata": {},
   "outputs": [],
   "source": []
  },
  {
   "cell_type": "code",
   "execution_count": null,
   "id": "063c31fc",
   "metadata": {},
   "outputs": [],
   "source": []
  },
  {
   "cell_type": "code",
   "execution_count": null,
   "id": "1108cbf6",
   "metadata": {},
   "outputs": [],
   "source": []
  }
 ],
 "metadata": {
  "kernelspec": {
   "display_name": "Python 3",
   "language": "python",
   "name": "python3"
  },
  "language_info": {
   "codemirror_mode": {
    "name": "ipython",
    "version": 3
   },
   "file_extension": ".py",
   "mimetype": "text/x-python",
   "name": "python",
   "nbconvert_exporter": "python",
   "pygments_lexer": "ipython3",
   "version": "3.8.8"
  }
 },
 "nbformat": 4,
 "nbformat_minor": 5
}
