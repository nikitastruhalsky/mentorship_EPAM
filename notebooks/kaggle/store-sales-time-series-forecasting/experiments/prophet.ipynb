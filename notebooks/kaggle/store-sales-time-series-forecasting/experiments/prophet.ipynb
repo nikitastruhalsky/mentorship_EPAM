{
 "cells": [
  {
   "cell_type": "code",
   "execution_count": null,
   "id": "acb441b0",
   "metadata": {},
   "outputs": [],
   "source": [
    "import os\n",
    "os.chdir(os.environ['PROJECT_ROOT'])"
   ]
  },
  {
   "cell_type": "code",
   "execution_count": null,
   "id": "8fd7c34f",
   "metadata": {},
   "outputs": [],
   "source": [
    "import pandas as pd\n",
    "from prophet import Prophet\n",
    "from pathlib import Path"
   ]
  },
  {
   "cell_type": "code",
   "execution_count": null,
   "id": "45c31fbb",
   "metadata": {},
   "outputs": [],
   "source": [
    "DATA_ROOT = Path('data', 'kaggle', 'store-sales-time-series-forecasting')"
   ]
  },
  {
   "cell_type": "code",
   "execution_count": null,
   "id": "500c3ef8",
   "metadata": {},
   "outputs": [],
   "source": [
    "train = pd.read_csv(DATA_ROOT / 'prepared_train.csv', low_memory=False)\n",
    "train.head()"
   ]
  },
  {
   "cell_type": "code",
   "execution_count": null,
   "id": "8df45cc3",
   "metadata": {},
   "outputs": [],
   "source": [
    "train_prepared_data = train[['date', 'sales', 'store_nbr', 'family']].rename(columns={'date': 'ds', 'sales': 'y'})\n",
    "train_prepared_data.dtypes"
   ]
  },
  {
   "cell_type": "code",
   "execution_count": null,
   "id": "fe919d84",
   "metadata": {},
   "outputs": [],
   "source": [
    "train_prepared_data.head()"
   ]
  },
  {
   "cell_type": "code",
   "execution_count": null,
   "id": "887b22f8",
   "metadata": {},
   "outputs": [],
   "source": [
    "test = pd.read_csv(DATA_ROOT / 'test.csv')\n",
    "test.head()"
   ]
  },
  {
   "cell_type": "code",
   "execution_count": null,
   "id": "c093add2",
   "metadata": {},
   "outputs": [],
   "source": [
    "test_prepared_data = test.drop(['onpromotion', 'id'], axis=1)\n",
    "test_prepared_data['family'] = test_prepared_data['family'].str.lower()"
   ]
  },
  {
   "cell_type": "code",
   "execution_count": null,
   "id": "eee5cbc3",
   "metadata": {},
   "outputs": [],
   "source": [
    "test_prepared_data.head()"
   ]
  },
  {
   "cell_type": "code",
   "execution_count": null,
   "id": "fa3fe98a",
   "metadata": {},
   "outputs": [],
   "source": [
    "test_prepared_data = test_prepared_data.rename(columns={'date': 'ds'})"
   ]
  },
  {
   "cell_type": "code",
   "execution_count": null,
   "id": "4a8da342",
   "metadata": {},
   "outputs": [],
   "source": [
    "submission = pd.read_csv(DATA_ROOT / 'sample_submission.csv')"
   ]
  },
  {
   "cell_type": "code",
   "execution_count": null,
   "id": "d69ecb31",
   "metadata": {
    "scrolled": true
   },
   "outputs": [],
   "source": [
    "for family in train_prepared_data['family'].unique():\n",
    "    for store_nbr in train_prepared_data['store_nbr'].unique():\n",
    "        X_train = train_prepared_data.loc[(train_prepared_data['family'] == family) & (train_prepared_data['store_nbr'] == store_nbr)]\n",
    "        model = Prophet()\n",
    "        model.fit(X_train)\n",
    "        test_indexer = test_prepared_data.loc[(train_prepared_data['family'] == family) & (train_prepared_data['store_nbr'] == store_nbr)].index\n",
    "        X_test = test_prepared_data.loc[(train_prepared_data['family'] == family) & (train_prepared_data['store_nbr'] == store_nbr)]\n",
    "        X_test = X_test.drop(['store_nbr', 'family'], axis=1)\n",
    "        submission.loc[test_indexer, 'sales'] = list(model.predict(X_test)['yhat'])"
   ]
  },
  {
   "cell_type": "code",
   "execution_count": null,
   "id": "8d5ecf91",
   "metadata": {},
   "outputs": [],
   "source": [
    "submission[submission['sales'] < 0]['sales'] = 0"
   ]
  },
  {
   "cell_type": "code",
   "execution_count": null,
   "id": "5d71b958",
   "metadata": {},
   "outputs": [],
   "source": [
    "submission.to_csv('./data/kaggle/store-sales-time-series-forecasting/simplest_prophet.csv', index = False)"
   ]
  },
  {
   "cell_type": "code",
   "execution_count": null,
   "id": "8b9a118a",
   "metadata": {},
   "outputs": [],
   "source": []
  },
  {
   "cell_type": "code",
   "execution_count": null,
   "id": "a01bf24f",
   "metadata": {},
   "outputs": [],
   "source": [
    "train_prepared_data_copy = train_prepared_data.copy()"
   ]
  },
  {
   "cell_type": "code",
   "execution_count": null,
   "id": "4eee313c",
   "metadata": {},
   "outputs": [],
   "source": [
    "border_index = list(train_prepared_data_copy[train_prepared_data_copy['ds'] == '2015-05-01'].index)[0]\n",
    "border_index"
   ]
  },
  {
   "cell_type": "code",
   "execution_count": null,
   "id": "30162c3b",
   "metadata": {},
   "outputs": [],
   "source": [
    "train_prepared_data_copy = train_prepared_data_copy.loc[border_index: , :]"
   ]
  },
  {
   "cell_type": "code",
   "execution_count": null,
   "id": "cadd42fe",
   "metadata": {},
   "outputs": [],
   "source": [
    "train_prepared_data_copy"
   ]
  },
  {
   "cell_type": "code",
   "execution_count": null,
   "id": "574345bf",
   "metadata": {},
   "outputs": [],
   "source": [
    "holidays_data = pd.read_csv(DATA_ROOT / 'holidays_events.csv')\n",
    "holidays_data.head()"
   ]
  },
  {
   "cell_type": "code",
   "execution_count": null,
   "id": "dfc59ef1",
   "metadata": {},
   "outputs": [],
   "source": [
    "holidays_events_data = pd.DataFrame({\n",
    "    'holiday': 'holidays_events',\n",
    "    'ds': pd.to_datetime(holidays_data[(holidays_data['transferred'] == False) & (holidays_data['date'] >= '2015-05-01')]['date'].unique()),\n",
    "    'lower_window': 0,\n",
    "    'upper_window': 0,\n",
    "})"
   ]
  },
  {
   "cell_type": "code",
   "execution_count": null,
   "id": "be79c2a2",
   "metadata": {
    "scrolled": true
   },
   "outputs": [],
   "source": [
    "for family in train_prepared_data_copy['family'].unique():\n",
    "    for store_nbr in train_prepared_data_copy['store_nbr'].unique():\n",
    "        X_train = train_prepared_data_copy.loc[(train_prepared_data_copy['family'] == family) & (train_prepared_data_copy['store_nbr'] == store_nbr)]\n",
    "        X_train = X_train.drop(['store_nbr', 'family'], axis=1)\n",
    "        model = Prophet()\n",
    "        model.fit(X_train)\n",
    "        test_indexer = test_prepared_data.loc[(test_prepared_data['family'] == family) & (test_prepared_data['store_nbr'] == store_nbr)].index\n",
    "        X_test = test_prepared_data.loc[(test_prepared_data['family'] == family) & (test_prepared_data['store_nbr'] == store_nbr)]\n",
    "        X_test = X_test.drop(['store_nbr', 'family'], axis=1)\n",
    "        submission.loc[test_indexer, 'sales'] = list(model.predict(X_test)['yhat'])"
   ]
  },
  {
   "cell_type": "code",
   "execution_count": null,
   "id": "ae052d59",
   "metadata": {},
   "outputs": [],
   "source": [
    "submission.loc[list(submission[submission['sales'] < 0].index), 'sales'] = 0"
   ]
  },
  {
   "cell_type": "code",
   "execution_count": null,
   "id": "fea333ad",
   "metadata": {},
   "outputs": [],
   "source": [
    "submission.to_csv('./data/kaggle/store-sales-time-series-forecasting/simple_prophet_with_smaller_dataset.csv', index = False)"
   ]
  },
  {
   "cell_type": "code",
   "execution_count": null,
   "id": "a9ad7571",
   "metadata": {},
   "outputs": [],
   "source": []
  }
 ],
 "metadata": {
  "kernelspec": {
   "display_name": "Python 3",
   "language": "python",
   "name": "python3"
  },
  "language_info": {
   "codemirror_mode": {
    "name": "ipython",
    "version": 3
   },
   "file_extension": ".py",
   "mimetype": "text/x-python",
   "name": "python",
   "nbconvert_exporter": "python",
   "pygments_lexer": "ipython3",
   "version": "3.8.8"
  }
 },
 "nbformat": 4,
 "nbformat_minor": 5
}
