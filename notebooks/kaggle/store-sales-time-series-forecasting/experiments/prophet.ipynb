{
 "cells": [
  {
   "cell_type": "code",
   "execution_count": null,
   "id": "acb441b0",
   "metadata": {},
   "outputs": [],
   "source": [
    "import os\n",
    "os.chdir(os.environ['PROJECT_ROOT'])"
   ]
  },
  {
   "cell_type": "code",
   "execution_count": null,
   "id": "8fd7c34f",
   "metadata": {},
   "outputs": [],
   "source": [
    "import pandas as pd\n",
    "from prophet import Prophet\n",
    "from pathlib import Path"
   ]
  },
  {
   "cell_type": "code",
   "execution_count": null,
   "id": "45c31fbb",
   "metadata": {},
   "outputs": [],
   "source": [
    "DATA_ROOT = Path('data', 'kaggle', 'store-sales-time-series-forecasting')"
   ]
  },
  {
   "cell_type": "code",
   "execution_count": null,
   "id": "500c3ef8",
   "metadata": {},
   "outputs": [],
   "source": [
    "train = pd.read_csv(DATA_ROOT / 'prepared_train.csv', low_memory=False)\n",
    "train.head()"
   ]
  },
  {
   "cell_type": "code",
   "execution_count": null,
   "id": "8df45cc3",
   "metadata": {},
   "outputs": [],
   "source": [
    "train_prepared_data = train[['date', 'sales']].rename(columns={'date': 'ds', 'sales': 'y'})\n",
    "train_prepared_data = train_prepared_data.groupby('ds').median().reset_index()\n",
    "train_prepared_data['ds'] = pd.to_datetime(train_prepared_data['ds'])\n",
    "train_prepared_data.dtypes"
   ]
  },
  {
   "cell_type": "code",
   "execution_count": null,
   "id": "fe919d84",
   "metadata": {},
   "outputs": [],
   "source": [
    "train_prepared_data.head()"
   ]
  },
  {
   "cell_type": "code",
   "execution_count": null,
   "id": "b426ce00",
   "metadata": {},
   "outputs": [],
   "source": [
    "model = Prophet()"
   ]
  },
  {
   "cell_type": "code",
   "execution_count": null,
   "id": "6c6d6488",
   "metadata": {},
   "outputs": [],
   "source": [
    "df = pd.DataFrame(data={'ds': pd.date_range('2013-01-01', '2013-01-07', freq='1d'), 'y': range(7)})"
   ]
  },
  {
   "cell_type": "code",
   "execution_count": null,
   "id": "203ad59f",
   "metadata": {},
   "outputs": [],
   "source": [
    "model.fit(train_prepared_data)"
   ]
  },
  {
   "cell_type": "code",
   "execution_count": null,
   "id": "887b22f8",
   "metadata": {},
   "outputs": [],
   "source": [
    "test = pd.read_csv(DATA_ROOT / 'test.csv')\n",
    "test.head()"
   ]
  },
  {
   "cell_type": "code",
   "execution_count": null,
   "id": "c093add2",
   "metadata": {},
   "outputs": [],
   "source": [
    "test_prepared_data = test.rename(columns={'date': 'ds'})"
   ]
  },
  {
   "cell_type": "code",
   "execution_count": null,
   "id": "7c2bfb0f",
   "metadata": {},
   "outputs": [],
   "source": [
    "X_test = pd.DataFrame(data=test_prepared_data['ds'])"
   ]
  },
  {
   "cell_type": "code",
   "execution_count": null,
   "id": "19e86230",
   "metadata": {},
   "outputs": [],
   "source": [
    "X_test.head()"
   ]
  },
  {
   "cell_type": "code",
   "execution_count": null,
   "id": "4936d001",
   "metadata": {},
   "outputs": [],
   "source": [
    "forecasts = model.predict(X_test)"
   ]
  },
  {
   "cell_type": "code",
   "execution_count": null,
   "id": "2700e08f",
   "metadata": {},
   "outputs": [],
   "source": [
    "forecasts.head()"
   ]
  },
  {
   "cell_type": "code",
   "execution_count": null,
   "id": "96ce0105",
   "metadata": {},
   "outputs": [],
   "source": [
    "forecasts[forecasts['yhat'] < 0] = 0"
   ]
  },
  {
   "cell_type": "code",
   "execution_count": null,
   "id": "8d5ecf91",
   "metadata": {},
   "outputs": [],
   "source": [
    "submission = pd.read_csv(DATA_ROOT / 'sample_submission.csv')\n",
    "submission.loc[:, 'sales'] = forecasts['yhat']"
   ]
  },
  {
   "cell_type": "code",
   "execution_count": null,
   "id": "5d71b958",
   "metadata": {},
   "outputs": [],
   "source": [
    "submission.to_csv('./data/kaggle/store-sales-time-series-forecasting/simplest_prophet.csv', index = False)"
   ]
  },
  {
   "cell_type": "code",
   "execution_count": null,
   "id": "9315ade8",
   "metadata": {},
   "outputs": [],
   "source": []
  }
 ],
 "metadata": {
  "kernelspec": {
   "display_name": "Python 3",
   "language": "python",
   "name": "python3"
  },
  "language_info": {
   "codemirror_mode": {
    "name": "ipython",
    "version": 3
   },
   "file_extension": ".py",
   "mimetype": "text/x-python",
   "name": "python",
   "nbconvert_exporter": "python",
   "pygments_lexer": "ipython3",
   "version": "3.8.8"
  }
 },
 "nbformat": 4,
 "nbformat_minor": 5
}
