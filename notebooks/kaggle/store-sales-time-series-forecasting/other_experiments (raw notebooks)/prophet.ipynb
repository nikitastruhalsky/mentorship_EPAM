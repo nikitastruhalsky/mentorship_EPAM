{
 "cells": [
  {
   "cell_type": "markdown",
   "id": "74b7a66d",
   "metadata": {},
   "source": [
    "# Simplest Prophet ('ds', 'y')"
   ]
  },
  {
   "cell_type": "code",
   "execution_count": null,
   "id": "acb441b0",
   "metadata": {},
   "outputs": [],
   "source": [
    "import os\n",
    "os.chdir(os.environ['PROJECT_ROOT'])"
   ]
  },
  {
   "cell_type": "code",
   "execution_count": null,
   "id": "8fd7c34f",
   "metadata": {},
   "outputs": [],
   "source": [
    "import numpy as np\n",
    "import pandas as pd\n",
    "from prophet import Prophet\n",
    "from pathlib import Path\n",
    "from sklearn.model_selection import TimeSeriesSplit\n",
    "from sklearn.metrics import mean_squared_log_error, mean_squared_error, mean_absolute_error, r2_score, mean_absolute_percentage_error\n",
    "from mentorship.ml.cv.split import DateTimeSeriesSplit"
   ]
  },
  {
   "cell_type": "code",
   "execution_count": null,
   "id": "45c31fbb",
   "metadata": {},
   "outputs": [],
   "source": [
    "DATA_ROOT = Path('data', 'kaggle', 'store-sales-time-series-forecasting')"
   ]
  },
  {
   "cell_type": "code",
   "execution_count": null,
   "id": "500c3ef8",
   "metadata": {},
   "outputs": [],
   "source": [
    "train = pd.read_csv(DATA_ROOT / 'train.csv')\n",
    "train.head()"
   ]
  },
  {
   "cell_type": "code",
   "execution_count": null,
   "id": "8df45cc3",
   "metadata": {},
   "outputs": [],
   "source": [
    "train = train[['date', 'sales', 'store_nbr', 'family']].rename(columns={'date': 'ds', 'sales': 'y'})\n",
    "train['family'] = train['family'].str.lower()\n",
    "train.head()"
   ]
  },
  {
   "cell_type": "code",
   "execution_count": null,
   "id": "7f3d8c6f",
   "metadata": {},
   "outputs": [],
   "source": [
    "X = train.copy()"
   ]
  },
  {
   "cell_type": "code",
   "execution_count": null,
   "id": "6cfc53c8",
   "metadata": {},
   "outputs": [],
   "source": [
    "y = X['y'].copy()"
   ]
  },
  {
   "cell_type": "code",
   "execution_count": null,
   "id": "f1d1ec76",
   "metadata": {},
   "outputs": [],
   "source": [
    "tscv = TimeSeriesSplit(gap=0, max_train_size=365 * X['family'].nunique() * X['store_nbr'].nunique(), n_splits=4, test_size=15 * X['family'].nunique() * X['store_nbr'].nunique())"
   ]
  },
  {
   "cell_type": "code",
   "execution_count": null,
   "id": "84e8d004",
   "metadata": {},
   "outputs": [],
   "source": [
    "splitter = DateTimeSeriesSplit()"
   ]
  },
  {
   "cell_type": "code",
   "execution_count": null,
   "id": "60464e30",
   "metadata": {},
   "outputs": [],
   "source": [
    "for train_indices, test_indices in tscv.split(X, y):\n",
    "    X_train = X.iloc[train_indices]\n",
    "    X_test = X.iloc[test_indices]\n",
    "    \n",
    "    scores_RMSLE = []\n",
    "    scores_RMSE = []\n",
    "    scores_MAE = []\n",
    "    scores_R2 = []\n",
    "\n",
    "    for current_family in X['family'].unique():\n",
    "        for current_store_nbr in X['store_nbr'].unique():\n",
    "            X_current_train = X_train[(X_train['family'] == current_family) & (X_train['store_nbr'] == current_store_nbr)].drop(columns=['family', 'store_nbr'])\n",
    "            model = Prophet()\n",
    "            model.fit(X_current_train)\n",
    "        \n",
    "            current_test_indices = X_test[(X_test['family'] == current_family) & (X_test['store_nbr'] == current_store_nbr)].index\n",
    "            X_current_test = X_test[(X_test['family'] == current_family) & (X_test['store_nbr'] == current_store_nbr)].drop(columns=['family'])\n",
    "            y_current_pred = model.predict(X_current_test)['yhat']\n",
    "            y_current_pred[y_current_pred < 0] = 0\n",
    "            y_current_test = y.loc[current_test_indices]\n",
    "        \n",
    "            scores_RMSLE.append(np.sqrt(mean_squared_log_error(y_current_test, y_current_pred)))\n",
    "            scores_RMSE.append(mean_squared_error(y_current_test, y_current_pred, squared=False))\n",
    "            scores_MAE.append(mean_absolute_error(y_current_test, y_current_pred))\n",
    "            scores_R2.append(r2_score(y_current_test, y_current_pred))\n",
    "          \n",
    "    print(mean(scores_RMSLE), mean(scores_RMSE), mean(scores_MAE), mean(scores_R2))"
   ]
  },
  {
   "cell_type": "code",
   "execution_count": null,
   "id": "fe919d84",
   "metadata": {},
   "outputs": [],
   "source": [
    "test = pd.read_csv(DATA_ROOT / 'test.csv')\n",
    "test.head()"
   ]
  },
  {
   "cell_type": "code",
   "execution_count": null,
   "id": "887b22f8",
   "metadata": {},
   "outputs": [],
   "source": [
    "test_prepared_data = test.drop(['onpromotion', 'id'], axis=1)\n",
    "test_prepared_data['family'] = test_prepared_data['family'].str.lower()\n",
    "test_prepared_data = test_prepared_data.rename(columns={'date': 'ds'})\n",
    "test_prepared_data.head()"
   ]
  },
  {
   "cell_type": "code",
   "execution_count": null,
   "id": "4a8da342",
   "metadata": {},
   "outputs": [],
   "source": [
    "submission = pd.read_csv(DATA_ROOT / 'sample_submission.csv')"
   ]
  },
  {
   "cell_type": "code",
   "execution_count": null,
   "id": "d69ecb31",
   "metadata": {
    "scrolled": true
   },
   "outputs": [],
   "source": [
    "for family in train_prepared_data['family'].unique():\n",
    "    for store_nbr in train_prepared_data['store_nbr'].unique():\n",
    "        X_train = train_prepared_data.loc[(train_prepared_data['family'] == family) & (train_prepared_data['store_nbr'] == store_nbr)]\n",
    "        model = Prophet()\n",
    "        model.fit(X_train)\n",
    "        test_indexer = test_prepared_data.loc[(train_prepared_data['family'] == family) & (train_prepared_data['store_nbr'] == store_nbr)].index\n",
    "        X_test = test_prepared_data.loc[(train_prepared_data['family'] == family) & (train_prepared_data['store_nbr'] == store_nbr)]\n",
    "        X_test = X_test.drop(['store_nbr', 'family'], axis=1)\n",
    "        submission.loc[test_indexer, 'sales'] = list(model.predict(X_test)['yhat'])"
   ]
  },
  {
   "cell_type": "code",
   "execution_count": null,
   "id": "8d5ecf91",
   "metadata": {},
   "outputs": [],
   "source": [
    "submission[submission['sales'] < 0]['sales'] = 0"
   ]
  },
  {
   "cell_type": "code",
   "execution_count": null,
   "id": "5d71b958",
   "metadata": {},
   "outputs": [],
   "source": [
    "submission.to_csv('./data/kaggle/store-sales-time-series-forecasting/simplest_prophet.csv', index = False)"
   ]
  },
  {
   "cell_type": "code",
   "execution_count": null,
   "id": "8b9a118a",
   "metadata": {},
   "outputs": [],
   "source": []
  },
  {
   "cell_type": "code",
   "execution_count": null,
   "id": "e77b3bd8",
   "metadata": {},
   "outputs": [],
   "source": []
  },
  {
   "cell_type": "markdown",
   "id": "f2f8d940",
   "metadata": {},
   "source": [
    "# Prophet with holidays"
   ]
  },
  {
   "cell_type": "code",
   "execution_count": null,
   "id": "a01bf24f",
   "metadata": {},
   "outputs": [],
   "source": [
    "X = train.copy()\n",
    "y = X['y'].copy()"
   ]
  },
  {
   "cell_type": "code",
   "execution_count": null,
   "id": "4eee313c",
   "metadata": {},
   "outputs": [],
   "source": [
    "first_day_of_last_year = pd.to_datetime(X['ds'].unique()[-1]) - pd.Timedelta(days=365)\n",
    "indexer = X[X['ds'] >= str(first_day_of_last_year).split(' ')[0]].index\n",
    "X_train = X[X['ds'] >= str(first_day_of_last_year).split(' ')[0]]\n",
    "y_train = y.loc[indexer]"
   ]
  },
  {
   "cell_type": "code",
   "execution_count": null,
   "id": "574345bf",
   "metadata": {},
   "outputs": [],
   "source": [
    "holidays_data = pd.read_csv(DATA_ROOT / 'holidays_events.csv')\n",
    "holidays_data.head()"
   ]
  },
  {
   "cell_type": "code",
   "execution_count": null,
   "id": "dfc59ef1",
   "metadata": {},
   "outputs": [],
   "source": [
    "holidays_events_data = pd.DataFrame({\n",
    "    'holiday': 'holidays_events',\n",
    "    'ds': pd.to_datetime(holidays_data[(holidays_data['transferred'] == False) & (holidays_data['date'] >= str(first_day_of_last_year))]['date'].unique()),\n",
    "    'lower_window': 0,\n",
    "    'upper_window': 0,\n",
    "})"
   ]
  },
  {
   "cell_type": "code",
   "execution_count": null,
   "id": "9ddc4ee7",
   "metadata": {},
   "outputs": [],
   "source": [
    "test_data = pd.read_csv(DATA_ROOT / 'test.csv')\n",
    "test_data = test_data.drop(columns=['onpromotion', 'id'])\n",
    "test_data['family'] = test_data['family'].str.lower()\n",
    "test_data = test_data.rename(columns={'date': 'ds'})\n",
    "test_data.head()"
   ]
  },
  {
   "cell_type": "code",
   "execution_count": null,
   "id": "721f49ed",
   "metadata": {},
   "outputs": [],
   "source": [
    "submission = pd.read_csv(DATA_ROOT / 'sample_submission.csv')"
   ]
  },
  {
   "cell_type": "code",
   "execution_count": null,
   "id": "be79c2a2",
   "metadata": {
    "scrolled": true
   },
   "outputs": [],
   "source": [
    "number = 1\n",
    "for family in train_prepared_data_copy['family'].unique():\n",
    "    for store_nbr in train_prepared_data_copy['store_nbr'].unique():\n",
    "        print(number)\n",
    "        X_current_train = X_train.loc[(X_train['family'] == family) & (X_train['store_nbr'] == store_nbr)]\n",
    "        X_current_train = X_current_train.drop(['store_nbr', 'family'], axis=1)\n",
    "        model = Prophet(holidays=holidays_events_data)\n",
    "        model.fit(X_current_train)\n",
    "        test_indexer = test_data.loc[(test_data['family'] == family) & (test_data['store_nbr'] == store_nbr)].index\n",
    "        X_test = test_data.loc[(test_data['family'] == family) & (test_data['store_nbr'] == store_nbr)]\n",
    "        X_test = X_test.drop(columns=['store_nbr', 'family'])\n",
    "        submission.loc[test_indexer, 'sales'] = list(model.predict(X_test)['yhat'])\n",
    "        number += 1"
   ]
  },
  {
   "cell_type": "code",
   "execution_count": null,
   "id": "ae052d59",
   "metadata": {},
   "outputs": [],
   "source": [
    "submission.loc[list(submission[submission['sales'] < 0].index), 'sales'] = 0"
   ]
  },
  {
   "cell_type": "code",
   "execution_count": null,
   "id": "fea333ad",
   "metadata": {},
   "outputs": [],
   "source": [
    "submission.to_csv('./data/kaggle/store-sales-time-series-forecasting/simple_prophet_with_holidays.csv', index = False)"
   ]
  },
  {
   "cell_type": "code",
   "execution_count": null,
   "id": "a9ad7571",
   "metadata": {},
   "outputs": [],
   "source": []
  }
 ],
 "metadata": {
  "kernelspec": {
   "display_name": "Python 3 (ipykernel)",
   "language": "python",
   "name": "python3"
  },
  "language_info": {
   "codemirror_mode": {
    "name": "ipython",
    "version": 3
   },
   "file_extension": ".py",
   "mimetype": "text/x-python",
   "name": "python",
   "nbconvert_exporter": "python",
   "pygments_lexer": "ipython3",
   "version": "3.8.15"
  }
 },
 "nbformat": 4,
 "nbformat_minor": 5
}
